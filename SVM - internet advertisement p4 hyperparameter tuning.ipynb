{
  "nbformat": 4,
  "nbformat_minor": 0,
  "metadata": {
    "colab": {
      "provenance": []
    },
    "kernelspec": {
      "name": "python3",
      "display_name": "Python 3"
    },
    "language_info": {
      "name": "python"
    }
  },
  "cells": [
    {
      "cell_type": "markdown",
      "metadata": {
        "id": "q3pyBW5-NjiW"
      },
      "source": [
        "# Lesson 91: Hyperparameter Tuning"
      ]
    },
    {
      "cell_type": "markdown",
      "metadata": {
        "id": "nMyG6o7bOtXX"
      },
      "source": [
        "### Teacher-Student Activities\n",
        "\n",
        "In the previous classes, you learned to create a dummy dataset with python. In this class, you will learn to create a regression model using SVM. Also, you will get to learn to find the best values of parameters of a machine learning model so that it makes the most accurate predictions.\n",
        "\n",
        "Let's quickly go through the activities covered in the previous class and start this lesson from **Activity 1: SVR - Model Building** section.\n",
        "\n"
      ]
    },
    {
      "cell_type": "markdown",
      "metadata": {
        "id": "iJDraPLEOscc"
      },
      "source": [
        "---"
      ]
    },
    {
      "cell_type": "markdown",
      "metadata": {
        "id": "pDz8Sevel0xm"
      },
      "source": [
        "#### Support Vector Regression (SVR)\n",
        "\n",
        "Support Vector Machines (SVM), other than classification, are used to solve regression problems as well by building models called **Support Vector Regressor (SVR)**. You already know that in regression we try to predict continuous numeric values.\n",
        "\n",
        "In SVR, the idea is to enclose the errors between the actual and predicted values within a certain range of values called margins whereas in Linear Regression the idea is to minimise the sum of squared errors through the Ordinary Least Square (OLS) method.\n",
        "\n",
        "Hence, in SVR we can define how much error is acceptable using the width of the margins.\n",
        "\n",
        "SVR is used for both linear and non-linear regression.\n",
        "\n",
        "Let's now learn to solve a regression problem through an SVR model. For that, let's first create a dummy DataFrame. \n",
        "\n",
        "To create a dummy DataFrame for regression:\n",
        "\n",
        "1. Create two arrays using the `make_regression()` function of the `sklearn.datasets` module. The syntax for the `make_regression()` function is as follows:\n",
        "\n",
        "   **Syntax:** `make_regression(n_samples, n_features,  n_informative, n_targets,  random_state)`\n",
        "\n",
        "   where,\n",
        "\n",
        "   - `n_samples`- Determines the number of records to be generated in a dataset\n",
        "\n",
        "   - `n_features` - Determines the number of features (or independent variables) to be generated in the dataset\n",
        "\n",
        "- `n_informative` - Determines the number of features contributing to the prediction of the target variable required to build a regression model\n",
        "\n",
        "- `n_targets` - Determines the number of target (or dependent) variables\n",
        "\n",
        "- `random_state`- Determines whether the same set of random values to be generated over and over instead of new ones. An integer value of the `random_state` parameter will produce the same results across different function calls. Popular integer random seeds are 0 and 42\n",
        "\n",
        "The function will return two arrays. You can store these two arrays in two variables, say `reg_feat` and `reg_target`, where the former contains features (or independent variables) and the latter contains the target or (dependent variable).\n",
        "\n",
        "Let's create dummy data using the `make_regression()` function and print the number of rows and columns in the arrays created as the output of the function.\n"
      ]
    },
    {
      "cell_type": "code",
      "metadata": {
        "id": "nfM-x_D-maJS",
        "colab": {
          "base_uri": "https://localhost:8080/"
        },
        "outputId": "22e9ade1-e420-4f75-b74c-dbad167b2ea3"
      },
      "source": [
        "# Create two arrays using the 'make_regression()' function and store them in the 'reg_feat' and 'reg_target' variables.\n",
        "from sklearn.datasets import make_regression\n",
        "import pandas as pd\n",
        "import numpy as np\n",
        "\n",
        "reg_feat, reg_target = make_regression(n_samples = 30, n_features = 5, n_informative = 2, n_targets = 1, random_state = 12)\n",
        "# Why 30 samples? Recall that in CLT, we learnt that for at least 30 samples, the sampling distribution follows the normal distribution (bell curve)\n",
        "\n",
        "# Print the object-type of the arrays created by the 'make_blob()' function and the number of rows and columns in them.\n",
        "print(f\"The features array has {reg_feat.shape[0]} rows and {reg_feat.shape[1]} columns.\")\n",
        "print(f\"The target array has {reg_target.shape[0]} rows and {len(reg_target.shape)} column.\")"
      ],
      "execution_count": null,
      "outputs": [
        {
          "output_type": "stream",
          "name": "stdout",
          "text": [
            "The features array has 30 rows and 5 columns.\n",
            "The target array has 30 rows and 1 column.\n"
          ]
        }
      ]
    },
    {
      "cell_type": "markdown",
      "metadata": {
        "id": "OMigZuU3re2l"
      },
      "source": [
        "**Note:** The `make_regression()` function can take in more parameters that can be passed to create more customised data. You may refer to the following document:\n",
        "\n",
        "https://scikit-learn.org/stable/modules/generated/sklearn.datasets.make_regression.html\n"
      ]
    },
    {
      "cell_type": "code",
      "metadata": {
        "id": "tmFnCnr-nB9s",
        "colab": {
          "base_uri": "https://localhost:8080/",
          "height": 990
        },
        "outputId": "c864f8ea-f12a-4fed-f940-0d4e6dab5bef"
      },
      "source": [
        "# Create a Pandas DataFrame containing the items from the 'reg_array' and 'reg_target' arrays.\n",
        "\n",
        "# Create an empty dictionary\n",
        "data_dict = {}\n",
        "\n",
        "# Create a for loop to add the features (keys) and data in the dictionary\n",
        "for i in range(reg_feat.shape[1]):\n",
        "  data_dict[\"feature \" + str(i + 1)] = reg_feat[:, i]\n",
        "\n",
        "# Add the target key data in the dictionary\n",
        "data_dict[\"target\"] = reg_target\n",
        "\n",
        "# Create DataFrame from the dictionary\n",
        "reg_feat_df = pd.DataFrame(data = data_dict)\n",
        "reg_feat_df"
      ],
      "execution_count": null,
      "outputs": [
        {
          "output_type": "execute_result",
          "data": {
            "text/plain": [
              "    feature 1  feature 2  feature 3  feature 4  feature 5      target\n",
              "0   -0.641410   0.965746  -1.377596  -1.284003  -1.274572  -71.904143\n",
              "1    0.232490  -1.148213   0.867612   2.114344   1.000943   36.584377\n",
              "2   -1.589809   0.122762  -0.979526   1.689292   0.177750 -108.656346\n",
              "3    0.073252  -0.713856  -0.997204   0.035416  -0.677945  -24.772374\n",
              "4   -0.969176  -1.446359   0.871968  -0.536481   0.197921  -24.267594\n",
              "5   -0.051415  -0.716264   0.159788   0.050523  -0.143337    1.956062\n",
              "6    0.046403   1.407948   0.666078   0.051149  -0.935975   21.383991\n",
              "7    0.943575  -0.083449   0.357644   0.677806   0.556060   58.097679\n",
              "8   -0.571881   1.335831  -0.105862   0.318665  -0.337595  -32.043487\n",
              "9   -0.397880  -0.688879  -1.259224   0.802630   0.272391  -56.164828\n",
              "10  -0.528404   0.214976  -0.039209  -0.384359  -0.253904  -27.933104\n",
              "11   1.505901   1.365853  -0.587336   1.232045   0.450889   59.634446\n",
              "12   1.076740  -2.619493   0.457691   0.739046   0.667501   67.713130\n",
              "13  -0.565143  -0.782282  -1.102672   3.041686  -0.626081  -60.179726\n",
              "14  -0.597823   1.095956   0.472457  -1.215169   1.342356  -16.837680\n",
              "15  -1.534721  -0.120228   0.005127  -0.806982   2.871819  -77.730192\n",
              "16  -2.213333  -1.788094  -1.681757  -2.218535  -0.647431 -160.358230\n",
              "17   0.032006  -1.062095   1.933216  -0.732629   0.842741   56.854708\n",
              "18   0.472986   0.242439  -0.681426  -1.700736   0.753143    4.532952\n",
              "19   0.501872   0.640761   0.138846   0.527333  -1.154360   29.433344\n",
              "20  -1.001002   0.146560  -2.091691  -0.466351   0.356223 -110.552179\n",
              "21  -0.585268   2.241818  -0.114920  -3.147417   0.535136  -32.981567\n",
              "22  -1.339389  -0.199327  -1.689653   0.257773   1.828821 -116.237098\n",
              "23   1.636463  -0.201362  -0.461395  -0.571817  -0.603299   69.857630\n",
              "24  -0.105268   1.407728   0.512022  -1.687696   1.471234    9.286482\n",
              "25  -0.122150  -0.913869   1.012515  -1.029530   1.209796   22.728590\n",
              "26   0.222719   1.029211  -1.528985  -1.166259  -1.009562  -32.380551\n",
              "27  -1.365640   0.015935  -1.194444  -0.080043  -0.250803 -103.421375\n",
              "28   0.351336  -1.513087  -0.484031  -0.763530   0.249203    3.999448\n",
              "29   1.522842   0.037656   1.461882  -0.246197  -0.664298  119.038823"
            ],
            "text/html": [
              "\n",
              "  <div id=\"df-3c1273da-b64c-49dd-a708-e7265a9973ae\">\n",
              "    <div class=\"colab-df-container\">\n",
              "      <div>\n",
              "<style scoped>\n",
              "    .dataframe tbody tr th:only-of-type {\n",
              "        vertical-align: middle;\n",
              "    }\n",
              "\n",
              "    .dataframe tbody tr th {\n",
              "        vertical-align: top;\n",
              "    }\n",
              "\n",
              "    .dataframe thead th {\n",
              "        text-align: right;\n",
              "    }\n",
              "</style>\n",
              "<table border=\"1\" class=\"dataframe\">\n",
              "  <thead>\n",
              "    <tr style=\"text-align: right;\">\n",
              "      <th></th>\n",
              "      <th>feature 1</th>\n",
              "      <th>feature 2</th>\n",
              "      <th>feature 3</th>\n",
              "      <th>feature 4</th>\n",
              "      <th>feature 5</th>\n",
              "      <th>target</th>\n",
              "    </tr>\n",
              "  </thead>\n",
              "  <tbody>\n",
              "    <tr>\n",
              "      <th>0</th>\n",
              "      <td>-0.641410</td>\n",
              "      <td>0.965746</td>\n",
              "      <td>-1.377596</td>\n",
              "      <td>-1.284003</td>\n",
              "      <td>-1.274572</td>\n",
              "      <td>-71.904143</td>\n",
              "    </tr>\n",
              "    <tr>\n",
              "      <th>1</th>\n",
              "      <td>0.232490</td>\n",
              "      <td>-1.148213</td>\n",
              "      <td>0.867612</td>\n",
              "      <td>2.114344</td>\n",
              "      <td>1.000943</td>\n",
              "      <td>36.584377</td>\n",
              "    </tr>\n",
              "    <tr>\n",
              "      <th>2</th>\n",
              "      <td>-1.589809</td>\n",
              "      <td>0.122762</td>\n",
              "      <td>-0.979526</td>\n",
              "      <td>1.689292</td>\n",
              "      <td>0.177750</td>\n",
              "      <td>-108.656346</td>\n",
              "    </tr>\n",
              "    <tr>\n",
              "      <th>3</th>\n",
              "      <td>0.073252</td>\n",
              "      <td>-0.713856</td>\n",
              "      <td>-0.997204</td>\n",
              "      <td>0.035416</td>\n",
              "      <td>-0.677945</td>\n",
              "      <td>-24.772374</td>\n",
              "    </tr>\n",
              "    <tr>\n",
              "      <th>4</th>\n",
              "      <td>-0.969176</td>\n",
              "      <td>-1.446359</td>\n",
              "      <td>0.871968</td>\n",
              "      <td>-0.536481</td>\n",
              "      <td>0.197921</td>\n",
              "      <td>-24.267594</td>\n",
              "    </tr>\n",
              "    <tr>\n",
              "      <th>5</th>\n",
              "      <td>-0.051415</td>\n",
              "      <td>-0.716264</td>\n",
              "      <td>0.159788</td>\n",
              "      <td>0.050523</td>\n",
              "      <td>-0.143337</td>\n",
              "      <td>1.956062</td>\n",
              "    </tr>\n",
              "    <tr>\n",
              "      <th>6</th>\n",
              "      <td>0.046403</td>\n",
              "      <td>1.407948</td>\n",
              "      <td>0.666078</td>\n",
              "      <td>0.051149</td>\n",
              "      <td>-0.935975</td>\n",
              "      <td>21.383991</td>\n",
              "    </tr>\n",
              "    <tr>\n",
              "      <th>7</th>\n",
              "      <td>0.943575</td>\n",
              "      <td>-0.083449</td>\n",
              "      <td>0.357644</td>\n",
              "      <td>0.677806</td>\n",
              "      <td>0.556060</td>\n",
              "      <td>58.097679</td>\n",
              "    </tr>\n",
              "    <tr>\n",
              "      <th>8</th>\n",
              "      <td>-0.571881</td>\n",
              "      <td>1.335831</td>\n",
              "      <td>-0.105862</td>\n",
              "      <td>0.318665</td>\n",
              "      <td>-0.337595</td>\n",
              "      <td>-32.043487</td>\n",
              "    </tr>\n",
              "    <tr>\n",
              "      <th>9</th>\n",
              "      <td>-0.397880</td>\n",
              "      <td>-0.688879</td>\n",
              "      <td>-1.259224</td>\n",
              "      <td>0.802630</td>\n",
              "      <td>0.272391</td>\n",
              "      <td>-56.164828</td>\n",
              "    </tr>\n",
              "    <tr>\n",
              "      <th>10</th>\n",
              "      <td>-0.528404</td>\n",
              "      <td>0.214976</td>\n",
              "      <td>-0.039209</td>\n",
              "      <td>-0.384359</td>\n",
              "      <td>-0.253904</td>\n",
              "      <td>-27.933104</td>\n",
              "    </tr>\n",
              "    <tr>\n",
              "      <th>11</th>\n",
              "      <td>1.505901</td>\n",
              "      <td>1.365853</td>\n",
              "      <td>-0.587336</td>\n",
              "      <td>1.232045</td>\n",
              "      <td>0.450889</td>\n",
              "      <td>59.634446</td>\n",
              "    </tr>\n",
              "    <tr>\n",
              "      <th>12</th>\n",
              "      <td>1.076740</td>\n",
              "      <td>-2.619493</td>\n",
              "      <td>0.457691</td>\n",
              "      <td>0.739046</td>\n",
              "      <td>0.667501</td>\n",
              "      <td>67.713130</td>\n",
              "    </tr>\n",
              "    <tr>\n",
              "      <th>13</th>\n",
              "      <td>-0.565143</td>\n",
              "      <td>-0.782282</td>\n",
              "      <td>-1.102672</td>\n",
              "      <td>3.041686</td>\n",
              "      <td>-0.626081</td>\n",
              "      <td>-60.179726</td>\n",
              "    </tr>\n",
              "    <tr>\n",
              "      <th>14</th>\n",
              "      <td>-0.597823</td>\n",
              "      <td>1.095956</td>\n",
              "      <td>0.472457</td>\n",
              "      <td>-1.215169</td>\n",
              "      <td>1.342356</td>\n",
              "      <td>-16.837680</td>\n",
              "    </tr>\n",
              "    <tr>\n",
              "      <th>15</th>\n",
              "      <td>-1.534721</td>\n",
              "      <td>-0.120228</td>\n",
              "      <td>0.005127</td>\n",
              "      <td>-0.806982</td>\n",
              "      <td>2.871819</td>\n",
              "      <td>-77.730192</td>\n",
              "    </tr>\n",
              "    <tr>\n",
              "      <th>16</th>\n",
              "      <td>-2.213333</td>\n",
              "      <td>-1.788094</td>\n",
              "      <td>-1.681757</td>\n",
              "      <td>-2.218535</td>\n",
              "      <td>-0.647431</td>\n",
              "      <td>-160.358230</td>\n",
              "    </tr>\n",
              "    <tr>\n",
              "      <th>17</th>\n",
              "      <td>0.032006</td>\n",
              "      <td>-1.062095</td>\n",
              "      <td>1.933216</td>\n",
              "      <td>-0.732629</td>\n",
              "      <td>0.842741</td>\n",
              "      <td>56.854708</td>\n",
              "    </tr>\n",
              "    <tr>\n",
              "      <th>18</th>\n",
              "      <td>0.472986</td>\n",
              "      <td>0.242439</td>\n",
              "      <td>-0.681426</td>\n",
              "      <td>-1.700736</td>\n",
              "      <td>0.753143</td>\n",
              "      <td>4.532952</td>\n",
              "    </tr>\n",
              "    <tr>\n",
              "      <th>19</th>\n",
              "      <td>0.501872</td>\n",
              "      <td>0.640761</td>\n",
              "      <td>0.138846</td>\n",
              "      <td>0.527333</td>\n",
              "      <td>-1.154360</td>\n",
              "      <td>29.433344</td>\n",
              "    </tr>\n",
              "    <tr>\n",
              "      <th>20</th>\n",
              "      <td>-1.001002</td>\n",
              "      <td>0.146560</td>\n",
              "      <td>-2.091691</td>\n",
              "      <td>-0.466351</td>\n",
              "      <td>0.356223</td>\n",
              "      <td>-110.552179</td>\n",
              "    </tr>\n",
              "    <tr>\n",
              "      <th>21</th>\n",
              "      <td>-0.585268</td>\n",
              "      <td>2.241818</td>\n",
              "      <td>-0.114920</td>\n",
              "      <td>-3.147417</td>\n",
              "      <td>0.535136</td>\n",
              "      <td>-32.981567</td>\n",
              "    </tr>\n",
              "    <tr>\n",
              "      <th>22</th>\n",
              "      <td>-1.339389</td>\n",
              "      <td>-0.199327</td>\n",
              "      <td>-1.689653</td>\n",
              "      <td>0.257773</td>\n",
              "      <td>1.828821</td>\n",
              "      <td>-116.237098</td>\n",
              "    </tr>\n",
              "    <tr>\n",
              "      <th>23</th>\n",
              "      <td>1.636463</td>\n",
              "      <td>-0.201362</td>\n",
              "      <td>-0.461395</td>\n",
              "      <td>-0.571817</td>\n",
              "      <td>-0.603299</td>\n",
              "      <td>69.857630</td>\n",
              "    </tr>\n",
              "    <tr>\n",
              "      <th>24</th>\n",
              "      <td>-0.105268</td>\n",
              "      <td>1.407728</td>\n",
              "      <td>0.512022</td>\n",
              "      <td>-1.687696</td>\n",
              "      <td>1.471234</td>\n",
              "      <td>9.286482</td>\n",
              "    </tr>\n",
              "    <tr>\n",
              "      <th>25</th>\n",
              "      <td>-0.122150</td>\n",
              "      <td>-0.913869</td>\n",
              "      <td>1.012515</td>\n",
              "      <td>-1.029530</td>\n",
              "      <td>1.209796</td>\n",
              "      <td>22.728590</td>\n",
              "    </tr>\n",
              "    <tr>\n",
              "      <th>26</th>\n",
              "      <td>0.222719</td>\n",
              "      <td>1.029211</td>\n",
              "      <td>-1.528985</td>\n",
              "      <td>-1.166259</td>\n",
              "      <td>-1.009562</td>\n",
              "      <td>-32.380551</td>\n",
              "    </tr>\n",
              "    <tr>\n",
              "      <th>27</th>\n",
              "      <td>-1.365640</td>\n",
              "      <td>0.015935</td>\n",
              "      <td>-1.194444</td>\n",
              "      <td>-0.080043</td>\n",
              "      <td>-0.250803</td>\n",
              "      <td>-103.421375</td>\n",
              "    </tr>\n",
              "    <tr>\n",
              "      <th>28</th>\n",
              "      <td>0.351336</td>\n",
              "      <td>-1.513087</td>\n",
              "      <td>-0.484031</td>\n",
              "      <td>-0.763530</td>\n",
              "      <td>0.249203</td>\n",
              "      <td>3.999448</td>\n",
              "    </tr>\n",
              "    <tr>\n",
              "      <th>29</th>\n",
              "      <td>1.522842</td>\n",
              "      <td>0.037656</td>\n",
              "      <td>1.461882</td>\n",
              "      <td>-0.246197</td>\n",
              "      <td>-0.664298</td>\n",
              "      <td>119.038823</td>\n",
              "    </tr>\n",
              "  </tbody>\n",
              "</table>\n",
              "</div>\n",
              "      <button class=\"colab-df-convert\" onclick=\"convertToInteractive('df-3c1273da-b64c-49dd-a708-e7265a9973ae')\"\n",
              "              title=\"Convert this dataframe to an interactive table.\"\n",
              "              style=\"display:none;\">\n",
              "        \n",
              "  <svg xmlns=\"http://www.w3.org/2000/svg\" height=\"24px\"viewBox=\"0 0 24 24\"\n",
              "       width=\"24px\">\n",
              "    <path d=\"M0 0h24v24H0V0z\" fill=\"none\"/>\n",
              "    <path d=\"M18.56 5.44l.94 2.06.94-2.06 2.06-.94-2.06-.94-.94-2.06-.94 2.06-2.06.94zm-11 1L8.5 8.5l.94-2.06 2.06-.94-2.06-.94L8.5 2.5l-.94 2.06-2.06.94zm10 10l.94 2.06.94-2.06 2.06-.94-2.06-.94-.94-2.06-.94 2.06-2.06.94z\"/><path d=\"M17.41 7.96l-1.37-1.37c-.4-.4-.92-.59-1.43-.59-.52 0-1.04.2-1.43.59L10.3 9.45l-7.72 7.72c-.78.78-.78 2.05 0 2.83L4 21.41c.39.39.9.59 1.41.59.51 0 1.02-.2 1.41-.59l7.78-7.78 2.81-2.81c.8-.78.8-2.07 0-2.86zM5.41 20L4 18.59l7.72-7.72 1.47 1.35L5.41 20z\"/>\n",
              "  </svg>\n",
              "      </button>\n",
              "      \n",
              "  <style>\n",
              "    .colab-df-container {\n",
              "      display:flex;\n",
              "      flex-wrap:wrap;\n",
              "      gap: 12px;\n",
              "    }\n",
              "\n",
              "    .colab-df-convert {\n",
              "      background-color: #E8F0FE;\n",
              "      border: none;\n",
              "      border-radius: 50%;\n",
              "      cursor: pointer;\n",
              "      display: none;\n",
              "      fill: #1967D2;\n",
              "      height: 32px;\n",
              "      padding: 0 0 0 0;\n",
              "      width: 32px;\n",
              "    }\n",
              "\n",
              "    .colab-df-convert:hover {\n",
              "      background-color: #E2EBFA;\n",
              "      box-shadow: 0px 1px 2px rgba(60, 64, 67, 0.3), 0px 1px 3px 1px rgba(60, 64, 67, 0.15);\n",
              "      fill: #174EA6;\n",
              "    }\n",
              "\n",
              "    [theme=dark] .colab-df-convert {\n",
              "      background-color: #3B4455;\n",
              "      fill: #D2E3FC;\n",
              "    }\n",
              "\n",
              "    [theme=dark] .colab-df-convert:hover {\n",
              "      background-color: #434B5C;\n",
              "      box-shadow: 0px 1px 3px 1px rgba(0, 0, 0, 0.15);\n",
              "      filter: drop-shadow(0px 1px 2px rgba(0, 0, 0, 0.3));\n",
              "      fill: #FFFFFF;\n",
              "    }\n",
              "  </style>\n",
              "\n",
              "      <script>\n",
              "        const buttonEl =\n",
              "          document.querySelector('#df-3c1273da-b64c-49dd-a708-e7265a9973ae button.colab-df-convert');\n",
              "        buttonEl.style.display =\n",
              "          google.colab.kernel.accessAllowed ? 'block' : 'none';\n",
              "\n",
              "        async function convertToInteractive(key) {\n",
              "          const element = document.querySelector('#df-3c1273da-b64c-49dd-a708-e7265a9973ae');\n",
              "          const dataTable =\n",
              "            await google.colab.kernel.invokeFunction('convertToInteractive',\n",
              "                                                     [key], {});\n",
              "          if (!dataTable) return;\n",
              "\n",
              "          const docLinkHtml = 'Like what you see? Visit the ' +\n",
              "            '<a target=\"_blank\" href=https://colab.research.google.com/notebooks/data_table.ipynb>data table notebook</a>'\n",
              "            + ' to learn more about interactive tables.';\n",
              "          element.innerHTML = '';\n",
              "          dataTable['output_type'] = 'display_data';\n",
              "          await google.colab.output.renderOutput(dataTable, element);\n",
              "          const docLink = document.createElement('div');\n",
              "          docLink.innerHTML = docLinkHtml;\n",
              "          element.appendChild(docLink);\n",
              "        }\n",
              "      </script>\n",
              "    </div>\n",
              "  </div>\n",
              "  "
            ]
          },
          "metadata": {},
          "execution_count": 2
        }
      ]
    },
    {
      "cell_type": "markdown",
      "metadata": {
        "id": "XKKcJjE2BrJY"
      },
      "source": [
        "Now we have a `pandas` DataFrame having 30 records, 6 columns out of which 5 columns represent independent variables and 1 represent the target. \n",
        "\n",
        "\n",
        "Let's print the descriptive statistics of the DataFrame."
      ]
    },
    {
      "cell_type": "code",
      "metadata": {
        "id": "N4Cs13cDnSSs",
        "colab": {
          "base_uri": "https://localhost:8080/",
          "height": 300
        },
        "outputId": "3f8a5e67-6fe0-4a26-e587-611b89f7dcd1"
      },
      "source": [
        "# Print the descriptive statistics of the dummy DataFrame\n",
        "reg_feat_df.describe()"
      ],
      "execution_count": null,
      "outputs": [
        {
          "output_type": "execute_result",
          "data": {
            "text/plain": [
              "       feature 1  feature 2  feature 3  feature 4  feature 5      target\n",
              "count  30.000000  30.000000  30.000000  30.000000  30.000000   30.000000\n",
              "mean   -0.185371  -0.057523  -0.248670  -0.216668   0.206826  -16.510627\n",
              "std     0.957741   1.117574   1.010759   1.282780   0.961081   65.992199\n",
              "min    -2.213333  -2.619493  -2.091691  -3.147417  -1.274572 -160.358230\n",
              "25%    -0.630513  -0.765778  -1.076305  -0.973893  -0.620386  -59.176002\n",
              "50%    -0.113709  -0.033757  -0.110391  -0.315278   0.223562  -20.552637\n",
              "75%     0.321624   0.884500   0.468765   0.475166   0.731732   27.757156\n",
              "max     1.636463   2.241818   1.933216   3.041686   2.871819  119.038823"
            ],
            "text/html": [
              "\n",
              "  <div id=\"df-fbc53f42-718a-414e-ac71-233d40fb1879\">\n",
              "    <div class=\"colab-df-container\">\n",
              "      <div>\n",
              "<style scoped>\n",
              "    .dataframe tbody tr th:only-of-type {\n",
              "        vertical-align: middle;\n",
              "    }\n",
              "\n",
              "    .dataframe tbody tr th {\n",
              "        vertical-align: top;\n",
              "    }\n",
              "\n",
              "    .dataframe thead th {\n",
              "        text-align: right;\n",
              "    }\n",
              "</style>\n",
              "<table border=\"1\" class=\"dataframe\">\n",
              "  <thead>\n",
              "    <tr style=\"text-align: right;\">\n",
              "      <th></th>\n",
              "      <th>feature 1</th>\n",
              "      <th>feature 2</th>\n",
              "      <th>feature 3</th>\n",
              "      <th>feature 4</th>\n",
              "      <th>feature 5</th>\n",
              "      <th>target</th>\n",
              "    </tr>\n",
              "  </thead>\n",
              "  <tbody>\n",
              "    <tr>\n",
              "      <th>count</th>\n",
              "      <td>30.000000</td>\n",
              "      <td>30.000000</td>\n",
              "      <td>30.000000</td>\n",
              "      <td>30.000000</td>\n",
              "      <td>30.000000</td>\n",
              "      <td>30.000000</td>\n",
              "    </tr>\n",
              "    <tr>\n",
              "      <th>mean</th>\n",
              "      <td>-0.185371</td>\n",
              "      <td>-0.057523</td>\n",
              "      <td>-0.248670</td>\n",
              "      <td>-0.216668</td>\n",
              "      <td>0.206826</td>\n",
              "      <td>-16.510627</td>\n",
              "    </tr>\n",
              "    <tr>\n",
              "      <th>std</th>\n",
              "      <td>0.957741</td>\n",
              "      <td>1.117574</td>\n",
              "      <td>1.010759</td>\n",
              "      <td>1.282780</td>\n",
              "      <td>0.961081</td>\n",
              "      <td>65.992199</td>\n",
              "    </tr>\n",
              "    <tr>\n",
              "      <th>min</th>\n",
              "      <td>-2.213333</td>\n",
              "      <td>-2.619493</td>\n",
              "      <td>-2.091691</td>\n",
              "      <td>-3.147417</td>\n",
              "      <td>-1.274572</td>\n",
              "      <td>-160.358230</td>\n",
              "    </tr>\n",
              "    <tr>\n",
              "      <th>25%</th>\n",
              "      <td>-0.630513</td>\n",
              "      <td>-0.765778</td>\n",
              "      <td>-1.076305</td>\n",
              "      <td>-0.973893</td>\n",
              "      <td>-0.620386</td>\n",
              "      <td>-59.176002</td>\n",
              "    </tr>\n",
              "    <tr>\n",
              "      <th>50%</th>\n",
              "      <td>-0.113709</td>\n",
              "      <td>-0.033757</td>\n",
              "      <td>-0.110391</td>\n",
              "      <td>-0.315278</td>\n",
              "      <td>0.223562</td>\n",
              "      <td>-20.552637</td>\n",
              "    </tr>\n",
              "    <tr>\n",
              "      <th>75%</th>\n",
              "      <td>0.321624</td>\n",
              "      <td>0.884500</td>\n",
              "      <td>0.468765</td>\n",
              "      <td>0.475166</td>\n",
              "      <td>0.731732</td>\n",
              "      <td>27.757156</td>\n",
              "    </tr>\n",
              "    <tr>\n",
              "      <th>max</th>\n",
              "      <td>1.636463</td>\n",
              "      <td>2.241818</td>\n",
              "      <td>1.933216</td>\n",
              "      <td>3.041686</td>\n",
              "      <td>2.871819</td>\n",
              "      <td>119.038823</td>\n",
              "    </tr>\n",
              "  </tbody>\n",
              "</table>\n",
              "</div>\n",
              "      <button class=\"colab-df-convert\" onclick=\"convertToInteractive('df-fbc53f42-718a-414e-ac71-233d40fb1879')\"\n",
              "              title=\"Convert this dataframe to an interactive table.\"\n",
              "              style=\"display:none;\">\n",
              "        \n",
              "  <svg xmlns=\"http://www.w3.org/2000/svg\" height=\"24px\"viewBox=\"0 0 24 24\"\n",
              "       width=\"24px\">\n",
              "    <path d=\"M0 0h24v24H0V0z\" fill=\"none\"/>\n",
              "    <path d=\"M18.56 5.44l.94 2.06.94-2.06 2.06-.94-2.06-.94-.94-2.06-.94 2.06-2.06.94zm-11 1L8.5 8.5l.94-2.06 2.06-.94-2.06-.94L8.5 2.5l-.94 2.06-2.06.94zm10 10l.94 2.06.94-2.06 2.06-.94-2.06-.94-.94-2.06-.94 2.06-2.06.94z\"/><path d=\"M17.41 7.96l-1.37-1.37c-.4-.4-.92-.59-1.43-.59-.52 0-1.04.2-1.43.59L10.3 9.45l-7.72 7.72c-.78.78-.78 2.05 0 2.83L4 21.41c.39.39.9.59 1.41.59.51 0 1.02-.2 1.41-.59l7.78-7.78 2.81-2.81c.8-.78.8-2.07 0-2.86zM5.41 20L4 18.59l7.72-7.72 1.47 1.35L5.41 20z\"/>\n",
              "  </svg>\n",
              "      </button>\n",
              "      \n",
              "  <style>\n",
              "    .colab-df-container {\n",
              "      display:flex;\n",
              "      flex-wrap:wrap;\n",
              "      gap: 12px;\n",
              "    }\n",
              "\n",
              "    .colab-df-convert {\n",
              "      background-color: #E8F0FE;\n",
              "      border: none;\n",
              "      border-radius: 50%;\n",
              "      cursor: pointer;\n",
              "      display: none;\n",
              "      fill: #1967D2;\n",
              "      height: 32px;\n",
              "      padding: 0 0 0 0;\n",
              "      width: 32px;\n",
              "    }\n",
              "\n",
              "    .colab-df-convert:hover {\n",
              "      background-color: #E2EBFA;\n",
              "      box-shadow: 0px 1px 2px rgba(60, 64, 67, 0.3), 0px 1px 3px 1px rgba(60, 64, 67, 0.15);\n",
              "      fill: #174EA6;\n",
              "    }\n",
              "\n",
              "    [theme=dark] .colab-df-convert {\n",
              "      background-color: #3B4455;\n",
              "      fill: #D2E3FC;\n",
              "    }\n",
              "\n",
              "    [theme=dark] .colab-df-convert:hover {\n",
              "      background-color: #434B5C;\n",
              "      box-shadow: 0px 1px 3px 1px rgba(0, 0, 0, 0.15);\n",
              "      filter: drop-shadow(0px 1px 2px rgba(0, 0, 0, 0.3));\n",
              "      fill: #FFFFFF;\n",
              "    }\n",
              "  </style>\n",
              "\n",
              "      <script>\n",
              "        const buttonEl =\n",
              "          document.querySelector('#df-fbc53f42-718a-414e-ac71-233d40fb1879 button.colab-df-convert');\n",
              "        buttonEl.style.display =\n",
              "          google.colab.kernel.accessAllowed ? 'block' : 'none';\n",
              "\n",
              "        async function convertToInteractive(key) {\n",
              "          const element = document.querySelector('#df-fbc53f42-718a-414e-ac71-233d40fb1879');\n",
              "          const dataTable =\n",
              "            await google.colab.kernel.invokeFunction('convertToInteractive',\n",
              "                                                     [key], {});\n",
              "          if (!dataTable) return;\n",
              "\n",
              "          const docLinkHtml = 'Like what you see? Visit the ' +\n",
              "            '<a target=\"_blank\" href=https://colab.research.google.com/notebooks/data_table.ipynb>data table notebook</a>'\n",
              "            + ' to learn more about interactive tables.';\n",
              "          element.innerHTML = '';\n",
              "          dataTable['output_type'] = 'display_data';\n",
              "          await google.colab.output.renderOutput(dataTable, element);\n",
              "          const docLink = document.createElement('div');\n",
              "          docLink.innerHTML = docLinkHtml;\n",
              "          element.appendChild(docLink);\n",
              "        }\n",
              "      </script>\n",
              "    </div>\n",
              "  </div>\n",
              "  "
            ]
          },
          "metadata": {},
          "execution_count": 3
        }
      ]
    },
    {
      "cell_type": "markdown",
      "metadata": {
        "id": "I6tG-qsE1ugU"
      },
      "source": [
        "As it can be observed, the feature columns have almost the same range going from negative values to positive values. \n",
        "\n",
        "Let's check whether the values in each column a follow normal distribution."
      ]
    },
    {
      "cell_type": "code",
      "metadata": {
        "colab": {
          "base_uri": "https://localhost:8080/",
          "height": 1000
        },
        "id": "eHS2vHGV6z2N",
        "outputId": "e3c614c2-24c9-47f5-bc3a-bd4bb4439d39"
      },
      "source": [
        "# Create histograms for all the columns in the above data frame to check whether the values in each column follow a normal distribution.\n",
        "import matplotlib.pyplot as plt\n",
        "import seaborn as sns\n",
        "\n",
        "for col in reg_feat_df.columns:\n",
        "  plt.figure(figsize = (8, 4), dpi = 96)\n",
        "  plt.title(f\"Histogram for {col}\", fontsize = 15)\n",
        "  plt.hist(reg_feat_df[col], bins = \"sturges\", edgecolor = \"black\")\n",
        "  plt.axvline(np.mean(reg_feat_df[col]), color = \"red\", label = f\"Mean of {col} = {np.mean(reg_feat_df[col]):.3f}\")\n",
        "  plt.legend()\n",
        "  plt.show()"
      ],
      "execution_count": null,
      "outputs": [
        {
          "output_type": "display_data",
          "data": {
            "text/plain": [
              "<Figure size 768x384 with 1 Axes>"
            ],
            "image/png": "[encoded data removed]"
          },
          "metadata": {
            "needs_background": "light"
          }
        },
        {
          "output_type": "display_data",
          "data": {
            "text/plain": [
              "<Figure size 768x384 with 1 Axes>"
            ],
            "image/png": "[encoded data removed]"
          },
          "metadata": {
            "needs_background": "light"
          }
        },
        {
          "output_type": "display_data",
          "data": {
            "text/plain": [
              "<Figure size 768x384 with 1 Axes>"
            ],
            "image/png": "[encoded data removed]"
          },
          "metadata": {
            "needs_background": "light"
          }
        },
        {
          "output_type": "display_data",
          "data": {
            "text/plain": [
              "<Figure size 768x384 with 1 Axes>"
            ],
            "image/png": "[encoded data removed]"
          },
          "metadata": {
            "needs_background": "light"
          }
        },
        {
          "output_type": "display_data",
          "data": {
            "text/plain": [
              "<Figure size 768x384 with 1 Axes>"
            ],
            "image/png": "[encoded data removed]"
          },
          "metadata": {
            "needs_background": "light"
          }
        },
        {
          "output_type": "display_data",
          "data": {
            "text/plain": [
              "<Figure size 768x384 with 1 Axes>"
            ],
            "image/png": "[encoded data removed]"
          },
          "metadata": {
            "needs_background": "light"
          }
        }
      ]
    },
    {
      "cell_type": "markdown",
      "metadata": {
        "id": "jOXcA4en6pWS"
      },
      "source": [
        "We can see that all the values in each column somewhat follow a normal distribution. This will become more apparent if we increase the number of samples in the data frame.\n",
        "\n",
        "Now, let's move ahead and check the correlation between the feature and target columns.\n",
        "\n",
        "Let's plot check the collinearity of the `target` column with independent features."
      ]
    },
    {
      "cell_type": "code",
      "metadata": {
        "id": "AraBztf127xA",
        "colab": {
          "base_uri": "https://localhost:8080/",
          "height": 402
        },
        "outputId": "51c1d549-0ec5-4cdc-9daf-7ba6ec817c7b"
      },
      "source": [
        "# Create a heatmap for the correlation coefficient of DataFrame.\n",
        "plt.figure(figsize = (6, 4), dpi = 96)\n",
        "sns.heatmap(data = reg_feat_df.corr(), annot = True, cmap = \"YlGnBu\")\n",
        "plt.show()"
      ],
      "execution_count": null,
      "outputs": [
        {
          "output_type": "display_data",
          "data": {
            "text/plain": [
              "<Figure size 576x384 with 2 Axes>"
            ],
            "image/png": "[encoded data removed]"
          },
          "metadata": {
            "needs_background": "light"
          }
        }
      ]
    },
    {
      "cell_type": "markdown",
      "metadata": {
        "id": "uPSpjQtf3RDu"
      },
      "source": [
        "In the above graph, we can see that only `feature 1` and `feature 3` have a strong correlation with `target` columns with the correlation coefficient values `0.92` and `0.74` respectively. That means possibly only these two features will be useful to build a good regression model to predict the `target` values. Also, note that `feature 1` and `feature 3` are also correlated with each other. This means there is a scope of multicollinearity.\n",
        "\n",
        "**Note:** The reason for only two columns having strong collinearity with the target column is `n_informative = 2` parameter while creating dummy data.\n",
        "\n",
        "Let's observe the independent features `feature 1` and `feature 3` individually with the `target` column.\n",
        "\n",
        "\n",
        "Let's create a `regplot` between `feature 1` and the `target` column to observe the relationships and best-fit regression line:"
      ]
    },
    {
      "cell_type": "code",
      "metadata": {
        "id": "Lv5LI7hr47WX",
        "colab": {
          "base_uri": "https://localhost:8080/",
          "height": 366
        },
        "outputId": "43328ecc-b5ef-46c0-8aeb-dac7e8a759a5"
      },
      "source": [
        "# Create a regplot between 'feature' and 'target' columns.\n",
        "plt.figure(figsize = (6, 4), dpi = 96)\n",
        "sns.regplot(x = \"feature 1\", y = \"target\", data = reg_feat_df, color = \"r\")\n",
        "plt.show()"
      ],
      "execution_count": null,
      "outputs": [
        {
          "output_type": "display_data",
          "data": {
            "text/plain": [
              "<Figure size 576x384 with 1 Axes>"
            ],
            "image/png": "[encoded data removed]"
          },
          "metadata": {
            "needs_background": "light"
          }
        }
      ]
    },
    {
      "cell_type": "markdown",
      "metadata": {
        "id": "QKh2tbTc5Mc4"
      },
      "source": [
        "As it can be observed, a positive correlation because $R=0.92$. \n",
        "\n",
        "Let's create a `regplot` between `feature 3` and the `target` column to observe the relationships and best-fit regression line:\n",
        "\n"
      ]
    },
    {
      "cell_type": "code",
      "metadata": {
        "id": "pipidlDT5zbf",
        "colab": {
          "base_uri": "https://localhost:8080/",
          "height": 366
        },
        "outputId": "39f028df-b9e7-4f7e-c3cb-dd6627e9fb69"
      },
      "source": [
        "# Create a regplot between 'feature 3' and 'target' columns.\n",
        "plt.figure(figsize = (8, 4), dpi = 96)\n",
        "sns.regplot(x = \"feature 3\", y = \"target\", data = reg_feat_df, color = \"g\", ci = None) # The 'ci = None' parameter removes the shaded region.\n",
        "plt.show()"
      ],
      "execution_count": null,
      "outputs": [
        {
          "output_type": "display_data",
          "data": {
            "text/plain": [
              "<Figure size 768x384 with 1 Axes>"
            ],
            "image/png": "[encoded data removed]"
          },
          "metadata": {
            "needs_background": "light"
          }
        }
      ]
    },
    {
      "cell_type": "markdown",
      "metadata": {
        "id": "aLkDWMxe5zOD"
      },
      "source": [
        "As it can be observed, the correlation is positive but the points are more scattered than the `feature 1` graph as the $R=0.74$ which is less than the $R$ value for `feature 1`.\n",
        "\n",
        "**Note:**\n",
        "\n",
        "- `ci` stands for **confidence interval** that tells the number of values it can predict with confidence. The values outside CI are predicted by chance.\n",
        "\n",
        "- A 95% confidence interval (CI) suggests that 95% of the target values are predicted by regression and the remaining 5% by chance (or fluke).\n",
        "\n",
        "- The other way to look at CI is to calculate the **p-value**. When we say the p-value is less than 0.05, it means that less than 5% of the target values are predicted by chance (or fluke).\n",
        "\n",
        "Now, without any further ado, let's create the model to make target predictions with `feature 1` and `feature 3` **Activity 1: SVR - Model Building**"
      ]
    },
    {
      "cell_type": "markdown",
      "metadata": {
        "id": "9tBfQH6B7hpM"
      },
      "source": [
        "---"
      ]
    },
    {
      "cell_type": "markdown",
      "metadata": {
        "id": "OyRCKsjY86tB"
      },
      "source": [
        "#### Activity 1: SVR - Model Building\n",
        "\n",
        "\n",
        "Let's split the feature and target columns to create a regression model using SVM with the independent features that are `feature 1` and `feature 3` and target variable as the `target`.\n",
        "\n",
        "1. Create feature DataFrame `reg_feat_df` by selecting only two independent features i.e., `feature 1` and `feature 3`.\n",
        "\n",
        "2. Using the `train_test_split()` function, split the data (`reg_feat_df` and `reg_target`) into training and testing sets such that the test set has 30% of the total samples.\n",
        "\n",
        "3. Print the number of rows and columns in the training and testing feature and target dataset."
      ]
    },
    {
      "cell_type": "code",
      "metadata": {
        "id": "ffGi53vG9Jzg"
      },
      "source": [
        "# S1.1: Create training and testing DataFrame by splitting the original data.\n",
        "from sklearn.model_selection import train_test_split \n",
        "# Create the feature DataFrame\n",
        "fdf = reg_feat_df[['feature 1','feature 3']]\n",
        "x_train,x_test,y_train,y_test = train_test_split(fdf,reg_target, test_size=0.33, random_state = 8)\n",
        "# Split the data\n"
      ],
      "execution_count": null,
      "outputs": []
    },
    {
      "cell_type": "markdown",
      "metadata": {
        "id": "y9asFo2f899H"
      },
      "source": [
        "Now that we have the data split, let's create an SVR model. To do this:\n",
        "\n",
        "1. Import `SVR` class from the `sklearn.svm` module.\n",
        "\n",
        "2. Create an object of the `SVR` class, say `svr_lin` and pass `kernel = \"linear\"` as input to its constructor so that the linear kernel can determine the best fit line (hyperplane).\n",
        "\n",
        "3. Call the `fit()` function of the `SVC` class on the object created and pass `X_train` and `y_train` as inputs to the function.\n",
        "\n",
        "4. Print the regression coefficient values using the `intercept_` and `coef_` attributes of the model.\n",
        "\n",
        "5. Print the $R^2$ score of the model using the `score()` function of the `SVR` class. It takes both the features and target set as inputs.\n",
        "\n"
      ]
    },
    {
      "cell_type": "code",
      "metadata": {
        "id": "qJREzKel-okb",
        "colab": {
          "base_uri": "https://localhost:8080/"
        },
        "outputId": "836b864d-5cdc-42a3-dabf-a302aef1cf86"
      },
      "source": [
        "# S1.2: Build an SVR model on the 'feature_train' and 'target_train' dataset with the linear kernel.\n",
        "# Import the module\n",
        "from sklearn.svm import SVR\n",
        "# Create the model\n",
        "model = SVR(kernel='linear')\n",
        "model.fit(x_train,y_train)\n",
        "print(model.intercept_)\n",
        "print(model.coef_)\n",
        "print(model.score(x_train,y_train))\n",
        "# Print the coefficients\n",
        "\n",
        "# Print the model score\n"
      ],
      "execution_count": null,
      "outputs": [
        {
          "output_type": "stream",
          "name": "stdout",
          "text": [
            "[-16.30290157]\n",
            "[[13.01870411 11.24234323]]\n",
            "0.5043002790559331\n"
          ]
        }
      ]
    },
    {
      "cell_type": "markdown",
      "metadata": {
        "id": "Jy9OLSMg_Zaw"
      },
      "source": [
        "We can see that the model score is `0.52` that is almost half of the best possible score.\n",
        "\n",
        "Let's evaluate the model by calculating the $R^2$, MSE, RMSE and MAE values that you already learnt in the **Simple Linear Regression - Residual Analysis** lesson.\n"
      ]
    },
    {
      "cell_type": "code",
      "metadata": {
        "id": "reBvrEa6D9jN",
        "colab": {
          "base_uri": "https://localhost:8080/"
        },
        "outputId": "1ef31710-261f-4ac9-9398-7e8471fdafc4"
      },
      "source": [
        "# S1.3: Evaluate the SVR model built above using the 'r2_score', 'mean_squared_error' & 'mean_absolute_error' functions of the 'sklearn' module.\n",
        "from sklearn.metrics import mean_squared_error,mean_absolute_error,r2_score\n",
        "train_pred = model.predict(x_train)\n",
        "test_pred = model.predict(x_test)\n",
        "print(r2_score(y_train,train_pred))\n",
        "print(mean_squared_error(y_train,train_pred))\n",
        "print(np.sqrt(mean_squared_error(y_train,train_pred)))\n",
        "print(mean_absolute_error(y_train,train_pred))\n",
        "print()\n",
        "print(r2_score(y_test,test_pred))\n",
        "print(mean_squared_error(y_test,test_pred))\n",
        "print(np.sqrt(mean_squared_error(y_test,test_pred)))\n",
        "print(mean_absolute_error(y_test,test_pred))"
      ],
      "execution_count": null,
      "outputs": [
        {
          "output_type": "stream",
          "name": "stdout",
          "text": [
            "0.5043002790559331\n",
            "1941.9436178969165\n",
            "44.06748935322861\n",
            "34.2959824979941\n",
            "\n",
            "0.47197451664801593\n",
            "2382.1048959476475\n",
            "48.806811983038266\n",
            "42.03757973041985\n"
          ]
        }
      ]
    },
    {
      "cell_type": "markdown",
      "metadata": {
        "id": "JhVYgp5TFrKl"
      },
      "source": [
        "For a highly accurate regression model: \n",
        "\n",
        "- The $R^2$ squared value should be close to 1.\n",
        "\n",
        "- The MSE, RMSE and MAE values should be close to zero.\n",
        "\n",
        "As it can be observed, $R^2$ squared value is low for both the train and test sets.\n",
        "\n",
        "Before making any conclusion about the model, let's analyse the residuals to further evaluate the model.\n",
        "\n",
        "Let us plot the histogram of the error terms for the train and test sets and see what it looks like."
      ]
    },
    {
      "cell_type": "code",
      "metadata": {
        "id": "1UXv3XNmf0rk",
        "colab": {
          "base_uri": "https://localhost:8080/",
          "height": 840
        },
        "outputId": "1bc155b1-5088-4cef-ec65-338766ec3797"
      },
      "source": [
        "# S1.4: Create a histogram for the errors obtained in the predicted values for both the train and test set.\n",
        "err_train = y_train-train_pred\n",
        "err_test = y_test-test_pred\n",
        "plt.figure(figsize=(10,10))\n",
        "plt.hist(err_train,bins='sturges', edgecolor='black')\n",
        "plt.axvline(np.mean(err_train),label=np.mean(err_train))\n",
        "plt.legend()\n",
        "plt.show()\n",
        "# Calculate the errors obtained in the training set\n",
        "plt.hist(err_test,bins='sturges', edgecolor='black')\n",
        "plt.axvline(np.mean(err_test),label=np.mean(err_test))\n",
        "plt.legend()\n",
        "plt.show()\n",
        "\n",
        "# Create a histogram for the errors obtained in the predicted values for the train set.\n",
        "\n",
        "\n",
        "# Calculate the errors obtained in the testing set\n",
        "\n",
        "# Create a histogram for the errors obtained in the predicted values for the test set.\n"
      ],
      "execution_count": null,
      "outputs": [
        {
          "output_type": "display_data",
          "data": {
            "text/plain": [
              "<Figure size 720x720 with 1 Axes>"
            ],
            "image/png": "[encoded data removed]"
          },
          "metadata": {
            "needs_background": "light"
          }
        },
        {
          "output_type": "display_data",
          "data": {
            "text/plain": [
              "<Figure size 432x288 with 1 Axes>"
            ],
            "image/png": "[encoded data removed]"
          },
          "metadata": {
            "needs_background": "light"
          }
        }
      ]
    },
    {
      "cell_type": "markdown",
      "metadata": {
        "id": "KTZu8uc8iyXI"
      },
      "source": [
        "Here the mean of errors obtained for the train and test sets is **non-zero**  because the residuals (errors) do not follow a normal distribution. All-in-all, this model is poor because of the following reasons: \n",
        "\n",
        "- The $R^2$ value is low\n",
        "- MSE, RMSE and MAE values are high\n",
        "- The mean of the residuals is not zero\n",
        "\n",
        "**Note:** We cannot calculate MSLE values as the `target` column has negative values.\n",
        "\n",
        "Let's create the model again with the polynomial kernel and evaluate the model again."
      ]
    },
    {
      "cell_type": "code",
      "metadata": {
        "id": "a9kj_8TCGF8z",
        "colab": {
          "base_uri": "https://localhost:8080/"
        },
        "outputId": "4bae92dc-72b1-44fc-a80b-35e990f21ab5"
      },
      "source": [
        "# S1.5: Build an SVR model on the 'feature_train' and 'target_train' dataset using the polynomial kernel.\n",
        "# Create the model\n",
        "mod1 = SVR(kernel='poly',degree=2)\n",
        "mod1.fit(x_train,y_train)\n",
        "print(mod1.intercept_)\n",
        "print(mod1.score(x_train,y_train))\n",
        "#You may choose any arbitrary value for the 'degree' parameter.\n",
        "\n",
        "# Print the intercept\n",
        "\n",
        "# Print the model score\n"
      ],
      "execution_count": null,
      "outputs": [
        {
          "output_type": "stream",
          "name": "stdout",
          "text": [
            "[-24.96785936]\n",
            "0.22441302210724512\n"
          ]
        }
      ]
    },
    {
      "cell_type": "markdown",
      "metadata": {
        "id": "P86jjhBKG9xT"
      },
      "source": [
        "The $R^2$ score here is `0.23` even lower than the linear model. Let's create an SVR model again with but with the RBF kernel this time."
      ]
    },
    {
      "cell_type": "code",
      "metadata": {
        "id": "F-M8Ffr7HM4k",
        "colab": {
          "base_uri": "https://localhost:8080/"
        },
        "outputId": "50fbb10f-d445-458f-bb3a-9f58965845fc"
      },
      "source": [
        "# S1.6: Build an SVR model on the 'feature_train' and 'target_train' dataset using the RBF kernel.\n",
        "# Create the model\n",
        "mod2 = SVR(kernel='rbf')\n",
        "mod2.fit(x_train,y_train)\n",
        "print(mod2.intercept_)\n",
        "print(mod2.score(x_train,y_train))\n",
        "# Print the intercept\n",
        "\n",
        "\n",
        "# Print the model score\n"
      ],
      "execution_count": null,
      "outputs": [
        {
          "output_type": "stream",
          "name": "stdout",
          "text": [
            "[-25.71226411]\n",
            "0.07918508809243752\n"
          ]
        }
      ]
    },
    {
      "cell_type": "markdown",
      "metadata": {
        "id": "zpEjWKX6XG56"
      },
      "source": [
        "As it can be observed, the above SVR model also has a very low score.\n",
        "\n",
        "In this case, to get the best SVR model for this data, we need to tune its parameters using the process called **hyperparameter tuning**."
      ]
    },
    {
      "cell_type": "markdown",
      "metadata": {
        "id": "pSiN0KSoIuQi"
      },
      "source": [
        "----"
      ]
    },
    {
      "cell_type": "markdown",
      "metadata": {
        "id": "VcF_J0w1LTK1"
      },
      "source": [
        "#### Activity 2: Hyperparameter Tuning Using `GridSearchCV` Module\n",
        "\n",
        "Hyperparameter tuning is the process to optimise the values of the parameters of any machine learning model so that it can produce the most accurate predictions. This process is very similar to finding the right frequency band to connect with a radio station. \n",
        "\n",
        "The most important parameters in SVM, apart from `kernel`, are `C` and `gamma` where:\n",
        "\n",
        "- `C` controls the error rate of an SVM model by adjusting the width of the margins wrt a hyperplane. A smaller `C` value will result in a larger margin whereas a larger `C` value will result in a smaller margin.\n",
        "\n",
        "- `gamma` defines the curvature of a non-linear hyperplane in an SVM model. A larger `gamma` value will cause a wiggly decision boundary whereas a smaller `gamma` value will cause a straighter decision boundary.\n",
        "\n",
        "To find the best possible values of `C` and `gamma` parameters, you can use the `GridSearchCV` class of the `sklearn.model_selection` model.\n",
        "\n",
        "If uses the `fit()` function to iterate through the list of model parameter values and to fit the model on the training set. Thereafter, you can select the best parameters to finally build a model with the best possible parameter values. To do this, you need to:\n",
        "\n",
        "1. Import the `GridSearchCV` class from the `sklearn.model_selection` module.\n",
        "\n",
        "2. Create a dictionary and store it in a variable say `parameter` to create the list of parameters to be tuned. Inside the dictionary:\n",
        "\n",
        "  - Insert the keys as the model parameter i.e., `kernel`, `C` and `gamma`\n",
        "  - Insert the corresponding values to the above keys i.e.\n",
        "\n",
        "    ```\n",
        "      parameters = {'kernel': ('linear', 'rbf', 'poly'), \n",
        "                  'C': [0.01, 1, 10, 100], 'gamma': [0.01, 0.1, 1]}\n",
        "    ```\n",
        "\n",
        "3. Create an object of `GridSearchCV` class and store it in a variable, say `svr_reg_grid`. Provide the following inputs to its constructor:\n",
        "\n",
        "   - `estimator`: The model to be tuned. Here, `SVR()`\n",
        "   \n",
        "   - `parameter`: The dictionary containing the parameters to be tuned.\n",
        "   \n",
        "   - `verbose = 2`: This controls the number of messages displayed (the higher the value, the more messages).\n",
        "\n",
        "4. Call the `fit()` function on the  `GridSearchCV` object created above with the train set as inputs.\n",
        "\n",
        "This is a brute-force method of finding the right estimators because we choose their arbitrary values and try to fit them one by one with a different combination.\n",
        "\n",
        "**Note:** The hyperparameter tuning is a computationally heavy exercise and hence takes a lot of time. So it is recommended to select **\"GPU\"** as a hardware accelerator. To do this go to the **Edit**, then **Notebook Settings**, then select **Hardware** and finally select **GPU**.\n",
        "\n"
      ]
    },
    {
      "cell_type": "code",
      "metadata": {
        "id": "pezJzH6NQbAY",
        "colab": {
          "base_uri": "https://localhost:8080/"
        },
        "outputId": "bcaf4fa1-b9ec-4ca6-a24c-54d19751f001"
      },
      "source": [
        "# S2.1: Tune the hyperparameters of an SVR model on the 'features_train' and 'target_train' sets.\n",
        "from sklearn.model_selection import GridSearchCV\n",
        "parameters = {'kernel': ('linear', 'rbf', 'poly'), \n",
        "             'C': [0.01, 1, 10, 100], 'gamma': [0.01, 0.1, 1]}\n",
        "\n",
        "mod3 = GridSearchCV(SVR(),parameters,verbose=2)\n",
        "mod3.fit(x_train,y_train)\n",
        "# Import the module\n",
        "\n",
        "# Create the parameter dictionary.\n",
        "\n",
        "# Create the 'GridSearchCV' object.\n",
        "\n",
        "# Fit the training data.\n"
      ],
      "execution_count": null,
      "outputs": [
        {
          "output_type": "stream",
          "name": "stdout",
          "text": [
            "Fitting 5 folds for each of 36 candidates, totalling 180 fits\n",
            "[CV] END ..................C=0.01, gamma=0.01, kernel=linear; total time=   0.0s\n",
            "[CV] END ..................C=0.01, gamma=0.01, kernel=linear; total time=   0.0s\n",
            "[CV] END ..................C=0.01, gamma=0.01, kernel=linear; total time=   0.0s\n",
            "[CV] END ..................C=0.01, gamma=0.01, kernel=linear; total time=   0.0s\n",
            "[CV] END ..................C=0.01, gamma=0.01, kernel=linear; total time=   0.0s\n",
            "[CV] END .....................C=0.01, gamma=0.01, kernel=rbf; total time=   0.0s\n",
            "[CV] END .....................C=0.01, gamma=0.01, kernel=rbf; total time=   0.0s\n",
            "[CV] END .....................C=0.01, gamma=0.01, kernel=rbf; total time=   0.0s\n",
            "[CV] END .....................C=0.01, gamma=0.01, kernel=rbf; total time=   0.0s\n",
            "[CV] END .....................C=0.01, gamma=0.01, kernel=rbf; total time=   0.0s\n",
            "[CV] END ....................C=0.01, gamma=0.01, kernel=poly; total time=   0.0s\n",
            "[CV] END ....................C=0.01, gamma=0.01, kernel=poly; total time=   0.0s\n",
            "[CV] END ....................C=0.01, gamma=0.01, kernel=poly; total time=   0.0s\n",
            "[CV] END ....................C=0.01, gamma=0.01, kernel=poly; total time=   0.0s\n",
            "[CV] END ....................C=0.01, gamma=0.01, kernel=poly; total time=   0.0s\n",
            "[CV] END ...................C=0.01, gamma=0.1, kernel=linear; total time=   0.0s\n",
            "[CV] END ...................C=0.01, gamma=0.1, kernel=linear; total time=   0.0s\n",
            "[CV] END ...................C=0.01, gamma=0.1, kernel=linear; total time=   0.0s\n",
            "[CV] END ...................C=0.01, gamma=0.1, kernel=linear; total time=   0.0s\n",
            "[CV] END ...................C=0.01, gamma=0.1, kernel=linear; total time=   0.0s\n",
            "[CV] END ......................C=0.01, gamma=0.1, kernel=rbf; total time=   0.0s\n",
            "[CV] END ......................C=0.01, gamma=0.1, kernel=rbf; total time=   0.0s\n",
            "[CV] END ......................C=0.01, gamma=0.1, kernel=rbf; total time=   0.0s\n",
            "[CV] END ......................C=0.01, gamma=0.1, kernel=rbf; total time=   0.0s\n",
            "[CV] END ......................C=0.01, gamma=0.1, kernel=rbf; total time=   0.0s\n",
            "[CV] END .....................C=0.01, gamma=0.1, kernel=poly; total time=   0.0s\n",
            "[CV] END .....................C=0.01, gamma=0.1, kernel=poly; total time=   0.0s\n",
            "[CV] END .....................C=0.01, gamma=0.1, kernel=poly; total time=   0.0s\n",
            "[CV] END .....................C=0.01, gamma=0.1, kernel=poly; total time=   0.0s\n",
            "[CV] END .....................C=0.01, gamma=0.1, kernel=poly; total time=   0.0s\n",
            "[CV] END .....................C=0.01, gamma=1, kernel=linear; total time=   0.0s\n",
            "[CV] END .....................C=0.01, gamma=1, kernel=linear; total time=   0.0s\n",
            "[CV] END .....................C=0.01, gamma=1, kernel=linear; total time=   0.0s\n",
            "[CV] END .....................C=0.01, gamma=1, kernel=linear; total time=   0.0s\n",
            "[CV] END .....................C=0.01, gamma=1, kernel=linear; total time=   0.0s\n",
            "[CV] END ........................C=0.01, gamma=1, kernel=rbf; total time=   0.0s\n",
            "[CV] END ........................C=0.01, gamma=1, kernel=rbf; total time=   0.0s\n",
            "[CV] END ........................C=0.01, gamma=1, kernel=rbf; total time=   0.0s\n",
            "[CV] END ........................C=0.01, gamma=1, kernel=rbf; total time=   0.0s\n",
            "[CV] END ........................C=0.01, gamma=1, kernel=rbf; total time=   0.0s\n",
            "[CV] END .......................C=0.01, gamma=1, kernel=poly; total time=   0.0s\n",
            "[CV] END .......................C=0.01, gamma=1, kernel=poly; total time=   0.0s\n",
            "[CV] END .......................C=0.01, gamma=1, kernel=poly; total time=   0.0s\n",
            "[CV] END .......................C=0.01, gamma=1, kernel=poly; total time=   0.0s\n",
            "[CV] END .......................C=0.01, gamma=1, kernel=poly; total time=   0.0s\n",
            "[CV] END .....................C=1, gamma=0.01, kernel=linear; total time=   0.0s\n",
            "[CV] END .....................C=1, gamma=0.01, kernel=linear; total time=   0.0s\n",
            "[CV] END .....................C=1, gamma=0.01, kernel=linear; total time=   0.0s\n",
            "[CV] END .....................C=1, gamma=0.01, kernel=linear; total time=   0.0s\n",
            "[CV] END .....................C=1, gamma=0.01, kernel=linear; total time=   0.0s\n",
            "[CV] END ........................C=1, gamma=0.01, kernel=rbf; total time=   0.0s\n",
            "[CV] END ........................C=1, gamma=0.01, kernel=rbf; total time=   0.0s\n",
            "[CV] END ........................C=1, gamma=0.01, kernel=rbf; total time=   0.0s\n",
            "[CV] END ........................C=1, gamma=0.01, kernel=rbf; total time=   0.0s\n",
            "[CV] END ........................C=1, gamma=0.01, kernel=rbf; total time=   0.0s\n",
            "[CV] END .......................C=1, gamma=0.01, kernel=poly; total time=   0.0s\n",
            "[CV] END .......................C=1, gamma=0.01, kernel=poly; total time=   0.0s\n",
            "[CV] END .......................C=1, gamma=0.01, kernel=poly; total time=   0.0s\n",
            "[CV] END .......................C=1, gamma=0.01, kernel=poly; total time=   0.0s\n",
            "[CV] END .......................C=1, gamma=0.01, kernel=poly; total time=   0.0s\n",
            "[CV] END ......................C=1, gamma=0.1, kernel=linear; total time=   0.0s\n",
            "[CV] END ......................C=1, gamma=0.1, kernel=linear; total time=   0.0s\n",
            "[CV] END ......................C=1, gamma=0.1, kernel=linear; total time=   0.0s\n",
            "[CV] END ......................C=1, gamma=0.1, kernel=linear; total time=   0.0s\n",
            "[CV] END ......................C=1, gamma=0.1, kernel=linear; total time=   0.0s\n",
            "[CV] END .........................C=1, gamma=0.1, kernel=rbf; total time=   0.0s\n",
            "[CV] END .........................C=1, gamma=0.1, kernel=rbf; total time=   0.0s\n",
            "[CV] END .........................C=1, gamma=0.1, kernel=rbf; total time=   0.0s\n",
            "[CV] END .........................C=1, gamma=0.1, kernel=rbf; total time=   0.0s\n",
            "[CV] END .........................C=1, gamma=0.1, kernel=rbf; total time=   0.0s\n",
            "[CV] END ........................C=1, gamma=0.1, kernel=poly; total time=   0.0s\n",
            "[CV] END ........................C=1, gamma=0.1, kernel=poly; total time=   0.0s\n",
            "[CV] END ........................C=1, gamma=0.1, kernel=poly; total time=   0.0s\n",
            "[CV] END ........................C=1, gamma=0.1, kernel=poly; total time=   0.0s\n",
            "[CV] END ........................C=1, gamma=0.1, kernel=poly; total time=   0.0s\n",
            "[CV] END ........................C=1, gamma=1, kernel=linear; total time=   0.0s\n",
            "[CV] END ........................C=1, gamma=1, kernel=linear; total time=   0.0s\n",
            "[CV] END ........................C=1, gamma=1, kernel=linear; total time=   0.0s\n",
            "[CV] END ........................C=1, gamma=1, kernel=linear; total time=   0.0s\n",
            "[CV] END ........................C=1, gamma=1, kernel=linear; total time=   0.0s\n",
            "[CV] END ...........................C=1, gamma=1, kernel=rbf; total time=   0.0s\n",
            "[CV] END ...........................C=1, gamma=1, kernel=rbf; total time=   0.0s\n",
            "[CV] END ...........................C=1, gamma=1, kernel=rbf; total time=   0.0s\n",
            "[CV] END ...........................C=1, gamma=1, kernel=rbf; total time=   0.0s\n",
            "[CV] END ...........................C=1, gamma=1, kernel=rbf; total time=   0.0s\n",
            "[CV] END ..........................C=1, gamma=1, kernel=poly; total time=   0.0s\n",
            "[CV] END ..........................C=1, gamma=1, kernel=poly; total time=   0.0s\n",
            "[CV] END ..........................C=1, gamma=1, kernel=poly; total time=   0.0s\n",
            "[CV] END ..........................C=1, gamma=1, kernel=poly; total time=   0.0s\n",
            "[CV] END ..........................C=1, gamma=1, kernel=poly; total time=   0.0s\n",
            "[CV] END ....................C=10, gamma=0.01, kernel=linear; total time=   0.0s\n",
            "[CV] END ....................C=10, gamma=0.01, kernel=linear; total time=   0.0s\n",
            "[CV] END ....................C=10, gamma=0.01, kernel=linear; total time=   0.0s\n",
            "[CV] END ....................C=10, gamma=0.01, kernel=linear; total time=   0.0s\n",
            "[CV] END ....................C=10, gamma=0.01, kernel=linear; total time=   0.0s\n",
            "[CV] END .......................C=10, gamma=0.01, kernel=rbf; total time=   0.0s\n",
            "[CV] END .......................C=10, gamma=0.01, kernel=rbf; total time=   0.0s\n",
            "[CV] END .......................C=10, gamma=0.01, kernel=rbf; total time=   0.0s\n",
            "[CV] END .......................C=10, gamma=0.01, kernel=rbf; total time=   0.0s\n",
            "[CV] END .......................C=10, gamma=0.01, kernel=rbf; total time=   0.0s\n",
            "[CV] END ......................C=10, gamma=0.01, kernel=poly; total time=   0.0s\n",
            "[CV] END ......................C=10, gamma=0.01, kernel=poly; total time=   0.0s\n",
            "[CV] END ......................C=10, gamma=0.01, kernel=poly; total time=   0.0s\n",
            "[CV] END ......................C=10, gamma=0.01, kernel=poly; total time=   0.0s\n",
            "[CV] END ......................C=10, gamma=0.01, kernel=poly; total time=   0.0s\n",
            "[CV] END .....................C=10, gamma=0.1, kernel=linear; total time=   0.0s\n",
            "[CV] END .....................C=10, gamma=0.1, kernel=linear; total time=   0.0s\n",
            "[CV] END .....................C=10, gamma=0.1, kernel=linear; total time=   0.0s\n",
            "[CV] END .....................C=10, gamma=0.1, kernel=linear; total time=   0.0s\n",
            "[CV] END .....................C=10, gamma=0.1, kernel=linear; total time=   0.0s\n",
            "[CV] END ........................C=10, gamma=0.1, kernel=rbf; total time=   0.0s\n",
            "[CV] END ........................C=10, gamma=0.1, kernel=rbf; total time=   0.0s\n",
            "[CV] END ........................C=10, gamma=0.1, kernel=rbf; total time=   0.0s\n",
            "[CV] END ........................C=10, gamma=0.1, kernel=rbf; total time=   0.0s\n",
            "[CV] END ........................C=10, gamma=0.1, kernel=rbf; total time=   0.0s\n",
            "[CV] END .......................C=10, gamma=0.1, kernel=poly; total time=   0.0s\n",
            "[CV] END .......................C=10, gamma=0.1, kernel=poly; total time=   0.0s\n",
            "[CV] END .......................C=10, gamma=0.1, kernel=poly; total time=   0.0s\n",
            "[CV] END .......................C=10, gamma=0.1, kernel=poly; total time=   0.0s\n",
            "[CV] END .......................C=10, gamma=0.1, kernel=poly; total time=   0.0s\n",
            "[CV] END .......................C=10, gamma=1, kernel=linear; total time=   0.0s\n",
            "[CV] END .......................C=10, gamma=1, kernel=linear; total time=   0.0s\n",
            "[CV] END .......................C=10, gamma=1, kernel=linear; total time=   0.0s\n",
            "[CV] END .......................C=10, gamma=1, kernel=linear; total time=   0.0s\n",
            "[CV] END .......................C=10, gamma=1, kernel=linear; total time=   0.0s\n",
            "[CV] END ..........................C=10, gamma=1, kernel=rbf; total time=   0.0s\n",
            "[CV] END ..........................C=10, gamma=1, kernel=rbf; total time=   0.0s\n",
            "[CV] END ..........................C=10, gamma=1, kernel=rbf; total time=   0.0s\n",
            "[CV] END ..........................C=10, gamma=1, kernel=rbf; total time=   0.0s\n",
            "[CV] END ..........................C=10, gamma=1, kernel=rbf; total time=   0.0s\n",
            "[CV] END .........................C=10, gamma=1, kernel=poly; total time=   0.0s\n",
            "[CV] END .........................C=10, gamma=1, kernel=poly; total time=   0.0s\n",
            "[CV] END .........................C=10, gamma=1, kernel=poly; total time=   0.0s\n",
            "[CV] END .........................C=10, gamma=1, kernel=poly; total time=   0.0s\n",
            "[CV] END .........................C=10, gamma=1, kernel=poly; total time=   0.0s\n",
            "[CV] END ...................C=100, gamma=0.01, kernel=linear; total time=   0.0s\n",
            "[CV] END ...................C=100, gamma=0.01, kernel=linear; total time=   0.0s\n",
            "[CV] END ...................C=100, gamma=0.01, kernel=linear; total time=   0.0s\n",
            "[CV] END ...................C=100, gamma=0.01, kernel=linear; total time=   0.0s\n",
            "[CV] END ...................C=100, gamma=0.01, kernel=linear; total time=   0.0s\n",
            "[CV] END ......................C=100, gamma=0.01, kernel=rbf; total time=   0.0s\n",
            "[CV] END ......................C=100, gamma=0.01, kernel=rbf; total time=   0.0s\n",
            "[CV] END ......................C=100, gamma=0.01, kernel=rbf; total time=   0.0s\n",
            "[CV] END ......................C=100, gamma=0.01, kernel=rbf; total time=   0.0s\n",
            "[CV] END ......................C=100, gamma=0.01, kernel=rbf; total time=   0.0s\n",
            "[CV] END .....................C=100, gamma=0.01, kernel=poly; total time=   0.0s\n",
            "[CV] END .....................C=100, gamma=0.01, kernel=poly; total time=   0.0s\n",
            "[CV] END .....................C=100, gamma=0.01, kernel=poly; total time=   0.0s\n",
            "[CV] END .....................C=100, gamma=0.01, kernel=poly; total time=   0.0s\n",
            "[CV] END .....................C=100, gamma=0.01, kernel=poly; total time=   0.0s\n",
            "[CV] END ....................C=100, gamma=0.1, kernel=linear; total time=   0.0s\n",
            "[CV] END ....................C=100, gamma=0.1, kernel=linear; total time=   0.0s\n",
            "[CV] END ....................C=100, gamma=0.1, kernel=linear; total time=   0.0s\n",
            "[CV] END ....................C=100, gamma=0.1, kernel=linear; total time=   0.0s\n",
            "[CV] END ....................C=100, gamma=0.1, kernel=linear; total time=   0.0s\n",
            "[CV] END .......................C=100, gamma=0.1, kernel=rbf; total time=   0.0s\n",
            "[CV] END .......................C=100, gamma=0.1, kernel=rbf; total time=   0.0s\n",
            "[CV] END .......................C=100, gamma=0.1, kernel=rbf; total time=   0.0s\n",
            "[CV] END .......................C=100, gamma=0.1, kernel=rbf; total time=   0.0s\n",
            "[CV] END .......................C=100, gamma=0.1, kernel=rbf; total time=   0.0s\n",
            "[CV] END ......................C=100, gamma=0.1, kernel=poly; total time=   0.0s\n",
            "[CV] END ......................C=100, gamma=0.1, kernel=poly; total time=   0.0s\n",
            "[CV] END ......................C=100, gamma=0.1, kernel=poly; total time=   0.0s\n",
            "[CV] END ......................C=100, gamma=0.1, kernel=poly; total time=   0.0s\n",
            "[CV] END ......................C=100, gamma=0.1, kernel=poly; total time=   0.0s\n",
            "[CV] END ......................C=100, gamma=1, kernel=linear; total time=   0.0s\n",
            "[CV] END ......................C=100, gamma=1, kernel=linear; total time=   0.0s\n",
            "[CV] END ......................C=100, gamma=1, kernel=linear; total time=   0.0s\n",
            "[CV] END ......................C=100, gamma=1, kernel=linear; total time=   0.0s\n",
            "[CV] END ......................C=100, gamma=1, kernel=linear; total time=   0.0s\n",
            "[CV] END .........................C=100, gamma=1, kernel=rbf; total time=   0.0s\n",
            "[CV] END .........................C=100, gamma=1, kernel=rbf; total time=   0.0s\n",
            "[CV] END .........................C=100, gamma=1, kernel=rbf; total time=   0.0s\n",
            "[CV] END .........................C=100, gamma=1, kernel=rbf; total time=   0.0s\n",
            "[CV] END .........................C=100, gamma=1, kernel=rbf; total time=   0.0s\n",
            "[CV] END ........................C=100, gamma=1, kernel=poly; total time=   0.0s\n",
            "[CV] END ........................C=100, gamma=1, kernel=poly; total time=   0.0s\n",
            "[CV] END ........................C=100, gamma=1, kernel=poly; total time=   0.0s\n",
            "[CV] END ........................C=100, gamma=1, kernel=poly; total time=   0.0s\n",
            "[CV] END ........................C=100, gamma=1, kernel=poly; total time=   0.0s\n"
          ]
        },
        {
          "output_type": "execute_result",
          "data": {
            "text/plain": [
              "GridSearchCV(estimator=SVR(),\n",
              "             param_grid={'C': [0.01, 1, 10, 100], 'gamma': [0.01, 0.1, 1],\n",
              "                         'kernel': ('linear', 'rbf', 'poly')},\n",
              "             verbose=2)"
            ]
          },
          "metadata": {},
          "execution_count": 30
        }
      ]
    },
    {
      "cell_type": "markdown",
      "metadata": {
        "id": "w9a0TpK7UMvI"
      },
      "source": [
        "Now that the search is finished, let's get the best parameter values using the `best_estimator_` attribute of the `GridSearchCV` class."
      ]
    },
    {
      "cell_type": "code",
      "metadata": {
        "id": "s9wFqGhjV4Nf",
        "colab": {
          "base_uri": "https://localhost:8080/"
        },
        "outputId": "f40b6751-b916-42c1-c920-bd215bdc181a"
      },
      "source": [
        "# S2.2: Print the values of the parameters that return the best SVR model.\n",
        "mod3.best_estimator_"
      ],
      "execution_count": null,
      "outputs": [
        {
          "output_type": "execute_result",
          "data": {
            "text/plain": [
              "SVR(C=100, gamma=0.01, kernel='linear')"
            ]
          },
          "metadata": {},
          "execution_count": 31
        }
      ]
    },
    {
      "cell_type": "markdown",
      "metadata": {
        "id": "TmMQR_yEWJMA"
      },
      "source": [
        "So the best possible values of the parameters `kernel, C, degree` and `gamma` are `'linear', 100, 3` and `0.01` respectively.\n",
        "\n",
        "Let's use these values to create an SVR model again."
      ]
    },
    {
      "cell_type": "code",
      "metadata": {
        "id": "gP6dyn-SWjqQ",
        "colab": {
          "base_uri": "https://localhost:8080/"
        },
        "outputId": "66115588-0128-40be-9473-de457645adef"
      },
      "source": [
        "# S2.3: Create an SVR model with the best parameter values calculated above.\n",
        "mod4 = SVR(C=100, gamma=0.01, kernel='linear')\n",
        "mod4.fit(x_train,y_train)\n",
        "mod4.score(x_train,y_train)"
      ],
      "execution_count": null,
      "outputs": [
        {
          "output_type": "execute_result",
          "data": {
            "text/plain": [
              "0.9999991257419732"
            ]
          },
          "metadata": {},
          "execution_count": 32
        }
      ]
    },
    {
      "cell_type": "markdown",
      "metadata": {
        "id": "PQgUUFplWzSl"
      },
      "source": [
        "As we can see, the $R^2$ score of the model is `99.99%` .\n",
        "\n",
        "Let's evaluate the new model by making predictions on the train and test sets.\n"
      ]
    },
    {
      "cell_type": "code",
      "metadata": {
        "id": "6HKujjmeWy-X",
        "colab": {
          "base_uri": "https://localhost:8080/"
        },
        "outputId": "5403d7d9-1766-408e-fc52-c9a541edccf7"
      },
      "source": [
        "# S2.4: Evaluate the SVR model using the 'r2_score', 'mean_squared_error' and 'mean_absolute_error' functions of the 'sklearn' module.\n",
        "from sklearn.metrics import mean_squared_error,mean_absolute_error,r2_score\n",
        "train1_pred = mod4.predict(x_train)\n",
        "test1_pred = mod4.predict(x_test)\n",
        "print(r2_score(y_train,train1_pred))\n",
        "print(mean_squared_error(y_train,train1_pred))\n",
        "print(np.sqrt(mean_squared_error(y_train,train1_pred)))\n",
        "print(mean_absolute_error(y_train,train1_pred))\n",
        "print()\n",
        "print(r2_score(y_test,test1_pred))\n",
        "print(mean_squared_error(y_test,test1_pred))\n",
        "print(np.sqrt(mean_squared_error(y_test,test1_pred)))\n",
        "print(mean_absolute_error(y_test,test1_pred))"
      ],
      "execution_count": null,
      "outputs": [
        {
          "output_type": "stream",
          "name": "stdout",
          "text": [
            "0.9999991257419732\n",
            "0.003424976298446393\n",
            "0.05852329705720956\n",
            "0.04847842540632001\n",
            "\n",
            "0.9999988897788448\n",
            "0.005008590177571036\n",
            "0.07077139378005097\n",
            "0.06106172557705678\n"
          ]
        }
      ]
    },
    {
      "cell_type": "markdown",
      "metadata": {
        "id": "RkY9p6BYYBof"
      },
      "source": [
        "As it can be observed, the $R^2$ is `1` and the MSE, RMSE and MAE values are also very low. \n",
        "\n",
        "Let's analyse the residuals to further evaluate the efficacy of the model.\n",
        "\n",
        "Let us plot the histogram for the residuals obtained for the train and test sets.\n",
        "\n"
      ]
    },
    {
      "cell_type": "code",
      "metadata": {
        "id": "FpXlTxKbRzsg",
        "colab": {
          "base_uri": "https://localhost:8080/",
          "height": 840
        },
        "outputId": "99fb7e5c-2aaf-42a4-bbd8-17c3bc59dcba"
      },
      "source": [
        "# S2.5: Create histograms for the errors obtained between the predicted and actual target values for the train and test set.\n",
        "# Calculate the errors obtained for the train set.\n",
        "\n",
        "er_train = y_train-train1_pred\n",
        "er_test = y_test-test1_pred\n",
        "plt.figure(figsize=(10,10))\n",
        "plt.hist(er_train,bins='sturges', edgecolor='black')\n",
        "plt.axvline(np.mean(er_train),label=np.mean(er_train))\n",
        "plt.legend()\n",
        "plt.show()\n",
        "# Calculate the errors obtained in the training set\n",
        "plt.hist(er_test,bins='sturges', edgecolor='black')\n",
        "plt.axvline(np.mean(er_test),label=np.mean(er_test))\n",
        "plt.legend()\n",
        "plt.show()\n",
        "\n",
        "# Calculate the errors obtained for the test set\n",
        "\n",
        "\n",
        "# Create a histogram for the errors obtained between the predicted and actual target values for the test set.\n"
      ],
      "execution_count": null,
      "outputs": [
        {
          "output_type": "display_data",
          "data": {
            "text/plain": [
              "<Figure size 720x720 with 1 Axes>"
            ],
            "image/png": "[encoded data removed]"
          },
          "metadata": {
            "needs_background": "light"
          }
        },
        {
          "output_type": "display_data",
          "data": {
            "text/plain": [
              "<Figure size 432x288 with 1 Axes>"
            ],
            "image/png": "[encoded data removed]"
          },
          "metadata": {
            "needs_background": "light"
          }
        }
      ]
    },
    {
      "cell_type": "markdown",
      "metadata": {
        "id": "o80KspdmRzsi"
      },
      "source": [
        "Here, the mean of errors obtained in the predictions for the train and test sets are very close to **zero**.\n",
        "\n",
        "For one final check, let's create a scatter plot between the actual and predicted targets for the train and test set.\n"
      ]
    },
    {
      "cell_type": "code",
      "metadata": {
        "id": "aZHkhVAgRzsi",
        "colab": {
          "base_uri": "https://localhost:8080/",
          "height": 513
        },
        "outputId": "91f2134c-991c-493a-a3f6-72cf6c108017"
      },
      "source": [
        "# S2.6: Create a scatter plot between the actual and the predicted targets for the train and test sets.\n",
        "plt.scatter(y_train,train1_pred)\n",
        "plt.show()\n",
        "plt.scatter(y_test,test1_pred)\n",
        "plt.show()\n",
        "# Create a scatter plot between the actual and predicted targets for the train set.\n",
        "\n",
        "# Create a scatter plot between the actual and predicted targets for the test set.\n"
      ],
      "execution_count": null,
      "outputs": [
        {
          "output_type": "display_data",
          "data": {
            "text/plain": [
              "<Figure size 432x288 with 1 Axes>"
            ],
            "image/png": "[encoded data removed]"
          },
          "metadata": {
            "needs_background": "light"
          }
        },
        {
          "output_type": "display_data",
          "data": {
            "text/plain": [
              "<Figure size 432x288 with 1 Axes>"
            ],
            "image/png": "[encoded data removed]"
          },
          "metadata": {
            "needs_background": "light"
          }
        }
      ]
    },
    {
      "cell_type": "markdown",
      "metadata": {
        "id": "F_dGrgUPRbmN"
      },
      "source": [
        "As we can observe, the actual and predicted target values create a straight linear line. Hence, we can conclude the SVR model created is accurate.\n",
        "\n",
        "Let's stop here. You will learn to install Python and Sublime Text code editor in your personal computer in the next class."
      ]
    },
    {
      "cell_type": "markdown",
      "metadata": {
        "id": "VjoDK6tSaxOf"
      },
      "source": [
        "----"
      ]
    },
    {
      "cell_type": "markdown",
      "metadata": {
        "id": "Y0d5IWF8f-rZ"
      },
      "source": [
        "### **Project**\n",
        "You can now attempt the **Applied Tech Project 91 - Hyperparameter Tuning** on your own.\n",
        "\n",
        "**Applied Tech Project 91 - Hyperparameter Tuning**: https://colab.research.google.com/drive/1SHLHHpzCu0IRIeQM9c5htFT5lryNO9h7"
      ]
    },
    {
      "cell_type": "markdown",
      "metadata": {
        "id": "NHHsf-a9gKBo"
      },
      "source": [
        "---"
      ]
    }
  ]
}