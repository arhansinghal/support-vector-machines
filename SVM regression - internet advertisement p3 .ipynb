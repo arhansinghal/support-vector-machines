{
  "nbformat": 4,
  "nbformat_minor": 0,
  "metadata": {
    "colab": {
      "provenance": []
    },
    "kernelspec": {
      "name": "python3",
      "display_name": "Python 3"
    },
    "language_info": {
      "name": "python"
    }
  },
  "cells": [
    {
      "cell_type": "markdown",
      "metadata": {
        "id": "q3pyBW5-NjiW"
      },
      "source": [
        "# Lesson 90: Support Vector Machines - Regression"
      ]
    },
    {
      "cell_type": "markdown",
      "metadata": {
        "id": "nMyG6o7bOtXX"
      },
      "source": [
        "### Teacher-Student Activities\n",
        "\n",
        "In the previous classes, you learnt the undersampling technique to resample the data. In this class, you will create some SVC models with different kernels from the resampled data and observe the difference in the efficacy of the model.\n",
        "\n",
        "Also in this class, you will learn to create a regression model using Support Vector Machine.\n",
        "\n",
        "\n",
        "Let's quickly go through the activities covered in the previous class and start this lesson from **Activity 1: Model Building After Undersampling** section.\n",
        "\n",
        "**Data Description**\n",
        "\n",
        "There are 1559 columns in the data. Each row in the data represents one image that is tagged as `ad.` or `nonad.` in the last column. Here's the description of each column:\n",
        "\n",
        "- **`Unnamed: 0`**: Unique ID of each image\n",
        "- **`0`**: Height of an image\n",
        "- **`1`**: Width of an image\n",
        "- **`2`**: Aspect ratio (ratio of width to the height) of an image\n",
        "- Columns **`3`** to **`1557`**: Pixel values of an image\n",
        "- **`1558`**: Whether the image belongs to an advertisement or not\n",
        "\n",
        "**Dataset credits:** *https://archive.ics.uci.edu/ml/datasets/internet+advertisements*\n",
        "\n",
        "**Citation:** \n",
        "\n",
        "Dua, D., & Graff, C.. (2017). UCI Machine Learning Repository.\n",
        "\n",
        "\n",
        "\n",
        "\n"
      ]
    },
    {
      "cell_type": "markdown",
      "metadata": {
        "id": "iJDraPLEOscc"
      },
      "source": [
        "---"
      ]
    },
    {
      "cell_type": "markdown",
      "metadata": {
        "id": "7r_orH8cQgRL"
      },
      "source": [
        "#### Loading Dataset\n",
        "\n",
        "Import all the required Python modules and load the dataset. Here's the link to the dataset:\n",
        "\n",
        "https://s3-student-datasets-bucket.whjr.online/whitehat-ds-datasets/ad-or-nonad.csv"
      ]
    },
    {
      "cell_type": "markdown",
      "metadata": {
        "id": "gyX8-6BB9XNu"
      },
      "source": []
    },
    {
      "cell_type": "code",
      "metadata": {
        "id": "QukLlDZ7trlw",
        "colab": {
          "base_uri": "https://localhost:8080/"
        },
        "outputId": "d585f9aa-d88f-439c-b66e-dee72a42a7ec"
      },
      "source": [
        "# Import all the required Python modules and load the dataset.\n",
        "import numpy as np\n",
        "import pandas as pd\n",
        "import matplotlib.pyplot as plt\n",
        "import seaborn as sns\n",
        "\n",
        "df = pd.read_csv(\"https://s3-student-datasets-bucket.whjr.online/whitehat-ds-datasets/ad-or-nonad.csv\")\n",
        "\n",
        "# Drop the 'Unnamed: 0' column from the DataFrame.\n",
        "df.drop(columns = \"Unnamed: 0\", inplace = True)\n",
        "\n",
        "# Get information about the dataset.\n",
        "df.info()"
      ],
      "execution_count": null,
      "outputs": [
        {
          "output_type": "stream",
          "name": "stderr",
          "text": [
            "/usr/local/lib/python3.7/dist-packages/IPython/core/interactiveshell.py:2882: DtypeWarning: Columns (4) have mixed types.Specify dtype option on import or set low_memory=False.\n",
            "  exec(code_obj, self.user_global_ns, self.user_ns)\n"
          ]
        },
        {
          "output_type": "stream",
          "name": "stdout",
          "text": [
            "<class 'pandas.core.frame.DataFrame'>\n",
            "RangeIndex: 3279 entries, 0 to 3278\n",
            "Columns: 1559 entries, 0 to 1558\n",
            "dtypes: int64(1554), object(5)\n",
            "memory usage: 39.0+ MB\n"
          ]
        }
      ]
    },
    {
      "cell_type": "code",
      "metadata": {
        "id": "3jt9JQtQx5ik",
        "colab": {
          "base_uri": "https://localhost:8080/"
        },
        "outputId": "576d2cb4-d0a6-435c-b62a-45d7529ee551"
      },
      "source": [
        "# Rename the columns '0, 1, 2' and '1558' of the DataFrame with their correct names as stated  654 above.\n",
        "df = df.rename(columns = {\"0\": \"height\", \"1\": \"width\", \"2\": \"aspect ratio\", \"1558\": \"target\"})\n",
        "\n",
        "# Calculate the total sum of the missing (or null) values in all the columns in the DataFrame.\n",
        "df.isnull().sum().sum()"
      ],
      "execution_count": null,
      "outputs": [
        {
          "output_type": "execute_result",
          "data": {
            "text/plain": [
              "0"
            ]
          },
          "metadata": {},
          "execution_count": 2
        }
      ]
    },
    {
      "cell_type": "markdown",
      "metadata": {
        "id": "ICwlwePUHlhU"
      },
      "source": [
        "---"
      ]
    },
    {
      "cell_type": "markdown",
      "metadata": {
        "id": "9JKz7YqJF6g3"
      },
      "source": [
        "#### Removing Rows from Pandas DataFrame\n",
        "\n",
        "To **remove** all the rows containing question marks in both `height` and `width` columns:\n",
        "\n",
        "1. Retrieve all the rows containing question marks in both `height` and `width` columns.\n",
        "\n",
        "2. Use the tilde (`~`) symbol to reverse (or conjugate or negate) the conditional statement used to retrieve all the rows containing question marks in both `height` and `width` columns. "
      ]
    },
    {
      "cell_type": "code",
      "metadata": {
        "id": "v73gxtdnAdjk",
        "colab": {
          "base_uri": "https://localhost:8080/",
          "height": 424
        },
        "outputId": "2caf9b90-e54d-4912-9f34-1cd98a67391b"
      },
      "source": [
        "# Remove all the rows containing question marks in both height and width columns\n",
        "df = df[~((df[\"height\"] == \"   ?\") & (df[\"width\"] == \"   ?\"))]\n",
        "\n",
        "# Remove the above 9 rows containing unwanted values in both 'height' and 'aspect ratio' columns.\n",
        "df = df[df[\"height\"] != \"   ?\"]\n",
        "\n",
        "# Remove the above 7 rows containing unwanted values in both 'height' and 'aspect ratio' columns.\n",
        "df = df[df[\"width\"] != \"   ?\"]\n",
        "\n",
        "# Remove the rows containing unwanted values in the column titled '3'.\n",
        "df = df[df[\"3\"] != \"?\"]\n",
        "\n",
        "# Convert the numeric values reported as the non-numeric values to numeric values in all the columns except in the target column.\n",
        "df[df.columns[:-1]] = df[df.columns[:-1]].apply(pd.to_numeric)\n",
        "df"
      ],
      "execution_count": null,
      "outputs": [
        {
          "output_type": "execute_result",
          "data": {
            "text/plain": [
              "      height  width  aspect ratio  3  4  5  6  7  8  9  ...  1549  1550  1551  \\\n",
              "0        125    125        1.0000  1  0  0  0  0  0  0  ...     0     0     0   \n",
              "1         57    468        8.2105  1  0  0  0  0  0  0  ...     0     0     0   \n",
              "2         33    230        6.9696  1  0  0  0  0  0  0  ...     0     0     0   \n",
              "3         60    468        7.8000  1  0  0  0  0  0  0  ...     0     0     0   \n",
              "4         60    468        7.8000  1  0  0  0  0  0  0  ...     0     0     0   \n",
              "...      ...    ...           ... .. .. .. .. .. .. ..  ...   ...   ...   ...   \n",
              "3273      30     30        1.0000  0  0  0  0  0  0  0  ...     0     0     0   \n",
              "3274     170     94        0.5529  0  0  0  0  0  0  0  ...     0     0     0   \n",
              "3275     101    140        1.3861  1  0  0  0  0  0  0  ...     0     0     0   \n",
              "3276      23    120        5.2173  1  0  0  0  0  0  0  ...     0     0     0   \n",
              "3278      40     40        1.0000  1  0  0  0  0  0  0  ...     0     0     0   \n",
              "\n",
              "      1552  1553  1554  1555  1556  1557  target  \n",
              "0        0     0     0     0     0     0     ad.  \n",
              "1        0     0     0     0     0     0     ad.  \n",
              "2        0     0     0     0     0     0     ad.  \n",
              "3        0     0     0     0     0     0     ad.  \n",
              "4        0     0     0     0     0     0     ad.  \n",
              "...    ...   ...   ...   ...   ...   ...     ...  \n",
              "3273     0     0     0     0     0     0  nonad.  \n",
              "3274     0     0     0     0     0     0  nonad.  \n",
              "3275     0     0     0     0     0     0  nonad.  \n",
              "3276     0     0     0     0     0     0  nonad.  \n",
              "3278     0     0     0     0     0     0  nonad.  \n",
              "\n",
              "[2359 rows x 1559 columns]"
            ],
            "text/html": [
              "\n",
              "  <div id=\"df-08709af6-4940-4136-a473-0753c8035a1d\">\n",
              "    <div class=\"colab-df-container\">\n",
              "      <div>\n",
              "<style scoped>\n",
              "    .dataframe tbody tr th:only-of-type {\n",
              "        vertical-align: middle;\n",
              "    }\n",
              "\n",
              "    .dataframe tbody tr th {\n",
              "        vertical-align: top;\n",
              "    }\n",
              "\n",
              "    .dataframe thead th {\n",
              "        text-align: right;\n",
              "    }\n",
              "</style>\n",
              "<table border=\"1\" class=\"dataframe\">\n",
              "  <thead>\n",
              "    <tr style=\"text-align: right;\">\n",
              "      <th></th>\n",
              "      <th>height</th>\n",
              "      <th>width</th>\n",
              "      <th>aspect ratio</th>\n",
              "      <th>3</th>\n",
              "      <th>4</th>\n",
              "      <th>5</th>\n",
              "      <th>6</th>\n",
              "      <th>7</th>\n",
              "      <th>8</th>\n",
              "      <th>9</th>\n",
              "      <th>...</th>\n",
              "      <th>1549</th>\n",
              "      <th>1550</th>\n",
              "      <th>1551</th>\n",
              "      <th>1552</th>\n",
              "      <th>1553</th>\n",
              "      <th>1554</th>\n",
              "      <th>1555</th>\n",
              "      <th>1556</th>\n",
              "      <th>1557</th>\n",
              "      <th>target</th>\n",
              "    </tr>\n",
              "  </thead>\n",
              "  <tbody>\n",
              "    <tr>\n",
              "      <th>0</th>\n",
              "      <td>125</td>\n",
              "      <td>125</td>\n",
              "      <td>1.0000</td>\n",
              "      <td>1</td>\n",
              "      <td>0</td>\n",
              "      <td>0</td>\n",
              "      <td>0</td>\n",
              "      <td>0</td>\n",
              "      <td>0</td>\n",
              "      <td>0</td>\n",
              "      <td>...</td>\n",
              "      <td>0</td>\n",
              "      <td>0</td>\n",
              "      <td>0</td>\n",
              "      <td>0</td>\n",
              "      <td>0</td>\n",
              "      <td>0</td>\n",
              "      <td>0</td>\n",
              "      <td>0</td>\n",
              "      <td>0</td>\n",
              "      <td>ad.</td>\n",
              "    </tr>\n",
              "    <tr>\n",
              "      <th>1</th>\n",
              "      <td>57</td>\n",
              "      <td>468</td>\n",
              "      <td>8.2105</td>\n",
              "      <td>1</td>\n",
              "      <td>0</td>\n",
              "      <td>0</td>\n",
              "      <td>0</td>\n",
              "      <td>0</td>\n",
              "      <td>0</td>\n",
              "      <td>0</td>\n",
              "      <td>...</td>\n",
              "      <td>0</td>\n",
              "      <td>0</td>\n",
              "      <td>0</td>\n",
              "      <td>0</td>\n",
              "      <td>0</td>\n",
              "      <td>0</td>\n",
              "      <td>0</td>\n",
              "      <td>0</td>\n",
              "      <td>0</td>\n",
              "      <td>ad.</td>\n",
              "    </tr>\n",
              "    <tr>\n",
              "      <th>2</th>\n",
              "      <td>33</td>\n",
              "      <td>230</td>\n",
              "      <td>6.9696</td>\n",
              "      <td>1</td>\n",
              "      <td>0</td>\n",
              "      <td>0</td>\n",
              "      <td>0</td>\n",
              "      <td>0</td>\n",
              "      <td>0</td>\n",
              "      <td>0</td>\n",
              "      <td>...</td>\n",
              "      <td>0</td>\n",
              "      <td>0</td>\n",
              "      <td>0</td>\n",
              "      <td>0</td>\n",
              "      <td>0</td>\n",
              "      <td>0</td>\n",
              "      <td>0</td>\n",
              "      <td>0</td>\n",
              "      <td>0</td>\n",
              "      <td>ad.</td>\n",
              "    </tr>\n",
              "    <tr>\n",
              "      <th>3</th>\n",
              "      <td>60</td>\n",
              "      <td>468</td>\n",
              "      <td>7.8000</td>\n",
              "      <td>1</td>\n",
              "      <td>0</td>\n",
              "      <td>0</td>\n",
              "      <td>0</td>\n",
              "      <td>0</td>\n",
              "      <td>0</td>\n",
              "      <td>0</td>\n",
              "      <td>...</td>\n",
              "      <td>0</td>\n",
              "      <td>0</td>\n",
              "      <td>0</td>\n",
              "      <td>0</td>\n",
              "      <td>0</td>\n",
              "      <td>0</td>\n",
              "      <td>0</td>\n",
              "      <td>0</td>\n",
              "      <td>0</td>\n",
              "      <td>ad.</td>\n",
              "    </tr>\n",
              "    <tr>\n",
              "      <th>4</th>\n",
              "      <td>60</td>\n",
              "      <td>468</td>\n",
              "      <td>7.8000</td>\n",
              "      <td>1</td>\n",
              "      <td>0</td>\n",
              "      <td>0</td>\n",
              "      <td>0</td>\n",
              "      <td>0</td>\n",
              "      <td>0</td>\n",
              "      <td>0</td>\n",
              "      <td>...</td>\n",
              "      <td>0</td>\n",
              "      <td>0</td>\n",
              "      <td>0</td>\n",
              "      <td>0</td>\n",
              "      <td>0</td>\n",
              "      <td>0</td>\n",
              "      <td>0</td>\n",
              "      <td>0</td>\n",
              "      <td>0</td>\n",
              "      <td>ad.</td>\n",
              "    </tr>\n",
              "    <tr>\n",
              "      <th>...</th>\n",
              "      <td>...</td>\n",
              "      <td>...</td>\n",
              "      <td>...</td>\n",
              "      <td>...</td>\n",
              "      <td>...</td>\n",
              "      <td>...</td>\n",
              "      <td>...</td>\n",
              "      <td>...</td>\n",
              "      <td>...</td>\n",
              "      <td>...</td>\n",
              "      <td>...</td>\n",
              "      <td>...</td>\n",
              "      <td>...</td>\n",
              "      <td>...</td>\n",
              "      <td>...</td>\n",
              "      <td>...</td>\n",
              "      <td>...</td>\n",
              "      <td>...</td>\n",
              "      <td>...</td>\n",
              "      <td>...</td>\n",
              "      <td>...</td>\n",
              "    </tr>\n",
              "    <tr>\n",
              "      <th>3273</th>\n",
              "      <td>30</td>\n",
              "      <td>30</td>\n",
              "      <td>1.0000</td>\n",
              "      <td>0</td>\n",
              "      <td>0</td>\n",
              "      <td>0</td>\n",
              "      <td>0</td>\n",
              "      <td>0</td>\n",
              "      <td>0</td>\n",
              "      <td>0</td>\n",
              "      <td>...</td>\n",
              "      <td>0</td>\n",
              "      <td>0</td>\n",
              "      <td>0</td>\n",
              "      <td>0</td>\n",
              "      <td>0</td>\n",
              "      <td>0</td>\n",
              "      <td>0</td>\n",
              "      <td>0</td>\n",
              "      <td>0</td>\n",
              "      <td>nonad.</td>\n",
              "    </tr>\n",
              "    <tr>\n",
              "      <th>3274</th>\n",
              "      <td>170</td>\n",
              "      <td>94</td>\n",
              "      <td>0.5529</td>\n",
              "      <td>0</td>\n",
              "      <td>0</td>\n",
              "      <td>0</td>\n",
              "      <td>0</td>\n",
              "      <td>0</td>\n",
              "      <td>0</td>\n",
              "      <td>0</td>\n",
              "      <td>...</td>\n",
              "      <td>0</td>\n",
              "      <td>0</td>\n",
              "      <td>0</td>\n",
              "      <td>0</td>\n",
              "      <td>0</td>\n",
              "      <td>0</td>\n",
              "      <td>0</td>\n",
              "      <td>0</td>\n",
              "      <td>0</td>\n",
              "      <td>nonad.</td>\n",
              "    </tr>\n",
              "    <tr>\n",
              "      <th>3275</th>\n",
              "      <td>101</td>\n",
              "      <td>140</td>\n",
              "      <td>1.3861</td>\n",
              "      <td>1</td>\n",
              "      <td>0</td>\n",
              "      <td>0</td>\n",
              "      <td>0</td>\n",
              "      <td>0</td>\n",
              "      <td>0</td>\n",
              "      <td>0</td>\n",
              "      <td>...</td>\n",
              "      <td>0</td>\n",
              "      <td>0</td>\n",
              "      <td>0</td>\n",
              "      <td>0</td>\n",
              "      <td>0</td>\n",
              "      <td>0</td>\n",
              "      <td>0</td>\n",
              "      <td>0</td>\n",
              "      <td>0</td>\n",
              "      <td>nonad.</td>\n",
              "    </tr>\n",
              "    <tr>\n",
              "      <th>3276</th>\n",
              "      <td>23</td>\n",
              "      <td>120</td>\n",
              "      <td>5.2173</td>\n",
              "      <td>1</td>\n",
              "      <td>0</td>\n",
              "      <td>0</td>\n",
              "      <td>0</td>\n",
              "      <td>0</td>\n",
              "      <td>0</td>\n",
              "      <td>0</td>\n",
              "      <td>...</td>\n",
              "      <td>0</td>\n",
              "      <td>0</td>\n",
              "      <td>0</td>\n",
              "      <td>0</td>\n",
              "      <td>0</td>\n",
              "      <td>0</td>\n",
              "      <td>0</td>\n",
              "      <td>0</td>\n",
              "      <td>0</td>\n",
              "      <td>nonad.</td>\n",
              "    </tr>\n",
              "    <tr>\n",
              "      <th>3278</th>\n",
              "      <td>40</td>\n",
              "      <td>40</td>\n",
              "      <td>1.0000</td>\n",
              "      <td>1</td>\n",
              "      <td>0</td>\n",
              "      <td>0</td>\n",
              "      <td>0</td>\n",
              "      <td>0</td>\n",
              "      <td>0</td>\n",
              "      <td>0</td>\n",
              "      <td>...</td>\n",
              "      <td>0</td>\n",
              "      <td>0</td>\n",
              "      <td>0</td>\n",
              "      <td>0</td>\n",
              "      <td>0</td>\n",
              "      <td>0</td>\n",
              "      <td>0</td>\n",
              "      <td>0</td>\n",
              "      <td>0</td>\n",
              "      <td>nonad.</td>\n",
              "    </tr>\n",
              "  </tbody>\n",
              "</table>\n",
              "<p>2359 rows × 1559 columns</p>\n",
              "</div>\n",
              "      <button class=\"colab-df-convert\" onclick=\"convertToInteractive('df-08709af6-4940-4136-a473-0753c8035a1d')\"\n",
              "              title=\"Convert this dataframe to an interactive table.\"\n",
              "              style=\"display:none;\">\n",
              "        \n",
              "  <svg xmlns=\"http://www.w3.org/2000/svg\" height=\"24px\"viewBox=\"0 0 24 24\"\n",
              "       width=\"24px\">\n",
              "    <path d=\"M0 0h24v24H0V0z\" fill=\"none\"/>\n",
              "    <path d=\"M18.56 5.44l.94 2.06.94-2.06 2.06-.94-2.06-.94-.94-2.06-.94 2.06-2.06.94zm-11 1L8.5 8.5l.94-2.06 2.06-.94-2.06-.94L8.5 2.5l-.94 2.06-2.06.94zm10 10l.94 2.06.94-2.06 2.06-.94-2.06-.94-.94-2.06-.94 2.06-2.06.94z\"/><path d=\"M17.41 7.96l-1.37-1.37c-.4-.4-.92-.59-1.43-.59-.52 0-1.04.2-1.43.59L10.3 9.45l-7.72 7.72c-.78.78-.78 2.05 0 2.83L4 21.41c.39.39.9.59 1.41.59.51 0 1.02-.2 1.41-.59l7.78-7.78 2.81-2.81c.8-.78.8-2.07 0-2.86zM5.41 20L4 18.59l7.72-7.72 1.47 1.35L5.41 20z\"/>\n",
              "  </svg>\n",
              "      </button>\n",
              "      \n",
              "  <style>\n",
              "    .colab-df-container {\n",
              "      display:flex;\n",
              "      flex-wrap:wrap;\n",
              "      gap: 12px;\n",
              "    }\n",
              "\n",
              "    .colab-df-convert {\n",
              "      background-color: #E8F0FE;\n",
              "      border: none;\n",
              "      border-radius: 50%;\n",
              "      cursor: pointer;\n",
              "      display: none;\n",
              "      fill: #1967D2;\n",
              "      height: 32px;\n",
              "      padding: 0 0 0 0;\n",
              "      width: 32px;\n",
              "    }\n",
              "\n",
              "    .colab-df-convert:hover {\n",
              "      background-color: #E2EBFA;\n",
              "      box-shadow: 0px 1px 2px rgba(60, 64, 67, 0.3), 0px 1px 3px 1px rgba(60, 64, 67, 0.15);\n",
              "      fill: #174EA6;\n",
              "    }\n",
              "\n",
              "    [theme=dark] .colab-df-convert {\n",
              "      background-color: #3B4455;\n",
              "      fill: #D2E3FC;\n",
              "    }\n",
              "\n",
              "    [theme=dark] .colab-df-convert:hover {\n",
              "      background-color: #434B5C;\n",
              "      box-shadow: 0px 1px 3px 1px rgba(0, 0, 0, 0.15);\n",
              "      filter: drop-shadow(0px 1px 2px rgba(0, 0, 0, 0.3));\n",
              "      fill: #FFFFFF;\n",
              "    }\n",
              "  </style>\n",
              "\n",
              "      <script>\n",
              "        const buttonEl =\n",
              "          document.querySelector('#df-08709af6-4940-4136-a473-0753c8035a1d button.colab-df-convert');\n",
              "        buttonEl.style.display =\n",
              "          google.colab.kernel.accessAllowed ? 'block' : 'none';\n",
              "\n",
              "        async function convertToInteractive(key) {\n",
              "          const element = document.querySelector('#df-08709af6-4940-4136-a473-0753c8035a1d');\n",
              "          const dataTable =\n",
              "            await google.colab.kernel.invokeFunction('convertToInteractive',\n",
              "                                                     [key], {});\n",
              "          if (!dataTable) return;\n",
              "\n",
              "          const docLinkHtml = 'Like what you see? Visit the ' +\n",
              "            '<a target=\"_blank\" href=https://colab.research.google.com/notebooks/data_table.ipynb>data table notebook</a>'\n",
              "            + ' to learn more about interactive tables.';\n",
              "          element.innerHTML = '';\n",
              "          dataTable['output_type'] = 'display_data';\n",
              "          await google.colab.output.renderOutput(dataTable, element);\n",
              "          const docLink = document.createElement('div');\n",
              "          docLink.innerHTML = docLinkHtml;\n",
              "          element.appendChild(docLink);\n",
              "        }\n",
              "      </script>\n",
              "    </div>\n",
              "  </div>\n",
              "  "
            ]
          },
          "metadata": {},
          "execution_count": 3
        }
      ]
    },
    {
      "cell_type": "markdown",
      "metadata": {
        "id": "SlVlsifjVkKw"
      },
      "source": [
        "---"
      ]
    },
    {
      "cell_type": "markdown",
      "metadata": {
        "id": "K5-A3uAqIPV1"
      },
      "source": [
        "#### Mapping Non-Numeric Categorical Values to Numeric\n",
        "\n",
        "The labels or classes in the `target` column are `nonad.` and `ad.` that are non-numeric values. To be able to build a classification model, first, we have to map them to numeric values. For this, you can use the `map()` function of the Pandas module. It takes a Python dictionary as input containing the old values and new values as key-value pairs.\n",
        "\n",
        "**Syntax:** `pandas_series.map({old_value1 : new_value1, old_value2: new_value2, ... old_valueN : new_valueN})`\n",
        "\n",
        "Where, \n",
        "\n",
        "- `pandas_series` is a series that contains the values to be mapped.\n",
        "\n",
        "- `map()` function maps the old values to new values.\n",
        "\n",
        "- `{old_value1 : new_value1, old_value2: new_value2, ... old_valueN : new_valueN}` is a dictionary containing the old values and new values as key-value pairs."
      ]
    },
    {
      "cell_type": "code",
      "metadata": {
        "id": "e_x_Y3Y_In0p",
        "colab": {
          "base_uri": "https://localhost:8080/"
        },
        "outputId": "3cf9b8f1-7af5-4d68-8595-0e95a227beff"
      },
      "source": [
        "# Map the 'nonad.' and 'ad.' values to 0 and 1.\n",
        "df[\"target\"] = df[\"target\"].map({\"nonad.\": 0, \"ad.\": 1})\n",
        "\n",
        "# Get the count of the values stored in the target column.\n",
        "df[\"target\"].value_counts()"
      ],
      "execution_count": null,
      "outputs": [
        {
          "output_type": "execute_result",
          "data": {
            "text/plain": [
              "0    1978\n",
              "1     381\n",
              "Name: target, dtype: int64"
            ]
          },
          "metadata": {},
          "execution_count": 4
        }
      ]
    },
    {
      "cell_type": "markdown",
      "metadata": {
        "id": "qIqf6d4op8Oq"
      },
      "source": [
        "---"
      ]
    },
    {
      "cell_type": "markdown",
      "metadata": {
        "id": "gMPniZr_p2Ni"
      },
      "source": [
        "#### Data Visualisation\n",
        "\n",
        "Create a scatter plot between the columns `height` and `weight` of all images to find out whether they follow distinguishing patterns for the advertisement and non-advertisement images:"
      ]
    },
    {
      "cell_type": "code",
      "metadata": {
        "id": "II7L1qKcI1Vh",
        "colab": {
          "base_uri": "https://localhost:8080/",
          "height": 366
        },
        "outputId": "f4da35ce-4cdf-4a18-902c-1eb8dadf6d2f"
      },
      "source": [
        "# Create a scatter plot between the columns height and weight of all images.\n",
        "plt.figure(figsize = (6, 4), dpi = 96)\n",
        "sns.scatterplot(x = \"height\", y = \"width\", data = df, hue = \"target\")\n",
        "plt.show()"
      ],
      "execution_count": null,
      "outputs": [
        {
          "output_type": "display_data",
          "data": {
            "text/plain": [
              "<Figure size 576x384 with 1 Axes>"
            ],
            "image/png": "[encoded data removed]"
          },
          "metadata": {
            "needs_background": "light"
          }
        }
      ]
    },
    {
      "cell_type": "markdown",
      "metadata": {
        "id": "FaLl16dhUQUE"
      },
      "source": [
        "From the scatter plot, we can see that for the advertisement images, the width values are usually higher for a particular height. Let's confirm this observation by plotting two different box plots: \n",
        "- For the width of all the advertisement.\n",
        "- For the width of all the non-advertisement images."
      ]
    },
    {
      "cell_type": "code",
      "metadata": {
        "id": "_OgwGCjysIcq",
        "colab": {
          "base_uri": "https://localhost:8080/",
          "height": 231
        },
        "outputId": "ba7e3f13-0434-4d4c-a5a6-42f12d363827"
      },
      "source": [
        "# Create a boxplot to compare the width values for both advertisement and non-advertisement images.\n",
        "plt.figure(figsize = (10, 2), dpi = 100)\n",
        "sns.boxplot(x = \"width\", y = \"target\", data = df, orient = \"h\")\n",
        "plt.yticks(ticks = [0, 1], labels = [\"nonad\", \"ad\"])\n",
        "plt.show()"
      ],
      "execution_count": null,
      "outputs": [
        {
          "output_type": "display_data",
          "data": {
            "text/plain": [
              "<Figure size 1000x200 with 1 Axes>"
            ],
            "image/png": "[encoded data removed]"
          },
          "metadata": {
            "needs_background": "light"
          }
        }
      ]
    },
    {
      "cell_type": "markdown",
      "metadata": {
        "id": "rQmMTy4Kj19e"
      },
      "source": [
        "For the advertisement images:\n",
        "\n",
        "- The width values are very spread apart from each other. \n",
        "- Additionally, the median width value is very close to the third quartile value.\n",
        "\n",
        "So the above box plot confirms the clear distinction between the width of advertisement and non-advertisement images. When we build a classification model using SVM, it should be able to detect this distinction.\n",
        "\n",
        "Similarly, let's check the trend for the height and aspect ratio values as well for both the types of images:"
      ]
    },
    {
      "cell_type": "code",
      "metadata": {
        "id": "oKuaUah7j-ma",
        "colab": {
          "base_uri": "https://localhost:8080/",
          "height": 231
        },
        "outputId": "c20130c4-8554-40db-ad8c-090fb4a2d790"
      },
      "source": [
        "# Create a boxplot to compare the width values for both advertisement and non-advertisement images.\n",
        "plt.figure(figsize = (10, 2), dpi = 100)\n",
        "sns.boxplot(x = \"height\", y = \"target\", data = df, orient = \"h\")\n",
        "plt.yticks(ticks = [0, 1], labels = [\"nonad\", \"ad\"])\n",
        "plt.show()"
      ],
      "execution_count": null,
      "outputs": [
        {
          "output_type": "display_data",
          "data": {
            "text/plain": [
              "<Figure size 1000x200 with 1 Axes>"
            ],
            "image/png": "[encoded data removed]"
          },
          "metadata": {
            "needs_background": "light"
          }
        }
      ]
    },
    {
      "cell_type": "markdown",
      "metadata": {
        "id": "zLOsJN_ckDGx"
      },
      "source": [
        "From the above graph, it appears that the first quartile, median, and third quartile height values are coinciding with each other for the advertisement images. Let's calculate these values to verify our observation:"
      ]
    },
    {
      "cell_type": "code",
      "metadata": {
        "id": "Zo0d8JMGkcIV",
        "colab": {
          "base_uri": "https://localhost:8080/"
        },
        "outputId": "a03f3375-bb80-4966-d862-1f6d4647c6d9"
      },
      "source": [
        "# Calculate 1st, 2nd, and 3rd quartile height values are for the advertisement images.  \n",
        "df[df[\"target\"] == 1][\"height\"].describe()"
      ],
      "execution_count": null,
      "outputs": [
        {
          "output_type": "execute_result",
          "data": {
            "text/plain": [
              "count    381.000000\n",
              "mean      67.307087\n",
              "std       39.296011\n",
              "min        2.000000\n",
              "25%       60.000000\n",
              "50%       60.000000\n",
              "75%       60.000000\n",
              "max      477.000000\n",
              "Name: height, dtype: float64"
            ]
          },
          "metadata": {},
          "execution_count": 8
        }
      ]
    },
    {
      "cell_type": "markdown",
      "metadata": {
        "id": "O15DV45alDA3"
      },
      "source": [
        "So our supposition was correct. The three quartile height values for the advertisement images do coincide:\n"
      ]
    },
    {
      "cell_type": "code",
      "metadata": {
        "id": "Qg93GlImtD9f",
        "colab": {
          "base_uri": "https://localhost:8080/",
          "height": 231
        },
        "outputId": "795bdb44-242a-4088-8149-716516be3326"
      },
      "source": [
        "# Create a boxplot to compare the aspect ratio values for both advertisement and non-advertisement images.\n",
        "plt.figure(figsize = (10, 2), dpi = 100)\n",
        "sns.boxplot(x = \"aspect ratio\", y = \"target\", data = df, orient = \"h\")\n",
        "plt.yticks(ticks = [0, 1], labels = [\"nonad\", \"ad\"])\n",
        "plt.show()"
      ],
      "execution_count": null,
      "outputs": [
        {
          "output_type": "display_data",
          "data": {
            "text/plain": [
              "<Figure size 1000x200 with 1 Axes>"
            ],
            "image/png": "[encoded data removed]"
          },
          "metadata": {
            "needs_background": "light"
          }
        }
      ]
    },
    {
      "cell_type": "markdown",
      "metadata": {
        "id": "zU1OQseyuyre"
      },
      "source": [
        "In this case, too, the aspect ratio values of the advertisement images are generally larger. You can see the median aspect ratio for the `nonad` images is lower than the first quartile aspect ratio for the `ad` images."
      ]
    },
    {
      "cell_type": "markdown",
      "metadata": {
        "id": "PTrsY7USKJhl"
      },
      "source": [
        "---"
      ]
    },
    {
      "cell_type": "markdown",
      "metadata": {
        "id": "jUcmzQ8PJLST"
      },
      "source": [
        "#### Feature Scaling\n",
        "\n",
        "To normalise the values in an array or DataFrame using the standard scaler method, you can:\n",
        "\n",
        "1. Import the `StandardScaler` class from the `sklearn.preprocessing` module.\n",
        "\n",
        "2. Either create an object of the `StandardScaler` class to call the `fit_transform()` function or you can directly call this function on the `StandardScaler()` constructor. \n",
        "   \n",
        "   Inside the `fit_transform()` function, you can provide either both the features and target arrays or only one of the arrays to normalise the values using the standard scaler technique. The syntax is provided below:\n",
        "\n",
        "   **Syntax:** `StandardScaler().fit_transform(feature_dataset)`\n",
        "\n",
        "   The `fit_transform()` function returns a NumPy array of the scaled feature values where the mean of the distribution is `0` and the standard deviation is `1`. \n",
        "\n"
      ]
    },
    {
      "cell_type": "code",
      "metadata": {
        "id": "nwJjuCb-JKmY",
        "colab": {
          "base_uri": "https://localhost:8080/",
          "height": 505
        },
        "outputId": "f2b12f41-b0da-494a-b77b-a29631c7d72b"
      },
      "source": [
        "# Normalise the feature column values using the 'StandarScaler' method.\n",
        "# Import the module\n",
        "from sklearn.preprocessing import StandardScaler\n",
        "\n",
        "# Create a DataFrame for the independent features columns\n",
        "features = df[df.columns[:-1]]\n",
        "\n",
        "# Scale the feature DataFrame\n",
        "scaled_features = StandardScaler().fit_transform(features)\n",
        "\n",
        "# Create a Pandas DataFrame for the scaled features having the same column names as the non-scaled features DataFrame.\n",
        "scaled_features_df = pd.DataFrame(data = scaled_features, columns = [df.columns[:-1]])\n",
        "scaled_features_df"
      ],
      "execution_count": null,
      "outputs": [
        {
          "output_type": "execute_result",
          "data": {
            "text/plain": [
              "        height     width aspect ratio         3         4    5         6  \\\n",
              "0     1.113328 -0.235247    -0.481808  0.562500 -0.046087  0.0 -0.079996   \n",
              "1    -0.125976  2.398954     0.710811  0.562500 -0.046087  0.0 -0.079996   \n",
              "2    -0.563378  0.571141     0.505566  0.562500 -0.046087  0.0 -0.079996   \n",
              "3    -0.071301  2.398954     0.642914  0.562500 -0.046087  0.0 -0.079996   \n",
              "4    -0.071301  2.398954     0.642914  0.562500 -0.046087  0.0 -0.079996   \n",
              "...        ...       ...          ...       ...       ...  ...       ...   \n",
              "2354 -0.618053 -0.964837    -0.481808 -1.777778 -0.046087  0.0 -0.079996   \n",
              "2355  1.933456 -0.473324    -0.555759 -1.777778 -0.046087  0.0 -0.079996   \n",
              "2356  0.675927 -0.120049    -0.417947  0.562500 -0.046087  0.0 -0.079996   \n",
              "2357 -0.745628 -0.273647     0.215735  0.562500 -0.046087  0.0 -0.079996   \n",
              "2358 -0.435802 -0.888038    -0.481808  0.562500 -0.046087  0.0 -0.079996   \n",
              "\n",
              "             7         8        9  ...       1548      1549      1550  \\\n",
              "0    -0.068446 -0.068446 -0.12272  ...  -0.041213 -0.061885 -0.035684   \n",
              "1    -0.068446 -0.068446 -0.12272  ...  -0.041213 -0.061885 -0.035684   \n",
              "2    -0.068446 -0.068446 -0.12272  ...  -0.041213 -0.061885 -0.035684   \n",
              "3    -0.068446 -0.068446 -0.12272  ...  -0.041213 -0.061885 -0.035684   \n",
              "4    -0.068446 -0.068446 -0.12272  ...  -0.041213 -0.061885 -0.035684   \n",
              "...        ...       ...      ...  ...        ...       ...       ...   \n",
              "2354 -0.068446 -0.068446 -0.12272  ...  24.264171 -0.061885 -0.035684   \n",
              "2355 -0.068446 -0.068446 -0.12272  ...  -0.041213 -0.061885 -0.035684   \n",
              "2356 -0.068446 -0.068446 -0.12272  ...  -0.041213 -0.061885 -0.035684   \n",
              "2357 -0.068446 -0.068446 -0.12272  ...  -0.041213 -0.061885 -0.035684   \n",
              "2358 -0.068446 -0.068446 -0.12272  ...  -0.041213 -0.061885 -0.035684   \n",
              "\n",
              "          1551      1552     1553      1554     1555      1556     1557  \n",
              "0    -0.046087 -0.050497 -0.09247 -0.119111 -0.12272 -0.099226 -0.02913  \n",
              "1    -0.046087 -0.050497 -0.09247 -0.119111 -0.12272 -0.099226 -0.02913  \n",
              "2    -0.046087 -0.050497 -0.09247 -0.119111 -0.12272 -0.099226 -0.02913  \n",
              "3    -0.046087 -0.050497 -0.09247 -0.119111 -0.12272 -0.099226 -0.02913  \n",
              "4    -0.046087 -0.050497 -0.09247 -0.119111 -0.12272 -0.099226 -0.02913  \n",
              "...        ...       ...      ...       ...      ...       ...      ...  \n",
              "2354 -0.046087 -0.050497 -0.09247 -0.119111 -0.12272 -0.099226 -0.02913  \n",
              "2355 -0.046087 -0.050497 -0.09247 -0.119111 -0.12272 -0.099226 -0.02913  \n",
              "2356 -0.046087 -0.050497 -0.09247 -0.119111 -0.12272 -0.099226 -0.02913  \n",
              "2357 -0.046087 -0.050497 -0.09247 -0.119111 -0.12272 -0.099226 -0.02913  \n",
              "2358 -0.046087 -0.050497 -0.09247 -0.119111 -0.12272 -0.099226 -0.02913  \n",
              "\n",
              "[2359 rows x 1558 columns]"
            ],
            "text/html": [
              "\n",
              "  <div id=\"df-b5eb3c88-2556-4668-8de5-fa7ffb584022\">\n",
              "    <div class=\"colab-df-container\">\n",
              "      <div>\n",
              "<style scoped>\n",
              "    .dataframe tbody tr th:only-of-type {\n",
              "        vertical-align: middle;\n",
              "    }\n",
              "\n",
              "    .dataframe tbody tr th {\n",
              "        vertical-align: top;\n",
              "    }\n",
              "\n",
              "    .dataframe thead tr th {\n",
              "        text-align: left;\n",
              "    }\n",
              "</style>\n",
              "<table border=\"1\" class=\"dataframe\">\n",
              "  <thead>\n",
              "    <tr>\n",
              "      <th></th>\n",
              "      <th>height</th>\n",
              "      <th>width</th>\n",
              "      <th>aspect ratio</th>\n",
              "      <th>3</th>\n",
              "      <th>4</th>\n",
              "      <th>5</th>\n",
              "      <th>6</th>\n",
              "      <th>7</th>\n",
              "      <th>8</th>\n",
              "      <th>9</th>\n",
              "      <th>...</th>\n",
              "      <th>1548</th>\n",
              "      <th>1549</th>\n",
              "      <th>1550</th>\n",
              "      <th>1551</th>\n",
              "      <th>1552</th>\n",
              "      <th>1553</th>\n",
              "      <th>1554</th>\n",
              "      <th>1555</th>\n",
              "      <th>1556</th>\n",
              "      <th>1557</th>\n",
              "    </tr>\n",
              "  </thead>\n",
              "  <tbody>\n",
              "    <tr>\n",
              "      <th>0</th>\n",
              "      <td>1.113328</td>\n",
              "      <td>-0.235247</td>\n",
              "      <td>-0.481808</td>\n",
              "      <td>0.562500</td>\n",
              "      <td>-0.046087</td>\n",
              "      <td>0.0</td>\n",
              "      <td>-0.079996</td>\n",
              "      <td>-0.068446</td>\n",
              "      <td>-0.068446</td>\n",
              "      <td>-0.12272</td>\n",
              "      <td>...</td>\n",
              "      <td>-0.041213</td>\n",
              "      <td>-0.061885</td>\n",
              "      <td>-0.035684</td>\n",
              "      <td>-0.046087</td>\n",
              "      <td>-0.050497</td>\n",
              "      <td>-0.09247</td>\n",
              "      <td>-0.119111</td>\n",
              "      <td>-0.12272</td>\n",
              "      <td>-0.099226</td>\n",
              "      <td>-0.02913</td>\n",
              "    </tr>\n",
              "    <tr>\n",
              "      <th>1</th>\n",
              "      <td>-0.125976</td>\n",
              "      <td>2.398954</td>\n",
              "      <td>0.710811</td>\n",
              "      <td>0.562500</td>\n",
              "      <td>-0.046087</td>\n",
              "      <td>0.0</td>\n",
              "      <td>-0.079996</td>\n",
              "      <td>-0.068446</td>\n",
              "      <td>-0.068446</td>\n",
              "      <td>-0.12272</td>\n",
              "      <td>...</td>\n",
              "      <td>-0.041213</td>\n",
              "      <td>-0.061885</td>\n",
              "      <td>-0.035684</td>\n",
              "      <td>-0.046087</td>\n",
              "      <td>-0.050497</td>\n",
              "      <td>-0.09247</td>\n",
              "      <td>-0.119111</td>\n",
              "      <td>-0.12272</td>\n",
              "      <td>-0.099226</td>\n",
              "      <td>-0.02913</td>\n",
              "    </tr>\n",
              "    <tr>\n",
              "      <th>2</th>\n",
              "      <td>-0.563378</td>\n",
              "      <td>0.571141</td>\n",
              "      <td>0.505566</td>\n",
              "      <td>0.562500</td>\n",
              "      <td>-0.046087</td>\n",
              "      <td>0.0</td>\n",
              "      <td>-0.079996</td>\n",
              "      <td>-0.068446</td>\n",
              "      <td>-0.068446</td>\n",
              "      <td>-0.12272</td>\n",
              "      <td>...</td>\n",
              "      <td>-0.041213</td>\n",
              "      <td>-0.061885</td>\n",
              "      <td>-0.035684</td>\n",
              "      <td>-0.046087</td>\n",
              "      <td>-0.050497</td>\n",
              "      <td>-0.09247</td>\n",
              "      <td>-0.119111</td>\n",
              "      <td>-0.12272</td>\n",
              "      <td>-0.099226</td>\n",
              "      <td>-0.02913</td>\n",
              "    </tr>\n",
              "    <tr>\n",
              "      <th>3</th>\n",
              "      <td>-0.071301</td>\n",
              "      <td>2.398954</td>\n",
              "      <td>0.642914</td>\n",
              "      <td>0.562500</td>\n",
              "      <td>-0.046087</td>\n",
              "      <td>0.0</td>\n",
              "      <td>-0.079996</td>\n",
              "      <td>-0.068446</td>\n",
              "      <td>-0.068446</td>\n",
              "      <td>-0.12272</td>\n",
              "      <td>...</td>\n",
              "      <td>-0.041213</td>\n",
              "      <td>-0.061885</td>\n",
              "      <td>-0.035684</td>\n",
              "      <td>-0.046087</td>\n",
              "      <td>-0.050497</td>\n",
              "      <td>-0.09247</td>\n",
              "      <td>-0.119111</td>\n",
              "      <td>-0.12272</td>\n",
              "      <td>-0.099226</td>\n",
              "      <td>-0.02913</td>\n",
              "    </tr>\n",
              "    <tr>\n",
              "      <th>4</th>\n",
              "      <td>-0.071301</td>\n",
              "      <td>2.398954</td>\n",
              "      <td>0.642914</td>\n",
              "      <td>0.562500</td>\n",
              "      <td>-0.046087</td>\n",
              "      <td>0.0</td>\n",
              "      <td>-0.079996</td>\n",
              "      <td>-0.068446</td>\n",
              "      <td>-0.068446</td>\n",
              "      <td>-0.12272</td>\n",
              "      <td>...</td>\n",
              "      <td>-0.041213</td>\n",
              "      <td>-0.061885</td>\n",
              "      <td>-0.035684</td>\n",
              "      <td>-0.046087</td>\n",
              "      <td>-0.050497</td>\n",
              "      <td>-0.09247</td>\n",
              "      <td>-0.119111</td>\n",
              "      <td>-0.12272</td>\n",
              "      <td>-0.099226</td>\n",
              "      <td>-0.02913</td>\n",
              "    </tr>\n",
              "    <tr>\n",
              "      <th>...</th>\n",
              "      <td>...</td>\n",
              "      <td>...</td>\n",
              "      <td>...</td>\n",
              "      <td>...</td>\n",
              "      <td>...</td>\n",
              "      <td>...</td>\n",
              "      <td>...</td>\n",
              "      <td>...</td>\n",
              "      <td>...</td>\n",
              "      <td>...</td>\n",
              "      <td>...</td>\n",
              "      <td>...</td>\n",
              "      <td>...</td>\n",
              "      <td>...</td>\n",
              "      <td>...</td>\n",
              "      <td>...</td>\n",
              "      <td>...</td>\n",
              "      <td>...</td>\n",
              "      <td>...</td>\n",
              "      <td>...</td>\n",
              "      <td>...</td>\n",
              "    </tr>\n",
              "    <tr>\n",
              "      <th>2354</th>\n",
              "      <td>-0.618053</td>\n",
              "      <td>-0.964837</td>\n",
              "      <td>-0.481808</td>\n",
              "      <td>-1.777778</td>\n",
              "      <td>-0.046087</td>\n",
              "      <td>0.0</td>\n",
              "      <td>-0.079996</td>\n",
              "      <td>-0.068446</td>\n",
              "      <td>-0.068446</td>\n",
              "      <td>-0.12272</td>\n",
              "      <td>...</td>\n",
              "      <td>24.264171</td>\n",
              "      <td>-0.061885</td>\n",
              "      <td>-0.035684</td>\n",
              "      <td>-0.046087</td>\n",
              "      <td>-0.050497</td>\n",
              "      <td>-0.09247</td>\n",
              "      <td>-0.119111</td>\n",
              "      <td>-0.12272</td>\n",
              "      <td>-0.099226</td>\n",
              "      <td>-0.02913</td>\n",
              "    </tr>\n",
              "    <tr>\n",
              "      <th>2355</th>\n",
              "      <td>1.933456</td>\n",
              "      <td>-0.473324</td>\n",
              "      <td>-0.555759</td>\n",
              "      <td>-1.777778</td>\n",
              "      <td>-0.046087</td>\n",
              "      <td>0.0</td>\n",
              "      <td>-0.079996</td>\n",
              "      <td>-0.068446</td>\n",
              "      <td>-0.068446</td>\n",
              "      <td>-0.12272</td>\n",
              "      <td>...</td>\n",
              "      <td>-0.041213</td>\n",
              "      <td>-0.061885</td>\n",
              "      <td>-0.035684</td>\n",
              "      <td>-0.046087</td>\n",
              "      <td>-0.050497</td>\n",
              "      <td>-0.09247</td>\n",
              "      <td>-0.119111</td>\n",
              "      <td>-0.12272</td>\n",
              "      <td>-0.099226</td>\n",
              "      <td>-0.02913</td>\n",
              "    </tr>\n",
              "    <tr>\n",
              "      <th>2356</th>\n",
              "      <td>0.675927</td>\n",
              "      <td>-0.120049</td>\n",
              "      <td>-0.417947</td>\n",
              "      <td>0.562500</td>\n",
              "      <td>-0.046087</td>\n",
              "      <td>0.0</td>\n",
              "      <td>-0.079996</td>\n",
              "      <td>-0.068446</td>\n",
              "      <td>-0.068446</td>\n",
              "      <td>-0.12272</td>\n",
              "      <td>...</td>\n",
              "      <td>-0.041213</td>\n",
              "      <td>-0.061885</td>\n",
              "      <td>-0.035684</td>\n",
              "      <td>-0.046087</td>\n",
              "      <td>-0.050497</td>\n",
              "      <td>-0.09247</td>\n",
              "      <td>-0.119111</td>\n",
              "      <td>-0.12272</td>\n",
              "      <td>-0.099226</td>\n",
              "      <td>-0.02913</td>\n",
              "    </tr>\n",
              "    <tr>\n",
              "      <th>2357</th>\n",
              "      <td>-0.745628</td>\n",
              "      <td>-0.273647</td>\n",
              "      <td>0.215735</td>\n",
              "      <td>0.562500</td>\n",
              "      <td>-0.046087</td>\n",
              "      <td>0.0</td>\n",
              "      <td>-0.079996</td>\n",
              "      <td>-0.068446</td>\n",
              "      <td>-0.068446</td>\n",
              "      <td>-0.12272</td>\n",
              "      <td>...</td>\n",
              "      <td>-0.041213</td>\n",
              "      <td>-0.061885</td>\n",
              "      <td>-0.035684</td>\n",
              "      <td>-0.046087</td>\n",
              "      <td>-0.050497</td>\n",
              "      <td>-0.09247</td>\n",
              "      <td>-0.119111</td>\n",
              "      <td>-0.12272</td>\n",
              "      <td>-0.099226</td>\n",
              "      <td>-0.02913</td>\n",
              "    </tr>\n",
              "    <tr>\n",
              "      <th>2358</th>\n",
              "      <td>-0.435802</td>\n",
              "      <td>-0.888038</td>\n",
              "      <td>-0.481808</td>\n",
              "      <td>0.562500</td>\n",
              "      <td>-0.046087</td>\n",
              "      <td>0.0</td>\n",
              "      <td>-0.079996</td>\n",
              "      <td>-0.068446</td>\n",
              "      <td>-0.068446</td>\n",
              "      <td>-0.12272</td>\n",
              "      <td>...</td>\n",
              "      <td>-0.041213</td>\n",
              "      <td>-0.061885</td>\n",
              "      <td>-0.035684</td>\n",
              "      <td>-0.046087</td>\n",
              "      <td>-0.050497</td>\n",
              "      <td>-0.09247</td>\n",
              "      <td>-0.119111</td>\n",
              "      <td>-0.12272</td>\n",
              "      <td>-0.099226</td>\n",
              "      <td>-0.02913</td>\n",
              "    </tr>\n",
              "  </tbody>\n",
              "</table>\n",
              "<p>2359 rows × 1558 columns</p>\n",
              "</div>\n",
              "      <button class=\"colab-df-convert\" onclick=\"convertToInteractive('df-b5eb3c88-2556-4668-8de5-fa7ffb584022')\"\n",
              "              title=\"Convert this dataframe to an interactive table.\"\n",
              "              style=\"display:none;\">\n",
              "        \n",
              "  <svg xmlns=\"http://www.w3.org/2000/svg\" height=\"24px\"viewBox=\"0 0 24 24\"\n",
              "       width=\"24px\">\n",
              "    <path d=\"M0 0h24v24H0V0z\" fill=\"none\"/>\n",
              "    <path d=\"M18.56 5.44l.94 2.06.94-2.06 2.06-.94-2.06-.94-.94-2.06-.94 2.06-2.06.94zm-11 1L8.5 8.5l.94-2.06 2.06-.94-2.06-.94L8.5 2.5l-.94 2.06-2.06.94zm10 10l.94 2.06.94-2.06 2.06-.94-2.06-.94-.94-2.06-.94 2.06-2.06.94z\"/><path d=\"M17.41 7.96l-1.37-1.37c-.4-.4-.92-.59-1.43-.59-.52 0-1.04.2-1.43.59L10.3 9.45l-7.72 7.72c-.78.78-.78 2.05 0 2.83L4 21.41c.39.39.9.59 1.41.59.51 0 1.02-.2 1.41-.59l7.78-7.78 2.81-2.81c.8-.78.8-2.07 0-2.86zM5.41 20L4 18.59l7.72-7.72 1.47 1.35L5.41 20z\"/>\n",
              "  </svg>\n",
              "      </button>\n",
              "      \n",
              "  <style>\n",
              "    .colab-df-container {\n",
              "      display:flex;\n",
              "      flex-wrap:wrap;\n",
              "      gap: 12px;\n",
              "    }\n",
              "\n",
              "    .colab-df-convert {\n",
              "      background-color: #E8F0FE;\n",
              "      border: none;\n",
              "      border-radius: 50%;\n",
              "      cursor: pointer;\n",
              "      display: none;\n",
              "      fill: #1967D2;\n",
              "      height: 32px;\n",
              "      padding: 0 0 0 0;\n",
              "      width: 32px;\n",
              "    }\n",
              "\n",
              "    .colab-df-convert:hover {\n",
              "      background-color: #E2EBFA;\n",
              "      box-shadow: 0px 1px 2px rgba(60, 64, 67, 0.3), 0px 1px 3px 1px rgba(60, 64, 67, 0.15);\n",
              "      fill: #174EA6;\n",
              "    }\n",
              "\n",
              "    [theme=dark] .colab-df-convert {\n",
              "      background-color: #3B4455;\n",
              "      fill: #D2E3FC;\n",
              "    }\n",
              "\n",
              "    [theme=dark] .colab-df-convert:hover {\n",
              "      background-color: #434B5C;\n",
              "      box-shadow: 0px 1px 3px 1px rgba(0, 0, 0, 0.15);\n",
              "      filter: drop-shadow(0px 1px 2px rgba(0, 0, 0, 0.3));\n",
              "      fill: #FFFFFF;\n",
              "    }\n",
              "  </style>\n",
              "\n",
              "      <script>\n",
              "        const buttonEl =\n",
              "          document.querySelector('#df-b5eb3c88-2556-4668-8de5-fa7ffb584022 button.colab-df-convert');\n",
              "        buttonEl.style.display =\n",
              "          google.colab.kernel.accessAllowed ? 'block' : 'none';\n",
              "\n",
              "        async function convertToInteractive(key) {\n",
              "          const element = document.querySelector('#df-b5eb3c88-2556-4668-8de5-fa7ffb584022');\n",
              "          const dataTable =\n",
              "            await google.colab.kernel.invokeFunction('convertToInteractive',\n",
              "                                                     [key], {});\n",
              "          if (!dataTable) return;\n",
              "\n",
              "          const docLinkHtml = 'Like what you see? Visit the ' +\n",
              "            '<a target=\"_blank\" href=https://colab.research.google.com/notebooks/data_table.ipynb>data table notebook</a>'\n",
              "            + ' to learn more about interactive tables.';\n",
              "          element.innerHTML = '';\n",
              "          dataTable['output_type'] = 'display_data';\n",
              "          await google.colab.output.renderOutput(dataTable, element);\n",
              "          const docLink = document.createElement('div');\n",
              "          docLink.innerHTML = docLinkHtml;\n",
              "          element.appendChild(docLink);\n",
              "        }\n",
              "      </script>\n",
              "    </div>\n",
              "  </div>\n",
              "  "
            ]
          },
          "metadata": {},
          "execution_count": 10
        }
      ]
    },
    {
      "cell_type": "markdown",
      "metadata": {
        "id": "sDe1rsn2pinF"
      },
      "source": [
        "The DataFrame `scaled_features_df` create above have the normalised feature values. \n",
        "\n",
        "Let's calculate the sum of the mean and standard deviation values of all the features in `scaled_features_df` DataFrame. They should be 0 and 1558 (because there are 1558 columns in the scaled features DataFrame) respectively: "
      ]
    },
    {
      "cell_type": "code",
      "metadata": {
        "id": "g8talXcOJT0B",
        "colab": {
          "base_uri": "https://localhost:8080/"
        },
        "outputId": "894967cb-99c8-48ef-c7b6-9e4755f59115"
      },
      "source": [
        "# Verify the sum of the mean of the columns in 'scaled_features_df' DataFrame.\n",
        "print(scaled_features_df.mean().sum())\n",
        "print(scaled_features_df.std().sum())"
      ],
      "execution_count": null,
      "outputs": [
        {
          "output_type": "stream",
          "name": "stdout",
          "text": [
            "8.377642228379605e-15\n",
            "1430.3031909288811\n"
          ]
        }
      ]
    },
    {
      "cell_type": "markdown",
      "metadata": {
        "id": "84YLiCc1q6dS"
      },
      "source": [
        "As you can see, the sum of the means is very very close to zero because they are of the order $10^{-14}$.\n",
        "\n",
        "The sum of the standard deviations is less than 1558. This is because their $1558 - 1430 = 128$ columns having all the values as 0. Hence, their standard deviation after standard scaling is also 0.\n",
        "\n",
        "Let's create an SVC model with a linear kernel for classification and train the model with scaled features and the target variable."
      ]
    },
    {
      "cell_type": "markdown",
      "metadata": {
        "id": "d_RAtT4nyFaC"
      },
      "source": [
        "---"
      ]
    },
    {
      "cell_type": "markdown",
      "metadata": {
        "id": "rswsc1EHyGDp"
      },
      "source": [
        "#### Building SVC Model\n",
        "\n",
        "First, build an SVC model without balancing it and once again after balancing it to see any kind of performance improvement:"
      ]
    },
    {
      "cell_type": "code",
      "metadata": {
        "id": "gSeKzTdiJVPS",
        "colab": {
          "base_uri": "https://localhost:8080/"
        },
        "outputId": "d1ef8edf-ae7c-4bea-8cf2-825a006b404d"
      },
      "source": [
        "# Create an SVC model linear using the linear kernel.\n",
        "# Import the modules\n",
        "from sklearn.model_selection import train_test_split\n",
        "from sklearn.svm import SVC\n",
        "\n",
        "# Split the training and testing data\n",
        "features_train, features_test, target_train, target_test = train_test_split(scaled_features, df[\"target\"], test_size = 0.3, random_state = 12)\n",
        "\n",
        "# Create and train the SVC linear model.\n",
        "svc_clf_lin = SVC(kernel = \"linear\")\n",
        "svc_clf_lin.fit(features_train, target_train)\n",
        "svc_clf_lin.score(features_train, target_train) # The 'score()' function returns the accuracy score of a model."
      ],
      "execution_count": null,
      "outputs": [
        {
          "output_type": "execute_result",
          "data": {
            "text/plain": [
              "0.9969715324046032"
            ]
          },
          "metadata": {},
          "execution_count": 12
        }
      ]
    },
    {
      "cell_type": "markdown",
      "metadata": {
        "id": "adyfQ5HZswJs"
      },
      "source": [
        "The accuracy score of the model on the training set is about 99.69%.\n",
        "\n",
        "Now that we have built a classification model using support vector machines, let's get the predicted target values for the training set and then compare them with the actual values by creating a confusion matrix:"
      ]
    },
    {
      "cell_type": "code",
      "metadata": {
        "id": "cf2a-DbMJWxj",
        "colab": {
          "base_uri": "https://localhost:8080/",
          "height": 260
        },
        "outputId": "66fa26bf-5c59-4859-b0f1-7acfcce369f4"
      },
      "source": [
        "# Predict the target values for the 'features_train' dataset.\n",
        "# Import the modules\n",
        "from sklearn.metrics import confusion_matrix, classification_report\n",
        "\n",
        "# Make predictions for the training features dataset.\n",
        "target_train_pred = svc_clf_lin.predict(features_train)\n",
        "\n",
        "# Create a confusion matrix DataFrame between the actual and predicted values for the training set. \n",
        "cm_train_df = pd.DataFrame(confusion_matrix(target_train, target_train_pred), index = ['nonad', 'ad'], columns = ['nonad', 'ad'])\n",
        "\n",
        "# Create a heat map to visualise the confusion matrix DataFrame for the training set.\n",
        "plt.figure(figsize = (5, 3), dpi = 90)\n",
        "sns.heatmap(cm_train_df, cmap = \"YlGnBu\", annot = True, fmt = 'g') # The fmt = 'g' parameter represents the numeric values as string values.\n",
        "plt.show()"
      ],
      "execution_count": null,
      "outputs": [
        {
          "output_type": "display_data",
          "data": {
            "text/plain": [
              "<Figure size 450x270 with 2 Axes>"
            ],
            "image/png": "[encoded data removed]"
          },
          "metadata": {
            "needs_background": "light"
          }
        }
      ]
    },
    {
      "cell_type": "markdown",
      "metadata": {
        "id": "DSWVw5-RwXYZ"
      },
      "source": [
        "The above heat map shows that,\n",
        "\n",
        "1. For class **`0` (`nonad`)** values: \n",
        "  \n",
        "   i. The number of **correctly** classified (truly predicted) values are 1396\n",
        "\n",
        "   ii. The number of **incorrectly** classified (falsely predicted) values is 1\n",
        "\n",
        "2. For class **`1` (`ad`)** values:\n",
        "  \n",
        "   i. The number of **correctly** classified (truly predicted) values are 250\n",
        "\n",
        "   ii. The number of **incorrectly** classified (falsely predicted) values are 4   \n",
        "\n",
        "The total number of misclassified values are $1 + 4 = 5$\n",
        "\n",
        "Now, let's calculate the recall, precision, and f1-score values to further evaluate the efficacy of the model.\n"
      ]
    },
    {
      "cell_type": "code",
      "metadata": {
        "id": "oM9vC3J3JYdr",
        "colab": {
          "base_uri": "https://localhost:8080/"
        },
        "outputId": "4f7ab703-e696-47ba-a5c3-b5afb4282a47"
      },
      "source": [
        "# Calculate the recall, precision, and f1-score values to further evaluate the efficacy of the model.\n",
        "print(classification_report(target_train, target_train_pred))"
      ],
      "execution_count": null,
      "outputs": [
        {
          "output_type": "stream",
          "name": "stdout",
          "text": [
            "              precision    recall  f1-score   support\n",
            "\n",
            "           0       1.00      1.00      1.00      1397\n",
            "           1       1.00      0.98      0.99       254\n",
            "\n",
            "    accuracy                           1.00      1651\n",
            "   macro avg       1.00      0.99      0.99      1651\n",
            "weighted avg       1.00      1.00      1.00      1651\n",
            "\n"
          ]
        }
      ]
    },
    {
      "cell_type": "markdown",
      "metadata": {
        "id": "p4XQ4Cemy7Fo"
      },
      "source": [
        "The f1-scores are excellent for both the classes (or labels). This means the SVC model that we built works extremely well on the training set. Let's see how it performs on the test set.\n",
        "\n",
        "Now, let's repeat the above steps on the `features_test` dataset for the created model: "
      ]
    },
    {
      "cell_type": "code",
      "metadata": {
        "id": "yPFdNyj_JZ_n",
        "colab": {
          "base_uri": "https://localhost:8080/",
          "height": 260
        },
        "outputId": "85f34b0a-d028-485c-f7ce-3eb299bac22b"
      },
      "source": [
        "# Predict the classes of the 'features_test' dataset.\n",
        "# Make predictions for the testing dataset.\n",
        "target_test_pred = svc_clf_lin.predict(features_test)\n",
        "\n",
        "# Create a confusion matrix DataFrame between the actual and predicted values for the test set.\n",
        "cm_test_df = pd.DataFrame(confusion_matrix(target_test, target_test_pred), index = ['nonad', 'ad'], columns = ['nonad', 'ad'])\n",
        "\n",
        "# Create a heat map to visualise the confusion matrix DataFrame for the test set.\n",
        "plt.figure(figsize = (5, 3), dpi = 90)\n",
        "sns.heatmap(cm_test_df, cmap = \"YlGnBu\", annot = True, fmt = 'g')\n",
        "plt.show()"
      ],
      "execution_count": null,
      "outputs": [
        {
          "output_type": "display_data",
          "data": {
            "text/plain": [
              "<Figure size 450x270 with 2 Axes>"
            ],
            "image/png": "[encoded data removed]"
          },
          "metadata": {
            "needs_background": "light"
          }
        }
      ]
    },
    {
      "cell_type": "markdown",
      "metadata": {
        "id": "wMCMpKBYzfDW"
      },
      "source": [
        "The total number of misclassified values for the test set are $15 + 23 = 38$ which is greater than the number of misclassified values for the training set. This means that the SVC model that we built doesn't work equally well on the test set.\n",
        "\n",
        "\n",
        "Nevertheless, let's calculate the recall, precision, and f1-score values to further evaluate the efficacy of the model."
      ]
    },
    {
      "cell_type": "code",
      "metadata": {
        "id": "VRZBkre4Jb52",
        "colab": {
          "base_uri": "https://localhost:8080/"
        },
        "outputId": "911fa630-3f8b-4486-84a0-b831dbf2dbb7"
      },
      "source": [
        "# Calculate the recall, precision, and f1-score values to further evaluate the efficacy of the model on the test set.\n",
        "print(classification_report(target_test, target_test_pred))"
      ],
      "execution_count": null,
      "outputs": [
        {
          "output_type": "stream",
          "name": "stdout",
          "text": [
            "              precision    recall  f1-score   support\n",
            "\n",
            "           0       0.96      0.97      0.97       581\n",
            "           1       0.87      0.82      0.85       127\n",
            "\n",
            "    accuracy                           0.95       708\n",
            "   macro avg       0.92      0.90      0.91       708\n",
            "weighted avg       0.95      0.95      0.95       708\n",
            "\n"
          ]
        }
      ]
    },
    {
      "cell_type": "markdown",
      "metadata": {
        "id": "6-cPqi7e6tx_"
      },
      "source": [
        "The f1-score for the `ad` values is 0.85 which is slightly lower. The reason for this could be that the number of `ad` samples in the dataset is much lower than `nonad` samples. This is a case of a huge imbalance in the dataset. Let's try to balance the dataset and build an SVC model again."
      ]
    },
    {
      "cell_type": "markdown",
      "metadata": {
        "id": "CBZWPUmwlKDQ"
      },
      "source": [
        "---"
      ]
    },
    {
      "cell_type": "markdown",
      "metadata": {
        "id": "kbw51NemlKo2"
      },
      "source": [
        "#### Resampling - Undersampling\n",
        "\n",
        "The support vector machine algorithm is very sensitive to numbers i.e.\n",
        "\n",
        "- It doesn't perform well if feature and target variables contain large values.\n",
        "\n",
        "- It takes a lot of time to train a model on a training set as compared to other classification algorithms. And if a dataset is too large, it is even slower.\n",
        "\n",
        "Thus, if you are using an SVM model for classification on an imbalanced dataset, then first, reduce the number of the majority class samples using the undersampling technique.\n",
        "\n",
        "To do undersampling:\n",
        "\n",
        "1. Import the `RandomUnderSampler` class from the `imblearn.under_sampling` module.\n",
        "\n",
        "2. Create an object of the `RandomUnderSampler` class. Inside its constructor pass:\n",
        "   \n",
        "   - `sampling_strategy = 'not minority'` parameter so that only the majority class samples are reduced.\n",
        "\n",
        "   - `random_state = 42` parameter to ensure that the same samples are created every time you run the code. The value of the `random_state` parameter has to just some integer. It may or may not be 42.\n",
        "\n",
        "3. Call the `fit_resample()` function on the object of the `RandomUnderSampler` class to complete the resampling process. The `fit_resample()` function takes both feature and target arrays and returns corresponding resampled NumPy arrays.\n",
        "\n",
        "\n"
      ]
    },
    {
      "cell_type": "code",
      "metadata": {
        "id": "mtZtA-w3LDs1",
        "colab": {
          "base_uri": "https://localhost:8080/"
        },
        "outputId": "7adc0728-9123-4b9f-986b-cbf936dd64f2"
      },
      "source": [
        "# Reduce the number of majority class samples so that both the majority and minority classes have an equal number of records.\n",
        "from imblearn.under_sampling import RandomUnderSampler\n",
        "\n",
        "rus = RandomUnderSampler(sampling_strategy = 'not minority', random_state = 42)\n",
        "features_rus, target_rus = rus.fit_resample(scaled_features, df[\"target\"])\n",
        "\n",
        "# Print the object type of the values returned by the 'fit_resample()' function.\n",
        "print(type(features_rus))\n",
        "print(type(target_rus))"
      ],
      "execution_count": null,
      "outputs": [
        {
          "output_type": "stream",
          "name": "stdout",
          "text": [
            "<class 'numpy.ndarray'>\n",
            "<class 'pandas.core.series.Series'>\n"
          ]
        }
      ]
    },
    {
      "cell_type": "markdown",
      "metadata": {
        "id": "LbqeXT5CRQuC"
      },
      "source": [
        "As you can see, the resampling of the majority class is complete and the `fit_sample()` function returns NumPy arrays. \n",
        "\n",
        "Let's print the shape of the resampled arrays and counts of the `nonad` and `ad` samples:"
      ]
    },
    {
      "cell_type": "code",
      "metadata": {
        "id": "v9HriAvlMXvX",
        "colab": {
          "base_uri": "https://localhost:8080/"
        },
        "outputId": "b20c21c8-1c44-4d60-e99d-7ed4565c8d65"
      },
      "source": [
        "# Print the shape of the resampled arrays and counts of the nonad and ad samples.\n",
        "print('Resampled features array shape:', features_rus.shape)\n",
        "print('Resampled target array shape:', target_rus.shape, \"\\n\")\n",
        "\n",
        "print(\"'nonad' samples count =\", np.sum(target_rus == 0))\n",
        "print(\"'ad' samples count =\", np.sum(target_rus == 1))"
      ],
      "execution_count": null,
      "outputs": [
        {
          "output_type": "stream",
          "name": "stdout",
          "text": [
            "Resampled features array shape: (762, 1558)\n",
            "Resampled target array shape: (762,) \n",
            "\n",
            "'nonad' samples count = 381\n",
            "'ad' samples count = 381\n"
          ]
        }
      ]
    },
    {
      "cell_type": "markdown",
      "metadata": {
        "id": "jD-rPCL8NRjZ"
      },
      "source": [
        "---"
      ]
    },
    {
      "cell_type": "markdown",
      "metadata": {
        "id": "vMiyk_rgNSar"
      },
      "source": [
        "#### Activity 1: Model Building After Undersampling\n",
        "\n",
        "Now that we have resampled the data using the Random Undersampling technique, let's build an SVC model:"
      ]
    },
    {
      "cell_type": "code",
      "metadata": {
        "id": "5CRRKiyzNPrx",
        "colab": {
          "base_uri": "https://localhost:8080/"
        },
        "outputId": "39429696-67c3-48a9-9e99-34ff11a5043a"
      },
      "source": [
        "# S1.1: Build an SVC model using the linear kernel on the resampled dataset. \n",
        "x_train1,x_test1,y_train1,y_test1 = train_test_split(features_rus,target_rus,test_size= 0.33, random_state = 12)\n",
        "model = SVC(kernel = 'linear')\n",
        "model.fit(x_train1,y_train1)\n",
        "model.score(x_train1,y_train1)"
      ],
      "execution_count": null,
      "outputs": [
        {
          "output_type": "execute_result",
          "data": {
            "text/plain": [
              "1.0"
            ]
          },
          "metadata": {},
          "execution_count": 45
        }
      ]
    },
    {
      "cell_type": "markdown",
      "metadata": {
        "id": "cDG_uPh6b1HN"
      },
      "source": [
        "The model is 99.81% accurate.\n",
        "\n",
        "Now that we have built a classification model using support vector machines on resampled trained data, let's get the predicted target values for the training set and then compare them with the actual values by creating a confusion matrix:"
      ]
    },
    {
      "cell_type": "code",
      "metadata": {
        "id": "eI1OvbVZNnAQ",
        "colab": {
          "base_uri": "https://localhost:8080/"
        },
        "outputId": "f04bb0b6-6257-4b31-8ab7-21d3ac0a1083"
      },
      "source": [
        "# S1.2: Predict the target values for the training set. Also, create a confusion matrix between the actual and predicted target values.\n",
        "train_pred = model.predict(x_train1)\n",
        "from sklearn.metrics import confusion_matrix\n",
        "confusion_matrix(y_train1,train_pred)"
      ],
      "execution_count": null,
      "outputs": [
        {
          "output_type": "execute_result",
          "data": {
            "text/plain": [
              "array([[254,   0],\n",
              "       [  0, 256]])"
            ]
          },
          "metadata": {},
          "execution_count": 46
        }
      ]
    },
    {
      "cell_type": "markdown",
      "metadata": {
        "id": "wgpYvmsqcuvR"
      },
      "source": [
        "The number of the misclassified values are the least for the training set. \n",
        "\n",
        "Let's calculate the precision, recall, f1-score values for the training set to further evaluate the efficacy of the model:"
      ]
    },
    {
      "cell_type": "code",
      "metadata": {
        "id": "QzeXE0McN4VT",
        "colab": {
          "base_uri": "https://localhost:8080/"
        },
        "outputId": "b8ef83e4-1d5c-476e-9fe5-15ffe50f76fb"
      },
      "source": [
        "# S1.3: Calculate the precision, recall, f1-score values for the training set to further evaluate the efficacy of the model.\n",
        "from sklearn.metrics import classification_report\n",
        "print(classification_report(y_train1,train_pred))"
      ],
      "execution_count": null,
      "outputs": [
        {
          "output_type": "stream",
          "name": "stdout",
          "text": [
            "              precision    recall  f1-score   support\n",
            "\n",
            "           0       1.00      1.00      1.00       254\n",
            "           1       1.00      1.00      1.00       256\n",
            "\n",
            "    accuracy                           1.00       510\n",
            "   macro avg       1.00      1.00      1.00       510\n",
            "weighted avg       1.00      1.00      1.00       510\n",
            "\n"
          ]
        }
      ]
    },
    {
      "cell_type": "markdown",
      "metadata": {
        "id": "AzXojENOc9mz"
      },
      "source": [
        "We have got perfect f1-scores on the training set. Let's find out how well the SVC model built on the resampled training set performs on the test set:"
      ]
    },
    {
      "cell_type": "code",
      "metadata": {
        "id": "Q_Q3eV8ROAvE",
        "colab": {
          "base_uri": "https://localhost:8080/"
        },
        "outputId": "4c095051-b1cd-46d6-803c-e31ef0dbde87"
      },
      "source": [
        "# S1.4: Predict the taraget values for the test set. Also, create a confusion matrix between the actual and predicted target values.\n",
        "test_pred = model.predict(x_test1)\n",
        "confusion_matrix(y_test1,test_pred)"
      ],
      "execution_count": null,
      "outputs": [
        {
          "output_type": "execute_result",
          "data": {
            "text/plain": [
              "array([[116,  11],\n",
              "       [ 13, 112]])"
            ]
          },
          "metadata": {},
          "execution_count": 48
        }
      ]
    },
    {
      "cell_type": "markdown",
      "metadata": {
        "id": "WnDkaSA6f2c7"
      },
      "source": [
        "The number of misclassified values for the test set is lesser this time. It was 38 when we built an SVC model without resampling the majority class samples.\n",
        "\n",
        "Let's calculate the precision, recall, f1-score values for the test set to further evaluate the efficacy of the model."
      ]
    },
    {
      "cell_type": "code",
      "metadata": {
        "id": "WCJmAin_OU21",
        "colab": {
          "base_uri": "https://localhost:8080/"
        },
        "outputId": "09733439-2f6c-4859-8923-0c15bdb69fe5"
      },
      "source": [
        "# S1.5: Calculate the precision, recall, f1-score values for the test set to further evaluate the efficacy of the model.\n",
        "print(classification_report(y_test1,test_pred))"
      ],
      "execution_count": null,
      "outputs": [
        {
          "output_type": "stream",
          "name": "stdout",
          "text": [
            "              precision    recall  f1-score   support\n",
            "\n",
            "           0       0.90      0.91      0.91       127\n",
            "           1       0.91      0.90      0.90       125\n",
            "\n",
            "    accuracy                           0.90       252\n",
            "   macro avg       0.90      0.90      0.90       252\n",
            "weighted avg       0.90      0.90      0.90       252\n",
            "\n"
          ]
        }
      ]
    },
    {
      "cell_type": "markdown",
      "metadata": {
        "id": "ERCbudMpgf-K"
      },
      "source": [
        "The f1-scores for both the classes (or labels) are almost the same and are very close to 1.\n",
        "\n",
        "**RBF Kernel**\n",
        "\n",
        "Let's build an SVC model again using the RBF kernel and find out can we further reduce the misclassified labels on the test set:"
      ]
    },
    {
      "cell_type": "code",
      "metadata": {
        "id": "v22MqPJJPKam",
        "colab": {
          "base_uri": "https://localhost:8080/"
        },
        "outputId": "7774dfcd-e5b3-4693-9751-2517ce141ca9"
      },
      "source": [
        "# S1.6: Build an SVC model again using the RBF kernel and find out can we further reduce the misclassified labels on the test set.\n",
        "mod = SVC(kernel='rbf')\n",
        "mod.fit(x_train1,y_train1)\n",
        "mod.score(x_train1,y_train1)\n"
      ],
      "execution_count": null,
      "outputs": [
        {
          "output_type": "execute_result",
          "data": {
            "text/plain": [
              "0.9529411764705882"
            ]
          },
          "metadata": {},
          "execution_count": 50
        }
      ]
    },
    {
      "cell_type": "markdown",
      "metadata": {
        "id": "66c9iBk8jkdD"
      },
      "source": [
        "The accuracy of the model has reduced slightly compared to a model built using the linear kernel. Let's predict the target values on the test set features and find out the number of misclassified labels:"
      ]
    },
    {
      "cell_type": "code",
      "metadata": {
        "id": "540V6pChPosP",
        "colab": {
          "base_uri": "https://localhost:8080/"
        },
        "outputId": "61a4796c-ad11-428c-dc48-ee283ae2c508"
      },
      "source": [
        "# S1.7: Predict the target values on the test set features and find out the number of misclassified labels.\n",
        "test_pred = mod.predict(x_test1)\n",
        "confusion_matrix(y_test1,test_pred)"
      ],
      "execution_count": null,
      "outputs": [
        {
          "output_type": "execute_result",
          "data": {
            "text/plain": [
              "array([[122,   5],\n",
              "       [ 17, 108]])"
            ]
          },
          "metadata": {},
          "execution_count": 51
        }
      ]
    },
    {
      "cell_type": "markdown",
      "metadata": {
        "id": "J49M9a9MkkpY"
      },
      "source": [
        "As you can see, the number of misclassified labels have further reduced from 21 to 19. This suggests that an SVC model built using the RBF kernel after reducing the majority class samples performs best on the test set. Hence, this is by far the most accurate SVC model.\n",
        "\n",
        "The f1-scores for this case should be greater than 0.90. Let's find this out:"
      ]
    },
    {
      "cell_type": "code",
      "metadata": {
        "id": "XGvJObFaP2Xk",
        "colab": {
          "base_uri": "https://localhost:8080/"
        },
        "outputId": "f25991f1-075b-48cb-f9c7-95693aeb86f5"
      },
      "source": [
        "# S1.8: Calculate the precision, recall and f1-scores for the test set for the model built using the 'rbf' kernel.\n",
        "print(classification_report(y_test1,test_pred))"
      ],
      "execution_count": null,
      "outputs": [
        {
          "output_type": "stream",
          "name": "stdout",
          "text": [
            "              precision    recall  f1-score   support\n",
            "\n",
            "           0       0.88      0.96      0.92       127\n",
            "           1       0.96      0.86      0.91       125\n",
            "\n",
            "    accuracy                           0.91       252\n",
            "   macro avg       0.92      0.91      0.91       252\n",
            "weighted avg       0.92      0.91      0.91       252\n",
            "\n"
          ]
        }
      ]
    },
    {
      "cell_type": "markdown",
      "metadata": {
        "id": "VXnDMp0MlgIk"
      },
      "source": [
        "As expected, the f1-scores are greater than 0.90. We can consider this as our final SVM based classification model."
      ]
    },
    {
      "cell_type": "markdown",
      "metadata": {
        "id": "vm-IJp11l0Mp"
      },
      "source": [
        "---"
      ]
    },
    {
      "cell_type": "markdown",
      "metadata": {
        "id": "pDz8Sevel0xm"
      },
      "source": [
        "#### Activity 2: Support Vector Regression (SVR)\n",
        "\n",
        "Support Vector Machines (SVM), other than classification, are used to solve regression problems as well by building models called **Support Vector Regressor (SVR)**. You already know that in regression we try to predict continuous numeric values.\n",
        "\n",
        "In SVR, the idea is to enclose the errors between the actual and predicted values within a certain range of values called margins whereas in Linear Regression the idea is to minimise the sum of squared errors through the Ordinary Least Square (OLS) method.\n",
        "\n",
        "Hence, in SVR we can define how much error is acceptable using the width of the margins.\n",
        "\n",
        "SVR is used for both linear and non-linear regression.\n",
        "\n",
        "Let's now learn to solve a regression problem through an SVR model. For that, let's, first create a dummy DataFrame. \n",
        "\n",
        "To create a dummy DataFrame for regression:\n",
        "\n",
        "- Create two arrays using the `make_regression()` function of the `sklearn.datasets` module. The syntax for the `make_regression()` function is as follows:\n",
        "\n",
        "   **Syntax:** `make_regression(n_samples, n_features,  n_informative, n_targets,  random_state)`\n",
        "\n",
        "   where,\n",
        "\n",
        "   - `n_samples`- Determines the number of records to be generated in a dataset\n",
        "\n",
        "   - `n_features` - Determines the number of features (or independent variables) to be generated in the dataset\n",
        "\n",
        "- `n_informative` - Determines the number of features contributing to the prediction of the target variable required to build a regression model\n",
        "\n",
        "- `n_targets` - Determines the number of target (or dependent) variables\n",
        "\n",
        "- `random_state`- Determines whether the same set of random values to be generated over and over instead of new ones. An integer value of the `random_state` parameter will produce the same results across different function calls. Popular integer random seeds are 0 and 42\n",
        "\n",
        "The function will return two arrays. You can store these two arrays in two variables, say `reg_feat` and `reg_target`, where the former contains features (or independent variables) and the latter contains the target or (dependent variable).\n",
        "\n",
        "Let's create dummy data using the `make_regression()` function and print the number of rows and columns in the arrays created as the output of the function.\n"
      ]
    },
    {
      "cell_type": "code",
      "metadata": {
        "id": "nfM-x_D-maJS",
        "colab": {
          "base_uri": "https://localhost:8080/"
        },
        "outputId": "e0331e30-6b2b-47d8-f05b-9a786f1eebd7"
      },
      "source": [
        "# S2.1: Create two arrays using the 'make_regression()' function and store them in the 'reg_feat' and 'reg_target' variables.\n",
        "from sklearn.datasets import make_regression\n",
        "ft,tg = make_regression(n_samples = 30, n_features = 5, n_informative=3,n_targets = 1, random_state = 12)\n",
        "print(ft.shape,tg.shape)"
      ],
      "execution_count": null,
      "outputs": [
        {
          "output_type": "stream",
          "name": "stdout",
          "text": [
            "(30, 5) (30,)\n"
          ]
        }
      ]
    },
    {
      "cell_type": "markdown",
      "metadata": {
        "id": "OMigZuU3re2l"
      },
      "source": [
        "**Note:** The `make_regression()` function can take in more parameters that can be passed to create more customised data. You may refer to the following document:\n",
        "\n",
        "https://scikit-learn.org/stable/modules/generated/sklearn.datasets.make_regression.html\n",
        "\n",
        "Let's print the data in the `reg_feat` features array (row-wise as given) and `reg_target` target.\n",
        "\n",
        "```\n",
        "row 01 => [-0.64140982  0.96574635 -1.37759603 -1.28400346 -1.2745721 ]\n",
        "row 02 => [ 0.23249044 -1.14821271  0.86761195  2.11434424  1.00094276]\n",
        ".\n",
        ".\n",
        ".\n",
        "row 29 => [ 0.35133554 -1.51308726 -0.48403143 -0.76353049  0.24920321]\n",
        "row 30 => [ 1.52284176  0.03765596  1.46188243 -0.2461972  -0.66429757]\n",
        "```\n",
        "\n",
        "**Steps to print feature array row-wise and target array:**\n",
        "\n",
        "1. Create a `for` loop for the iterating the number of rows in the `reg_feat`.\n",
        "\n",
        "2. Print each row using the index `i` and the f-strings by adding the preceding string `row {i + 1:02}` for the row numbers.\n",
        "\n",
        "  **Note:** In the expression `1:02`, `1` is to mention the beginning of row number count and `:02` is used to present the single-digit numbers as two-digit numbers through zero padding. \n",
        "\n",
        "3. Print the `reg_target` array."
      ]
    },
    {
      "cell_type": "code",
      "metadata": {
        "id": "vm9Fps3rg0Se",
        "colab": {
          "base_uri": "https://localhost:8080/"
        },
        "outputId": "7cb8dea2-88bc-4ef4-b8d1-7387d65eeb24"
      },
      "source": [
        "# S2.2: Print the data row-wise stored in the feature array and print the entire target array at once.\n",
        "for i in range(ft.shape[0]):\n",
        "  print(f'Row {i+0:02}- {ft[i]}')\n",
        "print()\n",
        "print(tg)"
      ],
      "execution_count": null,
      "outputs": [
        {
          "output_type": "stream",
          "name": "stdout",
          "text": [
            "Row 00- [-1.53472134 -0.12022767  0.00512708 -0.80698188  2.87181939]\n",
            "Row 01- [ 0.07325207 -0.71385629 -0.99720384  0.03541635 -0.67794537]\n",
            "Row 02- [-0.051415   -0.71626359  0.1597877   0.05052283 -0.14333741]\n",
            "Row 03- [ 0.94357539 -0.0834492   0.35764423  0.6778061   0.55606037]\n",
            "Row 04- [ 1.52284176  0.03765596  1.46188243 -0.2461972  -0.66429757]\n",
            "Row 05- [ 1.07673999 -2.61949332  0.45769054  0.73904634  0.66750106]\n",
            "Row 06- [ 0.03200602 -1.06209471  1.93321556 -0.7326291   0.84274139]\n",
            "Row 07- [-0.64140982  0.96574635 -1.37759603 -1.28400346 -1.2745721 ]\n",
            "Row 08- [ 0.04640264  1.40794848  0.6660776   0.05114919 -0.93597486]\n",
            "Row 09- [-0.57188106  1.33583134 -0.10586232  0.31866529 -0.33759525]\n",
            "Row 10- [-0.9691765  -1.44635944  0.87196812 -0.53648126  0.19792052]\n",
            "Row 11- [ 0.23249044 -1.14821271  0.86761195  2.11434424  1.00094276]\n",
            "Row 12- [-0.52840432  0.21497595 -0.03920917 -0.3843588  -0.25390408]\n",
            "Row 13- [-0.39787973 -0.68887869 -1.25922352  0.80263045  0.27239104]\n",
            "Row 14- [-1.58980861  0.12276163 -0.97952592  1.68929209  0.17774987]\n",
            "Row 15- [ 1.50590091  1.36585291 -0.58733609  1.23204487  0.45088923]\n",
            "Row 16- [-0.59782292  1.09595612  0.47245699 -1.2151688   1.34235637]\n",
            "Row 17- [-2.21333348 -1.78809425 -1.68175651 -2.21853495 -0.64743078]\n",
            "Row 18- [-0.56514289 -0.78228244 -1.10267194  3.04168621 -0.62608122]\n",
            "Row 19- [ 0.47298583  0.2424395  -0.68142588 -1.70073563  0.75314283]\n",
            "Row 20- [ 0.5018723   0.64076111  0.13884618  0.52733267 -1.15436024]\n",
            "Row 21- [-1.00100155  0.14655971 -2.09169121 -0.4663511   0.35622301]\n",
            "Row 22- [-0.58526828  2.24181779 -0.11491994 -3.14741652  0.53513589]\n",
            "Row 23- [-1.33938922 -0.19932734 -1.68965292  0.25777259  1.82882072]\n",
            "Row 24- [ 1.63646291 -0.20136227 -0.46139494 -0.57181673 -0.60329911]\n",
            "Row 25- [-0.10526799  1.40772776  0.51202216 -1.68769633  1.47123399]\n",
            "Row 26- [-0.12214979 -0.91386915  1.01251548 -1.02953021  1.20979645]\n",
            "Row 27- [ 0.22271946  1.02921118 -1.52898548 -1.16625876 -1.00956165]\n",
            "Row 28- [-1.36563981  0.01593454 -1.19444438 -0.08004346 -0.25080271]\n",
            "Row 29- [ 0.35133554 -1.51308726 -0.48403143 -0.76353049  0.24920321]\n",
            "\n",
            "[-8.07171101e+01 -4.25073114e+01 -1.58386825e+01  5.60244797e+01\n",
            "  1.19974342e+02  2.63483364e+00  3.04681877e+01 -4.79112870e+01\n",
            "  5.63628500e+01  1.14370543e+00 -6.02007295e+01  8.05835358e+00\n",
            " -2.25922739e+01 -7.32792259e+01 -1.05606474e+02  9.35674895e+01\n",
            "  1.03900882e+01 -2.04781373e+02 -7.96146329e+01  1.05560819e+01\n",
            "  4.53523165e+01 -1.06911072e+02  2.27138158e+01 -1.21189157e+02\n",
            "  6.48550162e+01  4.42598575e+01  2.45631415e-02 -6.81098413e+00\n",
            " -1.03025499e+02 -3.35914629e+01]\n"
          ]
        }
      ]
    },
    {
      "cell_type": "markdown",
      "metadata": {
        "id": "K3zhoogUyysw"
      },
      "source": [
        "Now that you have created two arrays, as the next step to create a dummy DataFrame, create a Python dictionary from the two arrays.\n",
        "\n",
        "**Steps:**\n",
        "\n",
        "1. Create an empty dictionary `data_dict`.\n",
        "\n",
        "2. Create a `for` loop to iterate the number of columns (features). Inside the `for` loop,\n",
        "\n",
        "   - Add $i^\\text{th}$ feature to the dictionary using the index `i` and string `\"feature \" + str(i +1)` such that the keys are `feature 1`, `feature 2` ... `feature 5` (since there are 5 columns).\n",
        "\n",
        "   - Add data of the column `i` from `reg_feat` array as values to the $i^\\text{th}$ key in the dictionary. \n",
        "    ```\n",
        "    data_dict[\"feature \" + str(i + 1)] = reg_feat[:, i]\n",
        "    ```\n",
        "\n",
        "3. Add the last key in the dictionary as `\"target\"` and value as `reg_target` array.\n",
        "\n"
      ]
    },
    {
      "cell_type": "code",
      "metadata": {
        "id": "tmFnCnr-nB9s",
        "colab": {
          "base_uri": "https://localhost:8080/"
        },
        "outputId": "31f2d243-e345-49f8-a64a-4152795e85eb"
      },
      "source": [
        "# S2.3: Create a Pandas DataFrame containing the items from the 'reg_feat' and 'reg_target' arrays.\n",
        "dict1 = {}\n",
        "for i in range(ft.shape[1]): \n",
        "  dict1['f'+str(i+1)]=ft[:,i]\n",
        "dict1['t'] = tg \n",
        "dict1"
      ],
      "execution_count": null,
      "outputs": [
        {
          "output_type": "execute_result",
          "data": {
            "text/plain": [
              "{'f1': array([-1.53472134,  0.07325207, -0.051415  ,  0.94357539,  1.52284176,\n",
              "         1.07673999,  0.03200602, -0.64140982,  0.04640264, -0.57188106,\n",
              "        -0.9691765 ,  0.23249044, -0.52840432, -0.39787973, -1.58980861,\n",
              "         1.50590091, -0.59782292, -2.21333348, -0.56514289,  0.47298583,\n",
              "         0.5018723 , -1.00100155, -0.58526828, -1.33938922,  1.63646291,\n",
              "        -0.10526799, -0.12214979,  0.22271946, -1.36563981,  0.35133554]),\n",
              " 'f2': array([-0.12022767, -0.71385629, -0.71626359, -0.0834492 ,  0.03765596,\n",
              "        -2.61949332, -1.06209471,  0.96574635,  1.40794848,  1.33583134,\n",
              "        -1.44635944, -1.14821271,  0.21497595, -0.68887869,  0.12276163,\n",
              "         1.36585291,  1.09595612, -1.78809425, -0.78228244,  0.2424395 ,\n",
              "         0.64076111,  0.14655971,  2.24181779, -0.19932734, -0.20136227,\n",
              "         1.40772776, -0.91386915,  1.02921118,  0.01593454, -1.51308726]),\n",
              " 'f3': array([ 0.00512708, -0.99720384,  0.1597877 ,  0.35764423,  1.46188243,\n",
              "         0.45769054,  1.93321556, -1.37759603,  0.6660776 , -0.10586232,\n",
              "         0.87196812,  0.86761195, -0.03920917, -1.25922352, -0.97952592,\n",
              "        -0.58733609,  0.47245699, -1.68175651, -1.10267194, -0.68142588,\n",
              "         0.13884618, -2.09169121, -0.11491994, -1.68965292, -0.46139494,\n",
              "         0.51202216,  1.01251548, -1.52898548, -1.19444438, -0.48403143]),\n",
              " 'f4': array([-0.80698188,  0.03541635,  0.05052283,  0.6778061 , -0.2461972 ,\n",
              "         0.73904634, -0.7326291 , -1.28400346,  0.05114919,  0.31866529,\n",
              "        -0.53648126,  2.11434424, -0.3843588 ,  0.80263045,  1.68929209,\n",
              "         1.23204487, -1.2151688 , -2.21853495,  3.04168621, -1.70073563,\n",
              "         0.52733267, -0.4663511 , -3.14741652,  0.25777259, -0.57181673,\n",
              "        -1.68769633, -1.02953021, -1.16625876, -0.08004346, -0.76353049]),\n",
              " 'f5': array([ 2.87181939, -0.67794537, -0.14333741,  0.55606037, -0.66429757,\n",
              "         0.66750106,  0.84274139, -1.2745721 , -0.93597486, -0.33759525,\n",
              "         0.19792052,  1.00094276, -0.25390408,  0.27239104,  0.17774987,\n",
              "         0.45088923,  1.34235637, -0.64743078, -0.62608122,  0.75314283,\n",
              "        -1.15436024,  0.35622301,  0.53513589,  1.82882072, -0.60329911,\n",
              "         1.47123399,  1.20979645, -1.00956165, -0.25080271,  0.24920321]),\n",
              " 't': array([-8.07171101e+01, -4.25073114e+01, -1.58386825e+01,  5.60244797e+01,\n",
              "         1.19974342e+02,  2.63483364e+00,  3.04681877e+01, -4.79112870e+01,\n",
              "         5.63628500e+01,  1.14370543e+00, -6.02007295e+01,  8.05835358e+00,\n",
              "        -2.25922739e+01, -7.32792259e+01, -1.05606474e+02,  9.35674895e+01,\n",
              "         1.03900882e+01, -2.04781373e+02, -7.96146329e+01,  1.05560819e+01,\n",
              "         4.53523165e+01, -1.06911072e+02,  2.27138158e+01, -1.21189157e+02,\n",
              "         6.48550162e+01,  4.42598575e+01,  2.45631415e-02, -6.81098413e+00,\n",
              "        -1.03025499e+02, -3.35914629e+01])}"
            ]
          },
          "metadata": {},
          "execution_count": 56
        }
      ]
    },
    {
      "cell_type": "markdown",
      "metadata": {
        "id": "OUfEbEGLzaR1"
      },
      "source": [
        "In the above code,\n",
        "\n",
        "- We created an empty dictionary\n",
        "\n",
        "- Then added for loop, where we iterate through the number of features to add the data into the dictionary.\n",
        "\n",
        "- After, we added the target array data to the dictionary.\n",
        "  \n",
        "\n",
        "After creating the dictionary, create a Pandas DataFrame from the dictionary using the `from_dict()` function of the `pandas` module:\n",
        "\n",
        "**Syntax:** `pd.DataFrame.from_dict(some_dictionary)`"
      ]
    },
    {
      "cell_type": "code",
      "metadata": {
        "id": "0hoKp56TnNRQ",
        "colab": {
          "base_uri": "https://localhost:8080/",
          "height": 990
        },
        "outputId": "45ea2b2b-e48a-440d-e224-31a78150b315"
      },
      "source": [
        "# S2.4: Create DataFrame from the dictionary\n",
        "df1 = pd.DataFrame.from_dict(data=dict1)\n",
        "df1"
      ],
      "execution_count": null,
      "outputs": [
        {
          "output_type": "execute_result",
          "data": {
            "text/plain": [
              "          f1        f2        f3        f4        f5           t\n",
              "0  -1.534721 -0.120228  0.005127 -0.806982  2.871819  -80.717110\n",
              "1   0.073252 -0.713856 -0.997204  0.035416 -0.677945  -42.507311\n",
              "2  -0.051415 -0.716264  0.159788  0.050523 -0.143337  -15.838683\n",
              "3   0.943575 -0.083449  0.357644  0.677806  0.556060   56.024480\n",
              "4   1.522842  0.037656  1.461882 -0.246197 -0.664298  119.974342\n",
              "5   1.076740 -2.619493  0.457691  0.739046  0.667501    2.634834\n",
              "6   0.032006 -1.062095  1.933216 -0.732629  0.842741   30.468188\n",
              "7  -0.641410  0.965746 -1.377596 -1.284003 -1.274572  -47.911287\n",
              "8   0.046403  1.407948  0.666078  0.051149 -0.935975   56.362850\n",
              "9  -0.571881  1.335831 -0.105862  0.318665 -0.337595    1.143705\n",
              "10 -0.969176 -1.446359  0.871968 -0.536481  0.197921  -60.200729\n",
              "11  0.232490 -1.148213  0.867612  2.114344  1.000943    8.058354\n",
              "12 -0.528404  0.214976 -0.039209 -0.384359 -0.253904  -22.592274\n",
              "13 -0.397880 -0.688879 -1.259224  0.802630  0.272391  -73.279226\n",
              "14 -1.589809  0.122762 -0.979526  1.689292  0.177750 -105.606474\n",
              "15  1.505901  1.365853 -0.587336  1.232045  0.450889   93.567489\n",
              "16 -0.597823  1.095956  0.472457 -1.215169  1.342356   10.390088\n",
              "17 -2.213333 -1.788094 -1.681757 -2.218535 -0.647431 -204.781373\n",
              "18 -0.565143 -0.782282 -1.102672  3.041686 -0.626081  -79.614633\n",
              "19  0.472986  0.242439 -0.681426 -1.700736  0.753143   10.556082\n",
              "20  0.501872  0.640761  0.138846  0.527333 -1.154360   45.352317\n",
              "21 -1.001002  0.146560 -2.091691 -0.466351  0.356223 -106.911072\n",
              "22 -0.585268  2.241818 -0.114920 -3.147417  0.535136   22.713816\n",
              "23 -1.339389 -0.199327 -1.689653  0.257773  1.828821 -121.189157\n",
              "24  1.636463 -0.201362 -0.461395 -0.571817 -0.603299   64.855016\n",
              "25 -0.105268  1.407728  0.512022 -1.687696  1.471234   44.259857\n",
              "26 -0.122150 -0.913869  1.012515 -1.029530  1.209796    0.024563\n",
              "27  0.222719  1.029211 -1.528985 -1.166259 -1.009562   -6.810984\n",
              "28 -1.365640  0.015935 -1.194444 -0.080043 -0.250803 -103.025499\n",
              "29  0.351336 -1.513087 -0.484031 -0.763530  0.249203  -33.591463"
            ],
            "text/html": [
              "\n",
              "  <div id=\"df-3748270f-7f0b-43c5-9b0d-1b6e1c79f283\">\n",
              "    <div class=\"colab-df-container\">\n",
              "      <div>\n",
              "<style scoped>\n",
              "    .dataframe tbody tr th:only-of-type {\n",
              "        vertical-align: middle;\n",
              "    }\n",
              "\n",
              "    .dataframe tbody tr th {\n",
              "        vertical-align: top;\n",
              "    }\n",
              "\n",
              "    .dataframe thead th {\n",
              "        text-align: right;\n",
              "    }\n",
              "</style>\n",
              "<table border=\"1\" class=\"dataframe\">\n",
              "  <thead>\n",
              "    <tr style=\"text-align: right;\">\n",
              "      <th></th>\n",
              "      <th>f1</th>\n",
              "      <th>f2</th>\n",
              "      <th>f3</th>\n",
              "      <th>f4</th>\n",
              "      <th>f5</th>\n",
              "      <th>t</th>\n",
              "    </tr>\n",
              "  </thead>\n",
              "  <tbody>\n",
              "    <tr>\n",
              "      <th>0</th>\n",
              "      <td>-1.534721</td>\n",
              "      <td>-0.120228</td>\n",
              "      <td>0.005127</td>\n",
              "      <td>-0.806982</td>\n",
              "      <td>2.871819</td>\n",
              "      <td>-80.717110</td>\n",
              "    </tr>\n",
              "    <tr>\n",
              "      <th>1</th>\n",
              "      <td>0.073252</td>\n",
              "      <td>-0.713856</td>\n",
              "      <td>-0.997204</td>\n",
              "      <td>0.035416</td>\n",
              "      <td>-0.677945</td>\n",
              "      <td>-42.507311</td>\n",
              "    </tr>\n",
              "    <tr>\n",
              "      <th>2</th>\n",
              "      <td>-0.051415</td>\n",
              "      <td>-0.716264</td>\n",
              "      <td>0.159788</td>\n",
              "      <td>0.050523</td>\n",
              "      <td>-0.143337</td>\n",
              "      <td>-15.838683</td>\n",
              "    </tr>\n",
              "    <tr>\n",
              "      <th>3</th>\n",
              "      <td>0.943575</td>\n",
              "      <td>-0.083449</td>\n",
              "      <td>0.357644</td>\n",
              "      <td>0.677806</td>\n",
              "      <td>0.556060</td>\n",
              "      <td>56.024480</td>\n",
              "    </tr>\n",
              "    <tr>\n",
              "      <th>4</th>\n",
              "      <td>1.522842</td>\n",
              "      <td>0.037656</td>\n",
              "      <td>1.461882</td>\n",
              "      <td>-0.246197</td>\n",
              "      <td>-0.664298</td>\n",
              "      <td>119.974342</td>\n",
              "    </tr>\n",
              "    <tr>\n",
              "      <th>5</th>\n",
              "      <td>1.076740</td>\n",
              "      <td>-2.619493</td>\n",
              "      <td>0.457691</td>\n",
              "      <td>0.739046</td>\n",
              "      <td>0.667501</td>\n",
              "      <td>2.634834</td>\n",
              "    </tr>\n",
              "    <tr>\n",
              "      <th>6</th>\n",
              "      <td>0.032006</td>\n",
              "      <td>-1.062095</td>\n",
              "      <td>1.933216</td>\n",
              "      <td>-0.732629</td>\n",
              "      <td>0.842741</td>\n",
              "      <td>30.468188</td>\n",
              "    </tr>\n",
              "    <tr>\n",
              "      <th>7</th>\n",
              "      <td>-0.641410</td>\n",
              "      <td>0.965746</td>\n",
              "      <td>-1.377596</td>\n",
              "      <td>-1.284003</td>\n",
              "      <td>-1.274572</td>\n",
              "      <td>-47.911287</td>\n",
              "    </tr>\n",
              "    <tr>\n",
              "      <th>8</th>\n",
              "      <td>0.046403</td>\n",
              "      <td>1.407948</td>\n",
              "      <td>0.666078</td>\n",
              "      <td>0.051149</td>\n",
              "      <td>-0.935975</td>\n",
              "      <td>56.362850</td>\n",
              "    </tr>\n",
              "    <tr>\n",
              "      <th>9</th>\n",
              "      <td>-0.571881</td>\n",
              "      <td>1.335831</td>\n",
              "      <td>-0.105862</td>\n",
              "      <td>0.318665</td>\n",
              "      <td>-0.337595</td>\n",
              "      <td>1.143705</td>\n",
              "    </tr>\n",
              "    <tr>\n",
              "      <th>10</th>\n",
              "      <td>-0.969176</td>\n",
              "      <td>-1.446359</td>\n",
              "      <td>0.871968</td>\n",
              "      <td>-0.536481</td>\n",
              "      <td>0.197921</td>\n",
              "      <td>-60.200729</td>\n",
              "    </tr>\n",
              "    <tr>\n",
              "      <th>11</th>\n",
              "      <td>0.232490</td>\n",
              "      <td>-1.148213</td>\n",
              "      <td>0.867612</td>\n",
              "      <td>2.114344</td>\n",
              "      <td>1.000943</td>\n",
              "      <td>8.058354</td>\n",
              "    </tr>\n",
              "    <tr>\n",
              "      <th>12</th>\n",
              "      <td>-0.528404</td>\n",
              "      <td>0.214976</td>\n",
              "      <td>-0.039209</td>\n",
              "      <td>-0.384359</td>\n",
              "      <td>-0.253904</td>\n",
              "      <td>-22.592274</td>\n",
              "    </tr>\n",
              "    <tr>\n",
              "      <th>13</th>\n",
              "      <td>-0.397880</td>\n",
              "      <td>-0.688879</td>\n",
              "      <td>-1.259224</td>\n",
              "      <td>0.802630</td>\n",
              "      <td>0.272391</td>\n",
              "      <td>-73.279226</td>\n",
              "    </tr>\n",
              "    <tr>\n",
              "      <th>14</th>\n",
              "      <td>-1.589809</td>\n",
              "      <td>0.122762</td>\n",
              "      <td>-0.979526</td>\n",
              "      <td>1.689292</td>\n",
              "      <td>0.177750</td>\n",
              "      <td>-105.606474</td>\n",
              "    </tr>\n",
              "    <tr>\n",
              "      <th>15</th>\n",
              "      <td>1.505901</td>\n",
              "      <td>1.365853</td>\n",
              "      <td>-0.587336</td>\n",
              "      <td>1.232045</td>\n",
              "      <td>0.450889</td>\n",
              "      <td>93.567489</td>\n",
              "    </tr>\n",
              "    <tr>\n",
              "      <th>16</th>\n",
              "      <td>-0.597823</td>\n",
              "      <td>1.095956</td>\n",
              "      <td>0.472457</td>\n",
              "      <td>-1.215169</td>\n",
              "      <td>1.342356</td>\n",
              "      <td>10.390088</td>\n",
              "    </tr>\n",
              "    <tr>\n",
              "      <th>17</th>\n",
              "      <td>-2.213333</td>\n",
              "      <td>-1.788094</td>\n",
              "      <td>-1.681757</td>\n",
              "      <td>-2.218535</td>\n",
              "      <td>-0.647431</td>\n",
              "      <td>-204.781373</td>\n",
              "    </tr>\n",
              "    <tr>\n",
              "      <th>18</th>\n",
              "      <td>-0.565143</td>\n",
              "      <td>-0.782282</td>\n",
              "      <td>-1.102672</td>\n",
              "      <td>3.041686</td>\n",
              "      <td>-0.626081</td>\n",
              "      <td>-79.614633</td>\n",
              "    </tr>\n",
              "    <tr>\n",
              "      <th>19</th>\n",
              "      <td>0.472986</td>\n",
              "      <td>0.242439</td>\n",
              "      <td>-0.681426</td>\n",
              "      <td>-1.700736</td>\n",
              "      <td>0.753143</td>\n",
              "      <td>10.556082</td>\n",
              "    </tr>\n",
              "    <tr>\n",
              "      <th>20</th>\n",
              "      <td>0.501872</td>\n",
              "      <td>0.640761</td>\n",
              "      <td>0.138846</td>\n",
              "      <td>0.527333</td>\n",
              "      <td>-1.154360</td>\n",
              "      <td>45.352317</td>\n",
              "    </tr>\n",
              "    <tr>\n",
              "      <th>21</th>\n",
              "      <td>-1.001002</td>\n",
              "      <td>0.146560</td>\n",
              "      <td>-2.091691</td>\n",
              "      <td>-0.466351</td>\n",
              "      <td>0.356223</td>\n",
              "      <td>-106.911072</td>\n",
              "    </tr>\n",
              "    <tr>\n",
              "      <th>22</th>\n",
              "      <td>-0.585268</td>\n",
              "      <td>2.241818</td>\n",
              "      <td>-0.114920</td>\n",
              "      <td>-3.147417</td>\n",
              "      <td>0.535136</td>\n",
              "      <td>22.713816</td>\n",
              "    </tr>\n",
              "    <tr>\n",
              "      <th>23</th>\n",
              "      <td>-1.339389</td>\n",
              "      <td>-0.199327</td>\n",
              "      <td>-1.689653</td>\n",
              "      <td>0.257773</td>\n",
              "      <td>1.828821</td>\n",
              "      <td>-121.189157</td>\n",
              "    </tr>\n",
              "    <tr>\n",
              "      <th>24</th>\n",
              "      <td>1.636463</td>\n",
              "      <td>-0.201362</td>\n",
              "      <td>-0.461395</td>\n",
              "      <td>-0.571817</td>\n",
              "      <td>-0.603299</td>\n",
              "      <td>64.855016</td>\n",
              "    </tr>\n",
              "    <tr>\n",
              "      <th>25</th>\n",
              "      <td>-0.105268</td>\n",
              "      <td>1.407728</td>\n",
              "      <td>0.512022</td>\n",
              "      <td>-1.687696</td>\n",
              "      <td>1.471234</td>\n",
              "      <td>44.259857</td>\n",
              "    </tr>\n",
              "    <tr>\n",
              "      <th>26</th>\n",
              "      <td>-0.122150</td>\n",
              "      <td>-0.913869</td>\n",
              "      <td>1.012515</td>\n",
              "      <td>-1.029530</td>\n",
              "      <td>1.209796</td>\n",
              "      <td>0.024563</td>\n",
              "    </tr>\n",
              "    <tr>\n",
              "      <th>27</th>\n",
              "      <td>0.222719</td>\n",
              "      <td>1.029211</td>\n",
              "      <td>-1.528985</td>\n",
              "      <td>-1.166259</td>\n",
              "      <td>-1.009562</td>\n",
              "      <td>-6.810984</td>\n",
              "    </tr>\n",
              "    <tr>\n",
              "      <th>28</th>\n",
              "      <td>-1.365640</td>\n",
              "      <td>0.015935</td>\n",
              "      <td>-1.194444</td>\n",
              "      <td>-0.080043</td>\n",
              "      <td>-0.250803</td>\n",
              "      <td>-103.025499</td>\n",
              "    </tr>\n",
              "    <tr>\n",
              "      <th>29</th>\n",
              "      <td>0.351336</td>\n",
              "      <td>-1.513087</td>\n",
              "      <td>-0.484031</td>\n",
              "      <td>-0.763530</td>\n",
              "      <td>0.249203</td>\n",
              "      <td>-33.591463</td>\n",
              "    </tr>\n",
              "  </tbody>\n",
              "</table>\n",
              "</div>\n",
              "      <button class=\"colab-df-convert\" onclick=\"convertToInteractive('df-3748270f-7f0b-43c5-9b0d-1b6e1c79f283')\"\n",
              "              title=\"Convert this dataframe to an interactive table.\"\n",
              "              style=\"display:none;\">\n",
              "        \n",
              "  <svg xmlns=\"http://www.w3.org/2000/svg\" height=\"24px\"viewBox=\"0 0 24 24\"\n",
              "       width=\"24px\">\n",
              "    <path d=\"M0 0h24v24H0V0z\" fill=\"none\"/>\n",
              "    <path d=\"M18.56 5.44l.94 2.06.94-2.06 2.06-.94-2.06-.94-.94-2.06-.94 2.06-2.06.94zm-11 1L8.5 8.5l.94-2.06 2.06-.94-2.06-.94L8.5 2.5l-.94 2.06-2.06.94zm10 10l.94 2.06.94-2.06 2.06-.94-2.06-.94-.94-2.06-.94 2.06-2.06.94z\"/><path d=\"M17.41 7.96l-1.37-1.37c-.4-.4-.92-.59-1.43-.59-.52 0-1.04.2-1.43.59L10.3 9.45l-7.72 7.72c-.78.78-.78 2.05 0 2.83L4 21.41c.39.39.9.59 1.41.59.51 0 1.02-.2 1.41-.59l7.78-7.78 2.81-2.81c.8-.78.8-2.07 0-2.86zM5.41 20L4 18.59l7.72-7.72 1.47 1.35L5.41 20z\"/>\n",
              "  </svg>\n",
              "      </button>\n",
              "      \n",
              "  <style>\n",
              "    .colab-df-container {\n",
              "      display:flex;\n",
              "      flex-wrap:wrap;\n",
              "      gap: 12px;\n",
              "    }\n",
              "\n",
              "    .colab-df-convert {\n",
              "      background-color: #E8F0FE;\n",
              "      border: none;\n",
              "      border-radius: 50%;\n",
              "      cursor: pointer;\n",
              "      display: none;\n",
              "      fill: #1967D2;\n",
              "      height: 32px;\n",
              "      padding: 0 0 0 0;\n",
              "      width: 32px;\n",
              "    }\n",
              "\n",
              "    .colab-df-convert:hover {\n",
              "      background-color: #E2EBFA;\n",
              "      box-shadow: 0px 1px 2px rgba(60, 64, 67, 0.3), 0px 1px 3px 1px rgba(60, 64, 67, 0.15);\n",
              "      fill: #174EA6;\n",
              "    }\n",
              "\n",
              "    [theme=dark] .colab-df-convert {\n",
              "      background-color: #3B4455;\n",
              "      fill: #D2E3FC;\n",
              "    }\n",
              "\n",
              "    [theme=dark] .colab-df-convert:hover {\n",
              "      background-color: #434B5C;\n",
              "      box-shadow: 0px 1px 3px 1px rgba(0, 0, 0, 0.15);\n",
              "      filter: drop-shadow(0px 1px 2px rgba(0, 0, 0, 0.3));\n",
              "      fill: #FFFFFF;\n",
              "    }\n",
              "  </style>\n",
              "\n",
              "      <script>\n",
              "        const buttonEl =\n",
              "          document.querySelector('#df-3748270f-7f0b-43c5-9b0d-1b6e1c79f283 button.colab-df-convert');\n",
              "        buttonEl.style.display =\n",
              "          google.colab.kernel.accessAllowed ? 'block' : 'none';\n",
              "\n",
              "        async function convertToInteractive(key) {\n",
              "          const element = document.querySelector('#df-3748270f-7f0b-43c5-9b0d-1b6e1c79f283');\n",
              "          const dataTable =\n",
              "            await google.colab.kernel.invokeFunction('convertToInteractive',\n",
              "                                                     [key], {});\n",
              "          if (!dataTable) return;\n",
              "\n",
              "          const docLinkHtml = 'Like what you see? Visit the ' +\n",
              "            '<a target=\"_blank\" href=https://colab.research.google.com/notebooks/data_table.ipynb>data table notebook</a>'\n",
              "            + ' to learn more about interactive tables.';\n",
              "          element.innerHTML = '';\n",
              "          dataTable['output_type'] = 'display_data';\n",
              "          await google.colab.output.renderOutput(dataTable, element);\n",
              "          const docLink = document.createElement('div');\n",
              "          docLink.innerHTML = docLinkHtml;\n",
              "          element.appendChild(docLink);\n",
              "        }\n",
              "      </script>\n",
              "    </div>\n",
              "  </div>\n",
              "  "
            ]
          },
          "metadata": {},
          "execution_count": 57
        }
      ]
    },
    {
      "cell_type": "markdown",
      "metadata": {
        "id": "XKKcJjE2BrJY"
      },
      "source": [
        "Now we have a `pandas` DataFrame having 30 records, 6 columns out of which 5 columns represent independent variables and 1 represent the target. \n",
        "\n",
        "\n",
        "Let's print the descriptive statistics of the DataFrame."
      ]
    },
    {
      "cell_type": "code",
      "metadata": {
        "id": "N4Cs13cDnSSs",
        "colab": {
          "base_uri": "https://localhost:8080/",
          "height": 300
        },
        "outputId": "624ca1bd-4990-481b-c575-b20744520841"
      },
      "source": [
        "# S2.5: Print the descriptive statistics of the dummy DataFrame\n",
        "df1.describe()"
      ],
      "execution_count": null,
      "outputs": [
        {
          "output_type": "execute_result",
          "data": {
            "text/plain": [
              "              f1         f2         f3         f4         f5           t\n",
              "count  30.000000  30.000000  30.000000  30.000000  30.000000   30.000000\n",
              "mean   -0.185371  -0.057523  -0.248670  -0.216668   0.206826  -17.939710\n",
              "std     0.957741   1.117574   1.010759   1.282780   0.961081   71.311189\n",
              "min    -2.213333  -2.619493  -2.091691  -3.147417  -1.274572 -204.781373\n",
              "25%    -0.630513  -0.765778  -1.076305  -0.973893  -0.620386  -70.009602\n",
              "50%    -0.113709  -0.033757  -0.110391  -0.315278   0.223562   -3.393210\n",
              "75%     0.321624   0.884500   0.468765   0.475166   0.731732   28.529595\n",
              "max     1.636463   2.241818   1.933216   3.041686   2.871819  119.974342"
            ],
            "text/html": [
              "\n",
              "  <div id=\"df-57ffb1af-6d9a-42c6-822a-961fc19a1448\">\n",
              "    <div class=\"colab-df-container\">\n",
              "      <div>\n",
              "<style scoped>\n",
              "    .dataframe tbody tr th:only-of-type {\n",
              "        vertical-align: middle;\n",
              "    }\n",
              "\n",
              "    .dataframe tbody tr th {\n",
              "        vertical-align: top;\n",
              "    }\n",
              "\n",
              "    .dataframe thead th {\n",
              "        text-align: right;\n",
              "    }\n",
              "</style>\n",
              "<table border=\"1\" class=\"dataframe\">\n",
              "  <thead>\n",
              "    <tr style=\"text-align: right;\">\n",
              "      <th></th>\n",
              "      <th>f1</th>\n",
              "      <th>f2</th>\n",
              "      <th>f3</th>\n",
              "      <th>f4</th>\n",
              "      <th>f5</th>\n",
              "      <th>t</th>\n",
              "    </tr>\n",
              "  </thead>\n",
              "  <tbody>\n",
              "    <tr>\n",
              "      <th>count</th>\n",
              "      <td>30.000000</td>\n",
              "      <td>30.000000</td>\n",
              "      <td>30.000000</td>\n",
              "      <td>30.000000</td>\n",
              "      <td>30.000000</td>\n",
              "      <td>30.000000</td>\n",
              "    </tr>\n",
              "    <tr>\n",
              "      <th>mean</th>\n",
              "      <td>-0.185371</td>\n",
              "      <td>-0.057523</td>\n",
              "      <td>-0.248670</td>\n",
              "      <td>-0.216668</td>\n",
              "      <td>0.206826</td>\n",
              "      <td>-17.939710</td>\n",
              "    </tr>\n",
              "    <tr>\n",
              "      <th>std</th>\n",
              "      <td>0.957741</td>\n",
              "      <td>1.117574</td>\n",
              "      <td>1.010759</td>\n",
              "      <td>1.282780</td>\n",
              "      <td>0.961081</td>\n",
              "      <td>71.311189</td>\n",
              "    </tr>\n",
              "    <tr>\n",
              "      <th>min</th>\n",
              "      <td>-2.213333</td>\n",
              "      <td>-2.619493</td>\n",
              "      <td>-2.091691</td>\n",
              "      <td>-3.147417</td>\n",
              "      <td>-1.274572</td>\n",
              "      <td>-204.781373</td>\n",
              "    </tr>\n",
              "    <tr>\n",
              "      <th>25%</th>\n",
              "      <td>-0.630513</td>\n",
              "      <td>-0.765778</td>\n",
              "      <td>-1.076305</td>\n",
              "      <td>-0.973893</td>\n",
              "      <td>-0.620386</td>\n",
              "      <td>-70.009602</td>\n",
              "    </tr>\n",
              "    <tr>\n",
              "      <th>50%</th>\n",
              "      <td>-0.113709</td>\n",
              "      <td>-0.033757</td>\n",
              "      <td>-0.110391</td>\n",
              "      <td>-0.315278</td>\n",
              "      <td>0.223562</td>\n",
              "      <td>-3.393210</td>\n",
              "    </tr>\n",
              "    <tr>\n",
              "      <th>75%</th>\n",
              "      <td>0.321624</td>\n",
              "      <td>0.884500</td>\n",
              "      <td>0.468765</td>\n",
              "      <td>0.475166</td>\n",
              "      <td>0.731732</td>\n",
              "      <td>28.529595</td>\n",
              "    </tr>\n",
              "    <tr>\n",
              "      <th>max</th>\n",
              "      <td>1.636463</td>\n",
              "      <td>2.241818</td>\n",
              "      <td>1.933216</td>\n",
              "      <td>3.041686</td>\n",
              "      <td>2.871819</td>\n",
              "      <td>119.974342</td>\n",
              "    </tr>\n",
              "  </tbody>\n",
              "</table>\n",
              "</div>\n",
              "      <button class=\"colab-df-convert\" onclick=\"convertToInteractive('df-57ffb1af-6d9a-42c6-822a-961fc19a1448')\"\n",
              "              title=\"Convert this dataframe to an interactive table.\"\n",
              "              style=\"display:none;\">\n",
              "        \n",
              "  <svg xmlns=\"http://www.w3.org/2000/svg\" height=\"24px\"viewBox=\"0 0 24 24\"\n",
              "       width=\"24px\">\n",
              "    <path d=\"M0 0h24v24H0V0z\" fill=\"none\"/>\n",
              "    <path d=\"M18.56 5.44l.94 2.06.94-2.06 2.06-.94-2.06-.94-.94-2.06-.94 2.06-2.06.94zm-11 1L8.5 8.5l.94-2.06 2.06-.94-2.06-.94L8.5 2.5l-.94 2.06-2.06.94zm10 10l.94 2.06.94-2.06 2.06-.94-2.06-.94-.94-2.06-.94 2.06-2.06.94z\"/><path d=\"M17.41 7.96l-1.37-1.37c-.4-.4-.92-.59-1.43-.59-.52 0-1.04.2-1.43.59L10.3 9.45l-7.72 7.72c-.78.78-.78 2.05 0 2.83L4 21.41c.39.39.9.59 1.41.59.51 0 1.02-.2 1.41-.59l7.78-7.78 2.81-2.81c.8-.78.8-2.07 0-2.86zM5.41 20L4 18.59l7.72-7.72 1.47 1.35L5.41 20z\"/>\n",
              "  </svg>\n",
              "      </button>\n",
              "      \n",
              "  <style>\n",
              "    .colab-df-container {\n",
              "      display:flex;\n",
              "      flex-wrap:wrap;\n",
              "      gap: 12px;\n",
              "    }\n",
              "\n",
              "    .colab-df-convert {\n",
              "      background-color: #E8F0FE;\n",
              "      border: none;\n",
              "      border-radius: 50%;\n",
              "      cursor: pointer;\n",
              "      display: none;\n",
              "      fill: #1967D2;\n",
              "      height: 32px;\n",
              "      padding: 0 0 0 0;\n",
              "      width: 32px;\n",
              "    }\n",
              "\n",
              "    .colab-df-convert:hover {\n",
              "      background-color: #E2EBFA;\n",
              "      box-shadow: 0px 1px 2px rgba(60, 64, 67, 0.3), 0px 1px 3px 1px rgba(60, 64, 67, 0.15);\n",
              "      fill: #174EA6;\n",
              "    }\n",
              "\n",
              "    [theme=dark] .colab-df-convert {\n",
              "      background-color: #3B4455;\n",
              "      fill: #D2E3FC;\n",
              "    }\n",
              "\n",
              "    [theme=dark] .colab-df-convert:hover {\n",
              "      background-color: #434B5C;\n",
              "      box-shadow: 0px 1px 3px 1px rgba(0, 0, 0, 0.15);\n",
              "      filter: drop-shadow(0px 1px 2px rgba(0, 0, 0, 0.3));\n",
              "      fill: #FFFFFF;\n",
              "    }\n",
              "  </style>\n",
              "\n",
              "      <script>\n",
              "        const buttonEl =\n",
              "          document.querySelector('#df-57ffb1af-6d9a-42c6-822a-961fc19a1448 button.colab-df-convert');\n",
              "        buttonEl.style.display =\n",
              "          google.colab.kernel.accessAllowed ? 'block' : 'none';\n",
              "\n",
              "        async function convertToInteractive(key) {\n",
              "          const element = document.querySelector('#df-57ffb1af-6d9a-42c6-822a-961fc19a1448');\n",
              "          const dataTable =\n",
              "            await google.colab.kernel.invokeFunction('convertToInteractive',\n",
              "                                                     [key], {});\n",
              "          if (!dataTable) return;\n",
              "\n",
              "          const docLinkHtml = 'Like what you see? Visit the ' +\n",
              "            '<a target=\"_blank\" href=https://colab.research.google.com/notebooks/data_table.ipynb>data table notebook</a>'\n",
              "            + ' to learn more about interactive tables.';\n",
              "          element.innerHTML = '';\n",
              "          dataTable['output_type'] = 'display_data';\n",
              "          await google.colab.output.renderOutput(dataTable, element);\n",
              "          const docLink = document.createElement('div');\n",
              "          docLink.innerHTML = docLinkHtml;\n",
              "          element.appendChild(docLink);\n",
              "        }\n",
              "      </script>\n",
              "    </div>\n",
              "  </div>\n",
              "  "
            ]
          },
          "metadata": {},
          "execution_count": 58
        }
      ]
    },
    {
      "cell_type": "markdown",
      "metadata": {
        "id": "I6tG-qsE1ugU"
      },
      "source": [
        "As it can be observed, the feature columns have almost the same range going from negative values to positive values. \n",
        "\n",
        "Let's check whether the values in each column follow a normal distribution."
      ]
    },
    {
      "cell_type": "code",
      "metadata": {
        "id": "eHS2vHGV6z2N",
        "colab": {
          "base_uri": "https://localhost:8080/",
          "height": 1000
        },
        "outputId": "45091a4b-983c-4c7d-d67f-4206762acb57"
      },
      "source": [
        "# S2.6: Create histogram for all the columns in the above data frame to check whether the values in each column follow a normal distribution.\n",
        "for i in df1.columns:\n",
        "  plt.figure(figsize = (10,10))\n",
        "  plt.title(f'Histogram for {i}')\n",
        "  plt.hist(df1[i],bins= 'sturges', edgecolor = 'black')\n",
        "  plt.axvline(np.mean(df1[i]), color = 'red', label = np.mean(df1[i]))\n",
        "  plt.legend()\n",
        "  plt.show()"
      ],
      "execution_count": null,
      "outputs": [
        {
          "output_type": "display_data",
          "data": {
            "text/plain": [
              "<Figure size 720x720 with 1 Axes>"
            ],
            "image/png": "[encoded data removed]"
          },
          "metadata": {
            "needs_background": "light"
          }
        },
        {
          "output_type": "display_data",
          "data": {
            "text/plain": [
              "<Figure size 720x720 with 1 Axes>"
            ],
            "image/png": "[encoded data removed]"
          },
          "metadata": {
            "needs_background": "light"
          }
        },
        {
          "output_type": "display_data",
          "data": {
            "text/plain": [
              "<Figure size 720x720 with 1 Axes>"
            ],
            "image/png": "[encoded data removed]"
          },
          "metadata": {
            "needs_background": "light"
          }
        },
        {
          "output_type": "display_data",
          "data": {
            "text/plain": [
              "<Figure size 720x720 with 1 Axes>"
            ],
            "image/png": "[encoded data removed]"
          },
          "metadata": {
            "needs_background": "light"
          }
        },
        {
          "output_type": "display_data",
          "data": {
            "text/plain": [
              "<Figure size 720x720 with 1 Axes>"
            ],
            "image/png": "[encoded data removed]"
          },
          "metadata": {
            "needs_background": "light"
          }
        },
        {
          "output_type": "display_data",
          "data": {
            "text/plain": [
              "<Figure size 720x720 with 1 Axes>"
            ],
            "image/png": "[encoded data removed]"
          },
          "metadata": {
            "needs_background": "light"
          }
        }
      ]
    },
    {
      "cell_type": "markdown",
      "metadata": {
        "id": "jOXcA4en6pWS"
      },
      "source": [
        "We can see that all the values in each column somewhat follow a normal distribution. This will become more apparent if we increase the number of samples in the data frame.\n",
        "\n",
        "Now, let's move ahead and check the correlation between the feature and target columns.\n",
        "\n",
        "Let's plot check the collinearity of the `target` column with independent features."
      ]
    },
    {
      "cell_type": "code",
      "metadata": {
        "id": "AraBztf127xA",
        "colab": {
          "base_uri": "https://localhost:8080/",
          "height": 432
        },
        "outputId": "fd382230-4f47-4483-cc25-330ab72e96e9"
      },
      "source": [
        "# S2.7: Create a heatmap for the correlation coefficient DataFrame.\n",
        "plt.figure(figsize=(7,7))\n",
        "sns.heatmap(df1.corr(), annot = True)\n",
        "plt.show()"
      ],
      "execution_count": null,
      "outputs": [
        {
          "output_type": "display_data",
          "data": {
            "text/plain": [
              "<Figure size 504x504 with 2 Axes>"
            ],
            "image/png": "[encoded data removed]"
          },
          "metadata": {
            "needs_background": "light"
          }
        }
      ]
    },
    {
      "cell_type": "markdown",
      "metadata": {
        "id": "uPSpjQtf3RDu"
      },
      "source": [
        "In the above graph, we can see that only `feature 1` and `feature 3` have a strong correlation with `target` columns with the correlation coefficient values `0.92` and `0.74` respectively. That means possibly only these two features will be useful to build a good regression model to predict the `target` values. Also, note that `feature 1` and `feature 3` are also correlated with each other. This is means there is a scope of multicollinearity.\n",
        "\n",
        "**Note:** The reason for only two columns having strong collinearity with the target column is `n_informative = 2` parameter while creating dummy data.\n",
        "\n",
        "\n",
        "Let's observe the independent features `feature 1` and `feature 3` individually with the `target` column.\n",
        "\n",
        "\n",
        "Let's create the regplot between `feature 1` and the `target` column to observe the relationships and best-fit regression line:"
      ]
    },
    {
      "cell_type": "code",
      "metadata": {
        "id": "Lv5LI7hr47WX",
        "colab": {
          "base_uri": "https://localhost:8080/",
          "height": 279
        },
        "outputId": "0bc9b5df-d642-458f-fbc0-ea9a632d85db"
      },
      "source": [
        "# S2.8: Create a regplot between 'feature' and 'target' columns.\n",
        "sns.regplot(x=df1['f1'],y=df1['t'])\n",
        "plt.show()"
      ],
      "execution_count": null,
      "outputs": [
        {
          "output_type": "display_data",
          "data": {
            "text/plain": [
              "<Figure size 432x288 with 1 Axes>"
            ],
            "image/png": "[encoded data removed]"
          },
          "metadata": {
            "needs_background": "light"
          }
        }
      ]
    },
    {
      "cell_type": "markdown",
      "metadata": {
        "id": "QKh2tbTc5Mc4"
      },
      "source": [
        "As it can be observed, a positive correlation because $R=0.92$. \n",
        "\n",
        "\n",
        "Let's create the regplot between `feature 3` and the `target` column to observe the relationships and best-fit regression line:\n",
        "\n"
      ]
    },
    {
      "cell_type": "code",
      "metadata": {
        "id": "pipidlDT5zbf",
        "colab": {
          "base_uri": "https://localhost:8080/",
          "height": 279
        },
        "outputId": "04f8e5a3-ec5f-4c4d-b391-6f5d3296c3db"
      },
      "source": [
        "# S2.9: Create a regplot between 'feature 3' and 'target' columns.\n",
        "sns.regplot(x=df1['f3'],y=df1['t'])\n",
        "plt.show()"
      ],
      "execution_count": null,
      "outputs": [
        {
          "output_type": "display_data",
          "data": {
            "text/plain": [
              "<Figure size 432x288 with 1 Axes>"
            ],
            "image/png": "[encoded data removed]"
          },
          "metadata": {
            "needs_background": "light"
          }
        }
      ]
    },
    {
      "cell_type": "markdown",
      "metadata": {
        "id": "aLkDWMxe5zOD"
      },
      "source": [
        "As it can be observed, the correlation is positive but the points are more scattered than the `feature 1` graph as the $R=0.74$ which is less than the $R$ value for `feature 1`.\n",
        "\n",
        "**Note:**\n",
        "\n",
        "- `ci` stands for **confidence interval** that tells the number of values it can predict with confidence. The values outside CI are predicted by chance.\n",
        "\n",
        "- A 95% confidence interval (CI) suggests that 95% of the target values are predicted by regression and the remaining 5% by chance (or fluke).\n",
        "\n",
        "- The other way to look at CI is to calculate the **p-value**. When we say the p-value is less than 0.05, it means that less than 5% of the target values are predicted by chance (or fluke).\n",
        "\n",
        "Let's stop here. In the next class, you will learn to create a SVR model and find the right parameters and their corresponding best values to enable a model to make the most accurate predictions."
      ]
    },
    {
      "cell_type": "markdown",
      "metadata": {
        "id": "9tBfQH6B7hpM"
      },
      "source": [
        "---"
      ]
    },
    {
      "cell_type": "markdown",
      "metadata": {
        "id": "SGiG6NG1Zhzf"
      },
      "source": [
        "### **Project**\n",
        "You can now attempt the **Capstone Project 18 - Olivetti Faces Case-Study** on your own.\n",
        "\n",
        "**Capstone Project 18 - Olivetti Faces Case-Study**: https://colab.research.google.com/drive/1nzcoemVcvafgfnSGbMjLx9oAjFKBBv6h"
      ]
    },
    {
      "cell_type": "markdown",
      "metadata": {
        "id": "yNkJz3ZFZrzy"
      },
      "source": [
        "---"
      ]
    }
  ]
}